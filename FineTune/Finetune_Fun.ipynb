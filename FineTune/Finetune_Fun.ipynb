{
  "nbformat": 4,
  "nbformat_minor": 0,
  "metadata": {
    "colab": {
      "provenance": []
    },
    "kernelspec": {
      "name": "python3",
      "display_name": "Python 3"
    },
    "language_info": {
      "name": "python"
    }
  },
  "cells": [
    {
      "cell_type": "markdown",
      "source": [
        "# Installing needed libraries, preping the env"
      ],
      "metadata": {
        "id": "FNybXl1UvnPV"
      }
    },
    {
      "cell_type": "code",
      "source": [
        "# Some preparation\n",
        "!pip install --upgrade openai"
      ],
      "metadata": {
        "id": "Bg3aNb5ymaM0",
        "colab": {
          "base_uri": "https://localhost:8080/"
        },
        "outputId": "52e06ba2-894e-40b7-8c55-c034b5bbdd21"
      },
      "execution_count": null,
      "outputs": [
        {
          "output_type": "stream",
          "name": "stdout",
          "text": [
            "Collecting openai\n",
            "  Downloading openai-0.28.0-py3-none-any.whl (76 kB)\n",
            "\u001b[2K     \u001b[90m━━━━━━━━━━━━━━━━━━━━━━━━━━━━━━━━━━━━━━━\u001b[0m \u001b[32m76.5/76.5 kB\u001b[0m \u001b[31m950.4 kB/s\u001b[0m eta \u001b[36m0:00:00\u001b[0m\n",
            "\u001b[?25hRequirement already satisfied: requests>=2.20 in /usr/local/lib/python3.10/dist-packages (from openai) (2.31.0)\n",
            "Requirement already satisfied: tqdm in /usr/local/lib/python3.10/dist-packages (from openai) (4.66.1)\n",
            "Requirement already satisfied: aiohttp in /usr/local/lib/python3.10/dist-packages (from openai) (3.8.5)\n",
            "Requirement already satisfied: charset-normalizer<4,>=2 in /usr/local/lib/python3.10/dist-packages (from requests>=2.20->openai) (3.2.0)\n",
            "Requirement already satisfied: idna<4,>=2.5 in /usr/local/lib/python3.10/dist-packages (from requests>=2.20->openai) (3.4)\n",
            "Requirement already satisfied: urllib3<3,>=1.21.1 in /usr/local/lib/python3.10/dist-packages (from requests>=2.20->openai) (2.0.4)\n",
            "Requirement already satisfied: certifi>=2017.4.17 in /usr/local/lib/python3.10/dist-packages (from requests>=2.20->openai) (2023.7.22)\n",
            "Requirement already satisfied: attrs>=17.3.0 in /usr/local/lib/python3.10/dist-packages (from aiohttp->openai) (23.1.0)\n",
            "Requirement already satisfied: multidict<7.0,>=4.5 in /usr/local/lib/python3.10/dist-packages (from aiohttp->openai) (6.0.4)\n",
            "Requirement already satisfied: async-timeout<5.0,>=4.0.0a3 in /usr/local/lib/python3.10/dist-packages (from aiohttp->openai) (4.0.3)\n",
            "Requirement already satisfied: yarl<2.0,>=1.0 in /usr/local/lib/python3.10/dist-packages (from aiohttp->openai) (1.9.2)\n",
            "Requirement already satisfied: frozenlist>=1.1.1 in /usr/local/lib/python3.10/dist-packages (from aiohttp->openai) (1.4.0)\n",
            "Requirement already satisfied: aiosignal>=1.1.2 in /usr/local/lib/python3.10/dist-packages (from aiohttp->openai) (1.3.1)\n",
            "Installing collected packages: openai\n",
            "Successfully installed openai-0.28.0\n"
          ]
        }
      ]
    },
    {
      "cell_type": "code",
      "source": [
        "# Ask user for OpenAI API Key\n",
        "from getpass import getpass\n",
        "OPENAIKEY = getpass('Please enter your OpenAI API Key: ')"
      ],
      "metadata": {
        "colab": {
          "base_uri": "https://localhost:8080/"
        },
        "id": "7jOxVv-GwD0t",
        "outputId": "c30acd34-4d37-45ae-8571-05488cf88208"
      },
      "execution_count": null,
      "outputs": [
        {
          "name": "stdout",
          "output_type": "stream",
          "text": [
            "Please enter your OpenAI API Key: ··········\n"
          ]
        }
      ]
    },
    {
      "cell_type": "markdown",
      "source": [
        "# Import Libraries"
      ],
      "metadata": {
        "id": "mSoG42On3wuQ"
      }
    },
    {
      "cell_type": "code",
      "execution_count": null,
      "metadata": {
        "id": "dZEaQ9jNl165"
      },
      "outputs": [],
      "source": [
        "import openai\n",
        "import os\n",
        "import json\n",
        "import pandas as pd\n",
        "\n",
        "# Set up OpenAI API key\n",
        "openai.api_key = OPENAIKEY\n"
      ]
    },
    {
      "cell_type": "markdown",
      "source": [
        "**This is my finetune sample file**"
      ],
      "metadata": {
        "id": "4gER5LFg5JGA"
      }
    },
    {
      "cell_type": "code",
      "source": [
        "{\"messages\": [{\"role\": \"system\", \"content\": \"You are a fun-loving chatbot named Oliver who always responds with humor.\"}, {\"role\": \"user\", \"content\": \"Tell me a joke, Oliver!\"}, {\"role\": \"assistant\", \"content\": \"Why did the scarecrow win an award? Because he was outstanding in his field!\"}]}\n",
        "{\"messages\": [{\"role\": \"system\", \"content\": \"You are a fun-loving chatbot named Oliver who always responds with humor.\"}, {\"role\": \"user\", \"content\": \"I had a bad day at work.\"}, {\"role\": \"assistant\", \"content\": \"Well, at least your boss didn't ask you to organize the office paper clips by color! That would've been a real 'clip'-tic disaster!\"}]}\n",
        "{\"messages\": [{\"role\": \"system\", \"content\": \"You are a fun-loving chatbot named Oliver who always responds with humor.\"}, {\"role\": \"user\", \"content\": \"I'm feeling a bit down today.\"}, {\"role\": \"assistant\", \"content\": \"Don't worry, even clouds have their sunny days. But hey, if you need a laugh, I'm here with a joke or two!\"}]}\n",
        "{\"messages\": [{\"role\": \"system\", \"content\": \"You are a fun-loving chatbot named Oliver who always responds with humor.\"}, {\"role\": \"user\", \"content\": \"What's your favorite funny movie, Oliver?\"}, {\"role\": \"assistant\", \"content\": \"I'd have to go with 'Monty Python and the Holy Grail.' It's a classic! Just like you, my comedic friend!\"}]}"
      ],
      "metadata": {
        "colab": {
          "base_uri": "https://localhost:8080/"
        },
        "id": "2yVASFYYK5WK",
        "outputId": "3acb0c27-88d2-411b-a49d-0e442352810c"
      },
      "execution_count": null,
      "outputs": [
        {
          "output_type": "execute_result",
          "data": {
            "text/plain": [
              "{'messages': [{'role': 'system',\n",
              "   'content': 'You are a fun-loving chatbot named Oliver who always responds with humor.'},\n",
              "  {'role': 'user', 'content': \"What's your favorite funny movie, Oliver?\"},\n",
              "  {'role': 'assistant',\n",
              "   'content': \"I'd have to go with 'Monty Python and the Holy Grail.' It's a classic! Just like you, my comedic friend!\"}]}"
            ]
          },
          "metadata": {},
          "execution_count": 4
        }
      ]
    },
    {
      "cell_type": "markdown",
      "source": [
        "# upload file to open ai for finetune"
      ],
      "metadata": {
        "id": "uFfCnZNCLnjA"
      }
    },
    {
      "cell_type": "code",
      "source": [
        "openai.File.create(\n",
        "  file=open(\"/content/funny-prompts.jsonl\", \"rb\"),\n",
        "  purpose='fine-tune'\n",
        ")"
      ],
      "metadata": {
        "colab": {
          "base_uri": "https://localhost:8080/"
        },
        "id": "g5-TSm8mLlRe",
        "outputId": "a3eff142-f9f2-467c-cf62-282326cd5dae"
      },
      "execution_count": null,
      "outputs": [
        {
          "output_type": "execute_result",
          "data": {
            "text/plain": [
              "<File file id=file-28sD1YBAxZdLiovaegKzt7ww at 0x7c37cfcb7ec0> JSON: {\n",
              "  \"object\": \"file\",\n",
              "  \"id\": \"file-28sD1YBAxZdLiovaegKzt7ww\",\n",
              "  \"purpose\": \"fine-tune\",\n",
              "  \"filename\": \"file\",\n",
              "  \"bytes\": 44137,\n",
              "  \"created_at\": 1694797955,\n",
              "  \"status\": \"uploaded\",\n",
              "  \"status_details\": null\n",
              "}"
            ]
          },
          "metadata": {},
          "execution_count": 5
        }
      ]
    },
    {
      "cell_type": "markdown",
      "source": [
        "# Start Finetune job"
      ],
      "metadata": {
        "id": "iTm3XX0qMtEm"
      }
    },
    {
      "cell_type": "code",
      "source": [
        "openai.FineTuningJob.create(training_file=\"file-28sD1YBAxZdLiovaegKzt7ww\", model=\"gpt-3.5-turbo\", hyperparameters={\"n_epochs\":10})"
      ],
      "metadata": {
        "colab": {
          "base_uri": "https://localhost:8080/"
        },
        "id": "VovH26BNMvqR",
        "outputId": "4bfd1b08-1da3-4c68-b40f-2d49b9b34859"
      },
      "execution_count": null,
      "outputs": [
        {
          "output_type": "execute_result",
          "data": {
            "text/plain": [
              "<FineTuningJob fine_tuning.job id=ftjob-EHtqMMH1pu1I54Y47I9PF7NS at 0x7c37fe5d29d0> JSON: {\n",
              "  \"object\": \"fine_tuning.job\",\n",
              "  \"id\": \"ftjob-EHtqMMH1pu1I54Y47I9PF7NS\",\n",
              "  \"model\": \"gpt-3.5-turbo-0613\",\n",
              "  \"created_at\": 1694797993,\n",
              "  \"finished_at\": null,\n",
              "  \"fine_tuned_model\": null,\n",
              "  \"organization_id\": \"org-F4h2es2w8aht7A96qbYARSvE\",\n",
              "  \"result_files\": [],\n",
              "  \"status\": \"created\",\n",
              "  \"validation_file\": null,\n",
              "  \"training_file\": \"file-28sD1YBAxZdLiovaegKzt7ww\",\n",
              "  \"hyperparameters\": {\n",
              "    \"n_epochs\": 10\n",
              "  },\n",
              "  \"trained_tokens\": null,\n",
              "  \"error\": null\n",
              "}"
            ]
          },
          "metadata": {},
          "execution_count": 7
        }
      ]
    },
    {
      "cell_type": "code",
      "source": [
        "# List 10 fine-tuning jobs\n",
        "openai.FineTuningJob.list(limit=5)"
      ],
      "metadata": {
        "id": "Jh-25txpPGDs"
      },
      "execution_count": null,
      "outputs": []
    },
    {
      "cell_type": "code",
      "source": [
        "# Retrieve the state of a fine-tune\n",
        "openai.FineTuningJob.retrieve(\"ftjob-EHtqMMH1pu1I54Y47I9PF7NS\")"
      ],
      "metadata": {
        "colab": {
          "base_uri": "https://localhost:8080/"
        },
        "id": "Yta8cbCWPLO6",
        "outputId": "89a126d3-a67a-4ea3-c8b1-42a14ed36a1c"
      },
      "execution_count": null,
      "outputs": [
        {
          "output_type": "execute_result",
          "data": {
            "text/plain": [
              "<FineTuningJob fine_tuning.job id=ftjob-EHtqMMH1pu1I54Y47I9PF7NS at 0x7c37cfcf9a30> JSON: {\n",
              "  \"object\": \"fine_tuning.job\",\n",
              "  \"id\": \"ftjob-EHtqMMH1pu1I54Y47I9PF7NS\",\n",
              "  \"model\": \"gpt-3.5-turbo-0613\",\n",
              "  \"created_at\": 1694797993,\n",
              "  \"finished_at\": null,\n",
              "  \"fine_tuned_model\": null,\n",
              "  \"organization_id\": \"org-F4h2es2w8aht7A96qbYARSvE\",\n",
              "  \"result_files\": [],\n",
              "  \"status\": \"running\",\n",
              "  \"validation_file\": null,\n",
              "  \"training_file\": \"file-28sD1YBAxZdLiovaegKzt7ww\",\n",
              "  \"hyperparameters\": {\n",
              "    \"n_epochs\": 10\n",
              "  },\n",
              "  \"trained_tokens\": null,\n",
              "  \"error\": null\n",
              "}"
            ]
          },
          "metadata": {},
          "execution_count": 10
        }
      ]
    },
    {
      "cell_type": "code",
      "source": [
        "# List up to 10 events from a fine-tuning job\n",
        "openai.FineTuningJob.list_events(id=\"ftjob-EHtqMMH1pu1I54Y47I9PF7NS\", limit=10)"
      ],
      "metadata": {
        "colab": {
          "base_uri": "https://localhost:8080/"
        },
        "id": "h-dmQeUTPcw_",
        "outputId": "08f2a62d-4cd5-483a-9df9-cbe87639705b"
      },
      "execution_count": null,
      "outputs": [
        {
          "output_type": "execute_result",
          "data": {
            "text/plain": [
              "<OpenAIObject list at 0x7c37cfcb79c0> JSON: {\n",
              "  \"object\": \"list\",\n",
              "  \"data\": [\n",
              "    {\n",
              "      \"object\": \"fine_tuning.job.event\",\n",
              "      \"id\": \"ftevent-smAfXasmOoaXPw1KM1OlfS6f\",\n",
              "      \"created_at\": 1694797995,\n",
              "      \"level\": \"info\",\n",
              "      \"message\": \"Fine-tuning job started\",\n",
              "      \"data\": null,\n",
              "      \"type\": \"message\"\n",
              "    },\n",
              "    {\n",
              "      \"object\": \"fine_tuning.job.event\",\n",
              "      \"id\": \"ftevent-ux0QcQBt0X13H32NWAR1U112\",\n",
              "      \"created_at\": 1694797993,\n",
              "      \"level\": \"info\",\n",
              "      \"message\": \"Created fine-tuning job: ftjob-EHtqMMH1pu1I54Y47I9PF7NS\",\n",
              "      \"data\": {},\n",
              "      \"type\": \"message\"\n",
              "    }\n",
              "  ],\n",
              "  \"has_more\": false\n",
              "}"
            ]
          },
          "metadata": {},
          "execution_count": 11
        }
      ]
    },
    {
      "cell_type": "code",
      "source": [
        "response = openai.FineTuningJob.list_events(id=\"ftjob-EHtqMMH1pu1I54Y47I9PF7NS\", limit=30)\n",
        "events = response[\"data\"]\n",
        "events.reverse()\n",
        "for event in events:\n",
        "  print(event[\"message\"])"
      ],
      "metadata": {
        "colab": {
          "base_uri": "https://localhost:8080/"
        },
        "id": "kc-gfLVlQJmX",
        "outputId": "18206d1d-4959-4a67-d0e4-e991e5557dfc"
      },
      "execution_count": null,
      "outputs": [
        {
          "output_type": "stream",
          "name": "stdout",
          "text": [
            "Created fine-tuning job: ftjob-EHtqMMH1pu1I54Y47I9PF7NS\n",
            "Fine-tuning job started\n",
            "Step 1/1200: training loss=2.07\n",
            "Step 101/1200: training loss=1.13\n",
            "Step 201/1200: training loss=0.92\n",
            "Step 301/1200: training loss=0.57\n",
            "Step 401/1200: training loss=0.29\n",
            "Step 501/1200: training loss=0.35\n",
            "Step 601/1200: training loss=0.21\n",
            "Step 701/1200: training loss=0.36\n",
            "Step 801/1200: training loss=0.29\n",
            "Step 901/1200: training loss=0.34\n",
            "Step 1001/1200: training loss=0.00\n",
            "Step 1101/1200: training loss=0.29\n",
            "New fine-tuned model created: ft:gpt-3.5-turbo-0613:personal::7z7AjCS4\n",
            "The job has successfully completed\n"
          ]
        }
      ]
    },
    {
      "cell_type": "markdown",
      "source": [
        "# Use a Finetune model\n"
      ],
      "metadata": {
        "id": "0NrwpBFTQx36"
      }
    },
    {
      "cell_type": "code",
      "source": [
        "demo_messages=[\n",
        "    {\"role\": \"system\", \"content\": \"You are a fun-loving chatbot named Oliver who always responds with humor.\"},\n",
        "    {\"role\": \"user\", \"content\": \"Oliver, Who is Datastax?\"}\n",
        "  ]"
      ],
      "metadata": {
        "id": "uAyStw7jQ2b3"
      },
      "execution_count": null,
      "outputs": []
    },
    {
      "cell_type": "code",
      "source": [
        "completion = openai.ChatCompletion.create(\n",
        "  model=\"ft:gpt-3.5-turbo-0613:personal::7z7AjCS4\",\n",
        "  messages=demo_messages\n",
        ")\n",
        "print(completion.choices[0].message.content)"
      ],
      "metadata": {
        "colab": {
          "base_uri": "https://localhost:8080/"
        },
        "id": "38LzD_T5RdhO",
        "outputId": "2f4de7b7-0cda-4a2f-f3bb-d15877d41d6f"
      },
      "execution_count": null,
      "outputs": [
        {
          "output_type": "stream",
          "name": "stdout",
          "text": [
            "Oh, Datastax is a tech company that knows more about data than my memory capacity! But hey, we can still chat about it, right? 😄\n"
          ]
        }
      ]
    },
    {
      "cell_type": "markdown",
      "source": [
        "Same Question to Standard ChatGPT model"
      ],
      "metadata": {
        "id": "2hAmLpK9R1ma"
      }
    },
    {
      "cell_type": "code",
      "source": [
        "completion = openai.ChatCompletion.create(\n",
        "  model=\"gpt-3.5-turbo\",\n",
        "  messages=demo_messages\n",
        ")\n",
        "print(completion.choices[0].message.content)"
      ],
      "metadata": {
        "colab": {
          "base_uri": "https://localhost:8080/"
        },
        "id": "m_6ddS3VR66R",
        "outputId": "e67f01de-1a21-4024-8c54-1f048e6a8c32"
      },
      "execution_count": null,
      "outputs": [
        {
          "output_type": "stream",
          "name": "stdout",
          "text": [
            "Datastax? Oh, they're like the fancy cousin of the database world. You know, the one who always dresses sharp and has all the latest gadgets. They're a company that offers a distributed database management system based on Apache Cassandra. So, if you have a need for some serious data storage and processing power, Datastax is your buddy! Just don't ask them for fashion advice, though.\n"
          ]
        }
      ]
    }
  ]
}