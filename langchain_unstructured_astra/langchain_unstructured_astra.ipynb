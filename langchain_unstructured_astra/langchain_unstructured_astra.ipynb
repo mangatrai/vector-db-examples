{
  "cells": [
    {
      "cell_type": "markdown",
      "metadata": {
        "id": "0vfMCpUDvbmg"
      },
      "source": [
        "# Using Unstructured with LangChain & AstraDB"
      ]
    },
    {
      "cell_type": "markdown",
      "metadata": {
        "id": "dafCjAVxvbmh"
      },
      "source": [
        "In this notebook, we show a basic RAG-style example that uses the Unstructured API to parse a PDF document, store the corresponding document into a vector store (`AstraDB`) and finally, perform some basic queries against that store. The notebook is modeled after the quick start notebooks and hence is meant as a way of getting started with Unstructured, backed by a vector database.\n",
        "\n",
        "To use Unstructured, you need an API key. Sign-up for one here: https://unstructured.io/api-key-hosted. A key will be emailed to you."
      ]
    },
    {
      "cell_type": "markdown",
      "metadata": {
        "id": "ZKb39XCcvbmi"
      },
      "source": [
        "### Requirements"
      ]
    },
    {
      "cell_type": "code",
      "execution_count": 1,
      "metadata": {
        "ExecuteTime": {
          "end_time": "2024-02-13T11:48:33.967092Z",
          "start_time": "2024-02-13T11:47:41.568768Z"
        },
        "editable": true,
        "id": "OY2iw_j6vbmi",
        "tags": []
      },
      "outputs": [],
      "source": [
        "# First, install the required dependencies\n",
        "! pip3 install --quiet ragstack-ai"
      ]
    },
    {
      "cell_type": "markdown",
      "metadata": {
        "id": "-f3XvJgjvbmi"
      },
      "source": [
        "### Configuration"
      ]
    },
    {
      "cell_type": "code",
      "execution_count": 2,
      "metadata": {
        "ExecuteTime": {
          "end_time": "2024-02-13T11:59:43.987486Z",
          "start_time": "2024-02-13T11:56:57.909870Z"
        },
        "editable": true,
        "id": "k1EPPQVfvbmi",
        "tags": [
          "skip-execution"
        ]
      },
      "outputs": [],
      "source": [
        "import os\n",
        "from getpass import getpass\n",
        "\n",
        "os.environ[\"UNSTRUCTURED_API_KEY\"] = getpass(\"Enter your Unstructured API Key:\")\n",
        "os.environ[\"ASTRA_DB_ENDPOINT\"] = input(\"Enter you Astra DB API Endpoint: \")\n",
        "os.environ[\"ASTRA_DB_TOKEN\"] = getpass(\"Enter you Astra DB Token: \")\n",
        "os.environ[\"OPENAI_API_KEY\"] = getpass(\"Enter your OpenAI API Key: \")"
      ]
    },
    {
      "cell_type": "markdown",
      "metadata": {
        "id": "1txOJegEvbmi"
      },
      "source": [
        "### Using the Unstructured API to parse a PDF\n",
        "\n",
        "In this example notebook, we'll focus our analysis on pages 9 and 10 of the referenced paper, available at https://arxiv.org/pdf/1706.03762.pdf, to limit API usage."
      ]
    },
    {
      "cell_type": "markdown",
      "metadata": {},
      "source": []
    },
    {
      "cell_type": "markdown",
      "metadata": {
        "id": "bdjtM33Ovbmj"
      },
      "source": [
        "#### Simple Parsing\n",
        "\n",
        "First we will start with the most basic parsing mode. This works well if your document doesn't contain any complex formatting or tables."
      ]
    },
    {
      "cell_type": "code",
      "execution_count": 3,
      "metadata": {
        "ExecuteTime": {
          "end_time": "2024-02-13T12:05:20.215552Z",
          "start_time": "2024-02-13T12:05:15.721697Z"
        },
        "id": "SI5zQDQYvbmj",
        "outputId": "cf503b5e-cce4-4cb7-d2f6-f9d078fc280a"
      },
      "outputs": [
        {
          "data": {
            "text/plain": [
              "1"
            ]
          },
          "execution_count": 3,
          "metadata": {},
          "output_type": "execute_result"
        }
      ],
      "source": [
        "from langchain_community.document_loaders import UnstructuredAPIFileLoader\n",
        "import os\n",
        "\n",
        "loader = UnstructuredAPIFileLoader(\n",
        "    file_path=\"./data/1706.03762.pdf\",\n",
        "    api_key=os.getenv(\"UNSTRUCTURED_API_KEY\"),\n",
        ")\n",
        "simple_docs = loader.load()\n",
        "len(simple_docs)"
      ]
    },
    {
      "cell_type": "markdown",
      "metadata": {
        "id": "yK2BgwRhvbmj"
      },
      "source": [
        "By default, the parser returns 1 document per pdf file.  Lets examine some the contents of the document:"
      ]
    },
    {
      "cell_type": "code",
      "execution_count": 4,
      "metadata": {
        "id": "mU1xMWQjvbmj",
        "outputId": "9b6dc4ce-8cd8-47fa-f111-a1a4bd4af5af"
      },
      "outputs": [
        {
          "name": "stdout",
          "output_type": "stream",
          "text": [
            "3 2 0 2\n",
            "\n",
            "g u A 2\n",
            "\n",
            "] L C . s c [\n",
            "\n",
            "7 v 2 6 7 3 0 . 6 0 7 1 : v i X r a\n",
            "\n",
            "Provided proper attribution is provided, Google hereby grants permission to reproduce the tables and figures in this paper solely for use in journalistic or scholarly works.\n",
            "\n",
            "Attention Is All You Need\n",
            "\n",
            "Ashish Vaswani∗ Google Brain avaswani@google.com\n",
            "\n",
            "Noam Shazeer∗ Google Brain noam@google.com\n",
            "\n",
            "Niki Parmar∗ Google Research nikip\n"
          ]
        }
      ],
      "source": [
        "print(simple_docs[0].page_content[0:400])"
      ]
    },
    {
      "cell_type": "markdown",
      "metadata": {
        "id": "I5bGWL3Kvbmj"
      },
      "source": [
        "This sample of the document contents shows the first table's description, and the start of a very poorly formatted table."
      ]
    },
    {
      "cell_type": "markdown",
      "metadata": {
        "id": "ovCFK8OVvbmj"
      },
      "source": [
        "#### Advanced Parsing\n",
        "\n",
        "By changing the processing strategy and response mode, we can get more detailed document structure. Unstructured can break the document into elements of different types, which can be helpful for improving your RAG system.\n",
        "\n",
        "For example, the `Table` element type includes the table formatted as simple html, which can help the LLM answer questions from the table data, and we could exclude elements of type `Footer` from our vector store.\n",
        "\n",
        "A list of all the different element types can be found here: https://unstructured-io.github.io/unstructured/introduction/overview.html#id1\n",
        "\n",
        "Returned metadata can also be helpful. For example, the `page_number` of the pdf input, and a `parent_id` property which helps define nesting of text sections."
      ]
    },
    {
      "cell_type": "code",
      "execution_count": 5,
      "metadata": {
        "id": "lbxxypdbvbmk",
        "outputId": "b53fd611-4d0b-47f3-d708-df46686b9c92"
      },
      "outputs": [
        {
          "data": {
            "text/plain": [
              "194"
            ]
          },
          "execution_count": 5,
          "metadata": {},
          "output_type": "execute_result"
        }
      ],
      "source": [
        "from langchain_community.document_loaders import unstructured\n",
        "\n",
        "elements = unstructured.get_elements_from_api(\n",
        "    file_path=\"./data/1706.03762.pdf\",\n",
        "    api_key=os.getenv(\"UNSTRUCTURED_API_KEY\"),\n",
        "    strategy=\"hi_res\", # default \"auto\"\n",
        "    pdf_infer_table_structure=True,\n",
        ")\n",
        "\n",
        "len(elements)"
      ]
    },
    {
      "cell_type": "markdown",
      "metadata": {
        "id": "On-Ys8Kavbmk"
      },
      "source": [
        "Instead of a single document returned from the pdf, we now have 27 elements. Below, we use element type and `parent_id` to show a clearer representation of the document structure."
      ]
    },
    {
      "cell_type": "code",
      "execution_count": 7,
      "metadata": {
        "id": "VIKojituvbmk",
        "outputId": "7ecd9b86-41e3-46a1-a23c-0e6bf0e90580"
      },
      "outputs": [
        {
          "name": "stdout",
          "output_type": "stream",
          "text": [
            "3 2 0 2 g u A 2 ] L C . s c [ 7 v 2 6 7 3 0 . 6 0 7 1 : v i X r a\n",
            "parent: '3 2 0 2 g u A 2 ] L C . s c [ 7 v 2 6 7 3 0 . 6 0 7 1 : v i X r a' content: Provided proper attribution is provided, Google hereby grants permission to reproduce the tables and figures in this paper solely for use in journalistic or scholarly works.\n",
            "parent: '3 2 0 2 g u A 2 ] L C . s c [ 7 v 2 6 7 3 0 . 6 0 7 1 : v i X r a' content: Attention Is All You Need\n",
            "parent: 'Attention Is All You Need' content: Ashish Vaswani∗ Google Brain avaswani@google.com\n",
            "parent: 'Attention Is All You Need' content: Noam Shazeer∗ Google Brain noam@google.com\n",
            "parent: 'Attention Is All You Need' content: Niki Parmar∗ Google Research nikip@google.com\n",
            "parent: 'Attention Is All You Need' content: Jakob Uszkoreit∗ Google Research usz@google.com\n",
            "parent: 'Attention Is All You Need' content: Llion Jones∗ Google Research llion@google.com\n",
            "parent: 'Attention Is All You Need' content: Aidan N. Gomez∗ † University of Toronto aidan@cs.toronto.edu\n",
            "parent: 'Attention Is All You Need' content: Łukasz Kaiser∗ Google Brain lukaszkaiser@google.com\n",
            "parent: '3 2 0 2 g u A 2 ] L C . s c [ 7 v 2 6 7 3 0 . 6 0 7 1 : v i X r a' content: Illia Polosukhin∗ ‡ illia.polosukhin@gmail.com\n",
            "parent: '3 2 0 2 g u A 2 ] L C . s c [ 7 v 2 6 7 3 0 . 6 0 7 1 : v i X r a' content: Abstract\n",
            "parent: 'Abstract' content: The dominant sequence transduction models are based on complex recurrent or convolutional neural networks that include an encoder and a decoder. The best performing models also connect the encoder and decoder through an attention mechanism. We propose a new simple network architecture, the Transformer, based solely on attention mechanisms, dispensing with recurrence and convolutions entirely. Experiments on two machine translation tasks show these models to be superior in quality while being more parallelizable and requiring significantly less time to train. Our model achieves 28.4 BLEU on the WMT 2014 English- to-German translation task, improving over the existing best results, including ensembles, by over 2 BLEU. On the WMT 2014 English-to-French translation task, our model establishes a new single-model state-of-the-art BLEU score of 41.8 after training for 3.5 days on eight GPUs, a small fraction of the training costs of the best models from the literature. We show that the Transformer generalizes well to other tasks by applying it successfully to English constituency parsing both with large and limited training data.\n",
            "parent: 'Abstract' content: ∗Equal contribution. Listing order is random. Jakob proposed replacing RNNs with self-attention and started the effort to evaluate this idea. Ashish, with Illia, designed and implemented the first Transformer models and has been crucially involved in every aspect of this work. Noam proposed scaled dot-product attention, multi-head attention and the parameter-free position representation and became the other person involved in nearly every detail. Niki designed, implemented, tuned and evaluated countless model variants in our original codebase and tensor2tensor. Llion also experimented with novel model variants, was responsible for our initial codebase, and efficient inference and visualizations. Lukasz and Aidan spent countless long days designing various parts of and implementing tensor2tensor, replacing our earlier codebase, greatly improving results and massively accelerating our research.\n",
            "parent: 'Abstract' content: †Work performed while at Google Brain. ‡Work performed while at Google Research.\n",
            "parent: 'Abstract' content: 31st Conference on Neural Information Processing Systems (NIPS 2017), Long Beach, CA, USA.\n",
            "parent: '3 2 0 2 g u A 2 ] L C . s c [ 7 v 2 6 7 3 0 . 6 0 7 1 : v i X r a' content: 1 Introduction\n",
            "parent: '1 Introduction' content: Recurrent neural networks, long short-term memory [13] and gated recurrent [7] neural networks in particular, have been firmly established as state of the art approaches in sequence modeling and transduction problems such as language modeling and machine translation [35, 2, 5]. Numerous efforts have since continued to push the boundaries of recurrent language models and encoder-decoder architectures [38, 24, 15].\n",
            "parent: '1 Introduction' content: Recurrent models typically factor computation along the symbol positions of the input and output sequences. Aligning the positions to steps in computation time, they generate a sequence of hidden states ht, as a function of the previous hidden state ht−1 and the input for position t. This inherently sequential nature precludes parallelization within training examples, which becomes critical at longer sequence lengths, as memory constraints limit batching across examples. Recent work has achieved significant improvements in computational efficiency through factorization tricks [21] and conditional computation [32], while also improving model performance in case of the latter. The fundamental constraint of sequential computation, however, remains.\n",
            "parent: '1 Introduction' content: Attention mechanisms have become an integral part of compelling sequence modeling and transduc- tion models in various tasks, allowing modeling of dependencies without regard to their distance in the input or output sequences [2, 19]. In all but a few cases [27], however, such attention mechanisms are used in conjunction with a recurrent network.\n",
            "parent: '1 Introduction' content: In this work we propose the Transformer, a model architecture eschewing recurrence and instead relying entirely on an attention mechanism to draw global dependencies between input and output. The Transformer allows for significantly more parallelization and can reach a new state of the art in translation quality after being trained for as little as twelve hours on eight P100 GPUs.\n",
            "parent: '3 2 0 2 g u A 2 ] L C . s c [ 7 v 2 6 7 3 0 . 6 0 7 1 : v i X r a' content: 2 Background\n",
            "parent: '2 Background' content: The goal of reducing sequential computation also forms the foundation of the Extended Neural GPU [16], ByteNet [18] and ConvS2S [9], all of which use convolutional neural networks as basic building block, computing hidden representations in parallel for all input and output positions. In these models, the number of operations required to relate signals from two arbitrary input or output positions grows in the distance between positions, linearly for ConvS2S and logarithmically for ByteNet. This makes it more difficult to learn dependencies between distant positions [12]. In the Transformer this is reduced to a constant number of operations, albeit at the cost of reduced effective resolution due to averaging attention-weighted positions, an effect we counteract with Multi-Head Attention as described in section 3.2.\n",
            "parent: '2 Background' content: Self-attention, sometimes called intra-attention is an attention mechanism relating different positions of a single sequence in order to compute a representation of the sequence. Self-attention has been used successfully in a variety of tasks including reading comprehension, abstractive summarization, textual entailment and learning task-independent sentence representations [4, 27, 28, 22].\n",
            "parent: '2 Background' content: End-to-end memory networks are based on a recurrent attention mechanism instead of sequence- aligned recurrence and have been shown to perform well on simple-language question answering and language modeling tasks [34].\n",
            "parent: '2 Background' content: To the best of our knowledge, however, the Transformer is the first transduction model relying entirely on self-attention to compute representations of its input and output without using sequence- aligned RNNs or convolution. In the following sections, we will describe the Transformer, motivate self-attention and discuss its advantages over models such as [17, 18] and [9].\n",
            "parent: '3 2 0 2 g u A 2 ] L C . s c [ 7 v 2 6 7 3 0 . 6 0 7 1 : v i X r a' content: 3 Model Architecture\n",
            "parent: '3 Model Architecture' content: Most competitive neural sequence transduction models have an encoder-decoder structure [5, 2, 35]. Here, the encoder maps an input sequence of symbol representations (x1, ..., xn) to a sequence of continuous representations z = (z1, ..., zn). Given z, the decoder then generates an output sequence (y1, ..., ym) of symbols one element at a time. At each step the model is auto-regressive [10], consuming the previously generated symbols as additional input when generating the next.\n",
            "2\n",
            "Output Probabilities Add & Norm Feed Forward Add & Norm Multi-Head Attention } ) Add & Norm Add & Norm Feed Forward N | ~(AddE Norm ) Add & Norm Masked Multi-Head Multi-Head Attention Attention 1 1 Positional Positional Encoding e 5% e Encoding Input Output Embedding Embedding Inputs Outputs (shifted right)\n",
            "Figure 1: The Transformer - model architecture.\n",
            "The Transformer follows this overall architecture using stacked self-attention and point-wise, fully connected layers for both the encoder and decoder, shown in the left and right halves of Figure 1, respectively.\n",
            "3.1 Encoder and Decoder Stacks\n",
            "parent: '3.1 Encoder and Decoder Stacks' content: Encoder: The encoder is composed of a stack of N = 6 identical layers. Each layer has two sub-layers. The first is a multi-head self-attention mechanism, and the second is a simple, position- wise fully connected feed-forward network. We employ a residual connection [11] around each of the two sub-layers, followed by layer normalization [1]. That is, the output of each sub-layer is LayerNorm(x + Sublayer(x)), where Sublayer(x) is the function implemented by the sub-layer itself. To facilitate these residual connections, all sub-layers in the model, as well as the embedding layers, produce outputs of dimension dmodel = 512.\n",
            "parent: '3.1 Encoder and Decoder Stacks' content: Decoder: The decoder is also composed of a stack of N = 6 identical layers. In addition to the two sub-layers in each encoder layer, the decoder inserts a third sub-layer, which performs multi-head attention over the output of the encoder stack. Similar to the encoder, we employ residual connections around each of the sub-layers, followed by layer normalization. We also modify the self-attention sub-layer in the decoder stack to prevent positions from attending to subsequent positions. This masking, combined with fact that the output embeddings are offset by one position, ensures that the predictions for position i can depend only on the known outputs at positions less than i.\n",
            "3.2 Attention\n",
            "parent: '3.2 Attention' content: An attention function can be described as mapping a query and a set of key-value pairs to an output, where the query, keys, values, and output are all vectors. The output is computed as a weighted sum\n",
            "3\n",
            "Scaled Dot-Product Attention  Multi-Head Attention \n",
            "Linear\n",
            "\n",
            "Figure 2: (left) Scaled Dot-Product Attention. (right) Multi-Head Attention consists of several attention layers running in parallel.\n",
            "of the values, where the weight assigned to each value is computed by a compatibility function of the query with the corresponding key.\n",
            "3.2.1 Scaled Dot-Product Attention\n",
            "parent: '3.2.1 Scaled Dot-Product Attention' content: We call our particular attention \"Scaled Dot-Product Attention\" (Figure 2). The input consists of queries and keys of dimension dk, and values of dimension dv. We compute the dot products of the dk, and apply a softmax function to obtain the weights on the query with all keys, divide each by values.\n",
            "parent: '3.2.1 Scaled Dot-Product Attention' content: In practice, we compute the attention function on a set of queries simultaneously, packed together into a matrix Q. The keys and values are also packed together into matrices K and V . We compute the matrix of outputs as:\n",
            "Attention(Q, K, V ) = softmax( QK T √ dk )V (1)\n",
            "The two most commonly used attention functions are additive attention [2], and dot-product (multi- plicative) attention. Dot-product attention is identical to our algorithm, except for the scaling factor . Additive attention computes the compatibility function using a feed-forward network with of a single hidden layer. While the two are similar in theoretical complexity, dot-product attention is much faster and more space-efficient in practice, since it can be implemented using highly optimized matrix multiplication code.\n",
            "While for small values of dk the two mechanisms perform similarly, additive attention outperforms dot product attention without scaling for larger values of dk [3]. We suspect that for large values of dk, the dot products grow large in magnitude, pushing the softmax function into regions where it has extremely small gradients 4. To counteract this effect, we scale the dot products by 1√ dk\n",
            "3.2.2 Multi-Head Attention\n",
            "parent: '3.2.2 Multi-Head Attention' content: Instead of performing a single attention function with dmodel-dimensional keys, values and queries, we found it beneficial to linearly project the queries, keys and values h times with different, learned linear projections to dk, dk and dv dimensions, respectively. On each of these projected versions of queries, keys and values we then perform the attention function in parallel, yielding dv-dimensional\n",
            "parent: '3.2.2 Multi-Head Attention' content: 4To illustrate why the dot products get large, assume that the components of q and k are independent random i=1 qiki, has mean 0 and variance dk.\n",
            "4\n",
            "output values. These are concatenated and once again projected, resulting in the final values, as depicted in Figure 2.\n",
            "Multi-head attention allows the model to jointly attend to information from different representation subspaces at different positions. With a single attention head, averaging inhibits this.\n",
            "MultiHead(Q, K, V ) = Concat(head1, ..., headh)W O\n",
            "where headi = Attention(QW Q\n",
            "parent: 'where headi = Attention(QW Q' content: where headi = Attention(QW Q i , KW K i , V W V i )\n",
            "i , KW K i\n",
            "parent: 'i , KW K i' content: Where the projections are parameter matrices W Q and W O ∈ Rhdv×dmodel. i ∈ Rdmodel×dk , W K i ∈ Rdmodel×dk , W V i ∈ Rdmodel×dv\n",
            "parent: 'i , KW K i' content: In this work we employ h = 8 parallel attention layers, or heads. For each of these we use dk = dv = dmodel/h = 64. Due to the reduced dimension of each head, the total computational cost is similar to that of single-head attention with full dimensionality.\n",
            "3.2.3 Applications of Attention in our Model\n",
            "parent: '3.2.3 Applications of Attention in our Model' content: The Transformer uses multi-head attention in three different ways:\n",
            "parent: '3.2.3 Applications of Attention in our Model' content: • In \"encoder-decoder attention\" layers, the queries come from the previous decoder layer, and the memory keys and values come from the output of the encoder. This allows every position in the decoder to attend over all positions in the input sequence. This mimics the typical encoder-decoder attention mechanisms in sequence-to-sequence models such as [38, 2, 9].\n",
            "parent: '3.2.3 Applications of Attention in our Model' content: • The encoder contains self-attention layers. In a self-attention layer all of the keys, values and queries come from the same place, in this case, the output of the previous layer in the encoder. Each position in the encoder can attend to all positions in the previous layer of the encoder.\n",
            "parent: '3.2.3 Applications of Attention in our Model' content: • Similarly, self-attention layers in the decoder allow each position in the decoder to attend to all positions in the decoder up to and including that position. We need to prevent leftward information flow in the decoder to preserve the auto-regressive property. We implement this inside of scaled dot-product attention by masking out (setting to −∞) all values in the input of the softmax which correspond to illegal connections. See Figure 2.\n",
            "3.3 Position-wise Feed-Forward Networks\n",
            "parent: '3.3 Position-wise Feed-Forward Networks' content: In addition to attention sub-layers, each of the layers in our encoder and decoder contains a fully connected feed-forward network, which is applied to each position separately and identically. This consists of two linear transformations with a ReLU activation in between.\n",
            "FFN(x) = max(0, xW1 + b1)W2 + b2\n",
            "While the linear transformations are the same across different positions, they use different parameters from layer to layer. Another way of describing this is as two convolutions with kernel size 1. The dimensionality of input and output is dmodel = 512, and the inner-layer has dimensionality df f = 2048.\n",
            "3.4 Embeddings and Softmax\n",
            "parent: '3.4 Embeddings and Softmax' content: Similarly to other sequence transduction models, we use learned embeddings to convert the input tokens and output tokens to vectors of dimension dmodel. We also use the usual learned linear transfor- mation and softmax function to convert the decoder output to predicted next-token probabilities. In our model, we share the same weight matrix between the two embedding layers and the pre-softmax dmodel. linear transformation, similar to [30]. In the embedding layers, we multiply those weights by\n",
            "5\n",
            "(2)\n",
            "Table 1: Maximum path lengths, per-layer complexity and minimum number of sequential operations for different layer types. n is the sequence length, d is the representation dimension, k is the kernel size of convolutions and r the size of the neighborhood in restricted self-attention.\n"
          ]
        },
        {
          "data": {
            "text/html": [
              "<table><thead><th>Layer Type</th><th>Complexity per Layer</th><th>Sequential Operations</th><th>Maximum Path Length</th></thead><tr><td>Self-Attention</td><td>O(n?-d)</td><td>0o(1)</td><td>0o(1)</td></tr><tr><td>Recurrent</td><td>O(n-d?)</td><td>O(n)</td><td>O(n)</td></tr><tr><td>Convolutional</td><td>O(k-n-d?)</td><td>()(1)</td><td>O(logk(n))</td></tr><tr><td>Self-Attention (restricted)</td><td>O(r-n-d)</td><td>0(1)</td><td>O(n/r)</td></tr></table>"
            ],
            "text/plain": [
              "<IPython.core.display.HTML object>"
            ]
          },
          "metadata": {},
          "output_type": "display_data"
        },
        {
          "name": "stdout",
          "output_type": "stream",
          "text": [
            "3.5 Positional Encoding\n",
            "parent: '3.5 Positional Encoding' content: Since our model contains no recurrence and no convolution, in order for the model to make use of the order of the sequence, we must inject some information about the relative or absolute position of the tokens in the sequence. To this end, we add \"positional encodings\" to the input embeddings at the bottoms of the encoder and decoder stacks. The positional encodings have the same dimension dmodel as the embeddings, so that the two can be summed. There are many choices of positional encodings, learned and fixed [9].\n",
            "parent: '3.5 Positional Encoding' content: In this work, we use sine and cosine functions of different frequencies:\n",
            "P E(pos,2i) = sin(pos/100002i/dmodel) P E(pos,2i+1) = cos(pos/100002i/dmodel)\n",
            "where pos is the position and i is the dimension. That is, each dimension of the positional encoding corresponds to a sinusoid. The wavelengths form a geometric progression from 2π to 10000 · 2π. We chose this function because we hypothesized it would allow the model to easily learn to attend by relative positions, since for any fixed offset k, P Epos+k can be represented as a linear function of P Epos.\n",
            "We also experimented with using learned positional embeddings [9] instead, and found that the two versions produced nearly identical results (see Table 3 row (E)). We chose the sinusoidal version because it may allow the model to extrapolate to sequence lengths longer than the ones encountered during training.\n",
            "4 Why Self-Attention\n",
            "parent: '4 Why Self-Attention' content: In this section we compare various aspects of self-attention layers to the recurrent and convolu- tional layers commonly used for mapping one variable-length sequence of symbol representations (x1, ..., xn) to another sequence of equal length (z1, ..., zn), with xi, zi ∈ Rd, such as a hidden layer in a typical sequence transduction encoder or decoder. Motivating our use of self-attention we consider three desiderata.\n",
            "parent: '4 Why Self-Attention' content: One is the total computational complexity per layer. Another is the amount of computation that can be parallelized, as measured by the minimum number of sequential operations required.\n",
            "parent: '4 Why Self-Attention' content: The third is the path length between long-range dependencies in the network. Learning long-range dependencies is a key challenge in many sequence transduction tasks. One key factor affecting the ability to learn such dependencies is the length of the paths forward and backward signals have to traverse in the network. The shorter these paths between any combination of positions in the input and output sequences, the easier it is to learn long-range dependencies [12]. Hence we also compare the maximum path length between any two input and output positions in networks composed of the different layer types.\n",
            "parent: '4 Why Self-Attention' content: As noted in Table 1, a self-attention layer connects all positions with a constant number of sequentially executed operations, whereas a recurrent layer requires O(n) sequential operations. In terms of computational complexity, self-attention layers are faster than recurrent layers when the sequence\n",
            "6\n",
            "length n is smaller than the representation dimensionality d, which is most often the case with sentence representations used by state-of-the-art models in machine translations, such as word-piece [38] and byte-pair [31] representations. To improve computational performance for tasks involving very long sequences, self-attention could be restricted to considering only a neighborhood of size r in the input sequence centered around the respective output position. This would increase the maximum path length to O(n/r). We plan to investigate this approach further in future work.\n",
            "A single convolutional layer with kernel width k < n does not connect all pairs of input and output positions. Doing so requires a stack of O(n/k) convolutional layers in the case of contiguous kernels, or O(logk(n)) in the case of dilated convolutions [18], increasing the length of the longest paths between any two positions in the network. Convolutional layers are generally more expensive than recurrent layers, by a factor of k. Separable convolutions [6], however, decrease the complexity considerably, to O(k · n · d + n · d2). Even with k = n, however, the complexity of a separable convolution is equal to the combination of a self-attention layer and a point-wise feed-forward layer, the approach we take in our model.\n",
            "As side benefit, self-attention could yield more interpretable models. We inspect attention distributions from our models and present and discuss examples in the appendix. Not only do individual attention heads clearly learn to perform different tasks, many appear to exhibit behavior related to the syntactic and semantic structure of the sentences.\n",
            "5 Training\n",
            "parent: '5 Training' content: This section describes the training regime for our models.\n",
            "5.1 Training Data and Batching\n",
            "parent: '5.1 Training Data and Batching' content: We trained on the standard WMT 2014 English-German dataset consisting of about 4.5 million sentence pairs. Sentences were encoded using byte-pair encoding [3], which has a shared source- target vocabulary of about 37000 tokens. For English-French, we used the significantly larger WMT 2014 English-French dataset consisting of 36M sentences and split tokens into a 32000 word-piece vocabulary [38]. Sentence pairs were batched together by approximate sequence length. Each training batch contained a set of sentence pairs containing approximately 25000 source tokens and 25000 target tokens.\n",
            "5.2 Hardware and Schedule\n",
            "parent: '5.2 Hardware and Schedule' content: We trained our models on one machine with 8 NVIDIA P100 GPUs. For our base models using the hyperparameters described throughout the paper, each training step took about 0.4 seconds. We trained the base models for a total of 100,000 steps or 12 hours. For our big models,(described on the bottom line of table 3), step time was 1.0 seconds. The big models were trained for 300,000 steps (3.5 days).\n",
            "5.3 Optimizer\n",
            "parent: '5.3 Optimizer' content: We used the Adam optimizer [20] with β1 = 0.9, β2 = 0.98 and ϵ = 10−9. We varied the learning rate over the course of training, according to the formula:\n",
            "lrate = d−0.5 model · min(step_num−0.5, step_num · warmup_steps−1.5)\n",
            "This corresponds to increasing the learning rate linearly for the first warmup_steps training steps, and decreasing it thereafter proportionally to the inverse square root of the step number. We used warmup_steps = 4000.\n",
            "5.4 Regularization\n",
            "parent: '5.4 Regularization' content: We employ three types of regularization during training:\n",
            "7\n",
            "(3)\n",
            "Table 2: The Transformer achieves better BLEU scores than previous state-of-the-art models on the English-to-German and English-to-French newstest2014 tests at a fraction of the training cost.\n"
          ]
        },
        {
          "data": {
            "text/html": [
              "<table><thead><th rowspan=\"2\">Model</th><th colspan=\"2\">BLEU</th><th colspan=\"2\">Training Cost (FLOPs)</th></thead><thead><th></th><th>EN-DE</th><th>EN-FR</th><th>EN-DE</th><th>EN-FR</th></thead><tr><td colspan=\"5\">ByteNet [18] 2375</td></tr><tr><td>Deep-Att + PosUnk</td><td></td><td>39.2</td><td></td><td>1.0-10%</td></tr><tr><td>GNMT + RL [38]</td><td>24.6</td><td>39.92</td><td>2.3-10°</td><td>1.4-10%</td></tr><tr><td>ConvS2S [9]</td><td>25.16</td><td>40.46</td><td>9.6-10®</td><td>1.5-10%</td></tr><tr><td>MoE</td><td>26.03</td><td>40.56</td><td>2.0-10°</td><td>1.2.10%</td></tr><tr><td>Deep-Att + PosUnk Ensemble</td><td></td><td>40.4</td><td></td><td>8.0-10%°</td></tr><tr><td>GNMT + RL Ensemble [38]</td><td>2630</td><td>41.16</td><td>1.8-10%</td><td>1.1-10*</td></tr><tr><td>ConvS2S Ensemble [9]</td><td>26.36</td><td>41.29</td><td>7.7-101</td><td>1.2.10%</td></tr><tr><td>Transformer (base model)</td><td>273</td><td>38.1</td><td></td><td>3.3.10'%</td></tr><tr><td>Transformer (big)</td><td>28.4</td><td>41.8</td><td></td><td>2.3-101</td></tr></table>"
            ],
            "text/plain": [
              "<IPython.core.display.HTML object>"
            ]
          },
          "metadata": {},
          "output_type": "display_data"
        },
        {
          "name": "stdout",
          "output_type": "stream",
          "text": [
            "Residual Dropout We apply dropout [33] to the output of each sub-layer, before it is added to the sub-layer input and normalized. In addition, we apply dropout to the sums of the embeddings and the positional encodings in both the encoder and decoder stacks. For the base model, we use a rate of Pdrop = 0.1.\n",
            "Label Smoothing During training, we employed label smoothing of value ϵls = 0.1 [36]. This hurts perplexity, as the model learns to be more unsure, but improves accuracy and BLEU score.\n",
            "6 Results\n",
            "6.1 Machine Translation\n",
            "parent: '6.1 Machine Translation' content: On the WMT 2014 English-to-German translation task, the big transformer model (Transformer (big) in Table 2) outperforms the best previously reported models (including ensembles) by more than 2.0 BLEU, establishing a new state-of-the-art BLEU score of 28.4. The configuration of this model is listed in the bottom line of Table 3. Training took 3.5 days on 8 P100 GPUs. Even our base model surpasses all previously published models and ensembles, at a fraction of the training cost of any of the competitive models.\n",
            "parent: '6.1 Machine Translation' content: On the WMT 2014 English-to-French translation task, our big model achieves a BLEU score of 41.0, outperforming all of the previously published single models, at less than 1/4 the training cost of the previous state-of-the-art model. The Transformer (big) model trained for English-to-French used dropout rate Pdrop = 0.1, instead of 0.3.\n",
            "parent: '6.1 Machine Translation' content: For the base models, we used a single model obtained by averaging the last 5 checkpoints, which were written at 10-minute intervals. For the big models, we averaged the last 20 checkpoints. We used beam search with a beam size of 4 and length penalty α = 0.6 [38]. These hyperparameters were chosen after experimentation on the development set. We set the maximum output length during inference to input length + 50, but terminate early when possible [38].\n",
            "parent: '6.1 Machine Translation' content: Table 2 summarizes our results and compares our translation quality and training costs to other model architectures from the literature. We estimate the number of floating point operations used to train a model by multiplying the training time, the number of GPUs used, and an estimate of the sustained single-precision floating-point capacity of each GPU 5.\n",
            "6.2 Model Variations\n",
            "parent: '6.2 Model Variations' content: To evaluate the importance of different components of the Transformer, we varied our base model in different ways, measuring the change in performance on English-to-German translation on the\n",
            "parent: '6.2 Model Variations' content: 5We used values of 2.8, 3.7, 6.0 and 9.5 TFLOPS for K80, K40, M40 and P100, respectively.\n",
            "8\n",
            "Table 3: Variations on the Transformer architecture. Unlisted values are identical to those of the base model. All metrics are on the English-to-German translation development set, newstest2013. Listed perplexities are per-wordpiece, according to our byte-pair encoding, and should not be compared to per-word perplexities.\n"
          ]
        },
        {
          "data": {
            "text/html": [
              "<table><thead><th></th><th>N</th><th>dwss</th><th>dn</th><th>b</th><th>di</th><th>Pug</th><th>as</th><th>gon</th><th>| 08</th><th>BORT</th><th>PR</th></thead><tr><td>base</td><td>| 6</td><td>512</td><td>2048</td><td>8</td><td>64</td><td>0.1</td><td>01</td><td>100K</td><td>| 492</td><td>258</td><td>65</td></tr><tr><td></td><td></td><td></td><td></td><td>1</td><td>512</td><td></td><td></td><td></td><td>529</td><td>249</td><td></td></tr><tr><td></td><td></td><td></td><td></td><td>4</td><td>128</td><td></td><td></td><td></td><td>500</td><td>255</td><td></td></tr><tr><td>(A)</td><td></td><td></td><td></td><td>16</td><td>32</td><td></td><td></td><td></td><td>491</td><td>258</td><td></td></tr><tr><td></td><td></td><td></td><td></td><td>32</td><td>16</td><td></td><td></td><td></td><td>501</td><td>254</td><td></td></tr><tr><td></td><td></td><td></td><td></td><td></td><td>16</td><td></td><td></td><td></td><td>516</td><td>251</td><td>58</td></tr><tr><td>®)</td><td></td><td></td><td></td><td></td><td>32</td><td></td><td></td><td></td><td>501</td><td>254</td><td>60</td></tr><tr><td rowspan=\"7\">©)</td><td>2</td><td></td><td></td><td></td><td></td><td></td><td></td><td></td><td>6.11</td><td>237</td><td>36</td></tr><tr><td></td><td>4</td><td></td><td></td><td></td><td></td><td></td><td></td><td></td><td>519</td><td>253</td><td>50</td></tr><tr><td></td><td>8</td><td></td><td></td><td></td><td></td><td></td><td></td><td></td><td>488</td><td>255</td><td>80</td></tr><tr><td></td><td></td><td>256</td><td></td><td></td><td>32</td><td></td><td></td><td></td><td>575</td><td>245</td><td>28</td></tr><tr><td></td><td></td><td>1024</td><td></td><td></td><td>128</td><td></td><td></td><td></td><td>4.66</td><td>26.0</td><td>168</td></tr><tr><td></td><td></td><td></td><td>1024</td><td></td><td></td><td></td><td></td><td></td><td>512</td><td>254</td><td>53</td></tr><tr><td></td><td></td><td></td><td>4096</td><td></td><td></td><td></td><td></td><td></td><td>475</td><td>262</td><td>90</td></tr><tr><td></td><td></td><td></td><td></td><td></td><td></td><td>0.0</td><td></td><td></td><td>577</td><td>246</td><td></td></tr><tr><td></td><td></td><td></td><td></td><td></td><td></td><td>0.2</td><td></td><td></td><td>495</td><td>255</td><td></td></tr><tr><td>D</td><td></td><td></td><td></td><td></td><td></td><td></td><td>0.0</td><td></td><td>461</td><td>253</td><td></td></tr><tr><td></td><td></td><td></td><td></td><td></td><td></td><td></td><td>0.2</td><td></td><td>547</td><td>257</td><td></td></tr><tr><td>(E)</td><td></td><td></td><td>positional</td><td>embedding</td><td>instead</td><td>of sinusoids</td><td></td><td></td><td>4.92</td><td>25.7</td><td></td></tr><tr><td>big</td><td>| 6</td><td>1024</td><td>4096</td><td>16</td><td></td><td>0.3</td><td></td><td>300K</td><td>| 433</td><td>264</td><td>213</td></tr></table>"
            ],
            "text/plain": [
              "<IPython.core.display.HTML object>"
            ]
          },
          "metadata": {},
          "output_type": "display_data"
        },
        {
          "name": "stdout",
          "output_type": "stream",
          "text": [
            "development set, newstest2013. We used beam search as described in the previous section, but no checkpoint averaging. We present these results in Table 3.\n",
            "In Table 3 rows (A), we vary the number of attention heads and the attention key and value dimensions, keeping the amount of computation constant, as described in Section 3.2.2. While single-head attention is 0.9 BLEU worse than the best setting, quality also drops off with too many heads.\n",
            "In Table 3 rows (B), we observe that reducing the attention key size dk hurts model quality. This suggests that determining compatibility is not easy and that a more sophisticated compatibility function than dot product may be beneficial. We further observe in rows (C) and (D) that, as expected, bigger models are better, and dropout is very helpful in avoiding over-fitting. In row (E) we replace our sinusoidal positional encoding with learned positional embeddings [9], and observe nearly identical results to the base model.\n",
            "6.3 English Constituency Parsing\n",
            "parent: '6.3 English Constituency Parsing' content: To evaluate if the Transformer can generalize to other tasks we performed experiments on English constituency parsing. This task presents specific challenges: the output is subject to strong structural constraints and is significantly longer than the input. Furthermore, RNN sequence-to-sequence models have not been able to attain state-of-the-art results in small-data regimes [37].\n",
            "parent: '6.3 English Constituency Parsing' content: We trained a 4-layer transformer with dmodel = 1024 on the Wall Street Journal (WSJ) portion of the Penn Treebank [25], about 40K training sentences. We also trained it in a semi-supervised setting, using the larger high-confidence and BerkleyParser corpora from with approximately 17M sentences [37]. We used a vocabulary of 16K tokens for the WSJ only setting and a vocabulary of 32K tokens for the semi-supervised setting.\n",
            "parent: '6.3 English Constituency Parsing' content: We performed only a small number of experiments to select the dropout, both attention and residual (section 5.4), learning rates and beam size on the Section 22 development set, all other parameters remained unchanged from the English-to-German base translation model. During inference, we\n",
            "9\n",
            "Table 4: The Transformer generalizes well to English constituency parsing (Results are on Section 23 of WSJ)\n"
          ]
        },
        {
          "data": {
            "text/html": [
              "<table><thead><th>Parser</th><th>Training</th><th>WSJ 23 F1</th></thead><tr><td>Vinyals &amp; Kaiser el al. (2014)</td><td>WSIJ only, discriminative</td><td>88.3</td></tr><tr><td>Petrov et al. (2006)</td><td>WSIJ only, discriminative</td><td>90.4</td></tr><tr><td>Zhu et al. (2013) [40]</td><td>WSIJ only, discriminative</td><td>90.4</td></tr><tr><td>Dyer et al. (2016)</td><td>WSJ only, discriminative</td><td>91.7</td></tr><tr><td>Transformer (4 layers)</td><td>WSIJ only, discriminative</td><td>91.3</td></tr><tr><td>Zhu et al. (2013) [40]</td><td>semi-supervised</td><td>91.3</td></tr><tr><td>Vinyals Transformer (4 layers)</td><td>semi-supervised semi-supervised</td><td>92.7</td></tr><tr><td>Luong et al. (2015) \\\\</td><td>multi-task</td><td>93.0</td></tr><tr><td>Dyer et al. (2016)</td><td>generative</td><td>93.3</td></tr></table>"
            ],
            "text/plain": [
              "<IPython.core.display.HTML object>"
            ]
          },
          "metadata": {},
          "output_type": "display_data"
        },
        {
          "name": "stdout",
          "output_type": "stream",
          "text": [
            "increased the maximum output length to input length + 300. We used a beam size of 21 and α = 0.3 for both WSJ only and the semi-supervised setting.\n",
            "Our results in Table 4 show that despite the lack of task-specific tuning our model performs sur- prisingly well, yielding better results than all previously reported models with the exception of the Recurrent Neural Network Grammar [8].\n",
            "In contrast to RNN sequence-to-sequence models [37], the Transformer outperforms the Berkeley- Parser [29] even when training only on the WSJ training set of 40K sentences.\n",
            "7 Conclusion\n",
            "parent: '7 Conclusion' content: In this work, we presented the Transformer, the first sequence transduction model based entirely on attention, replacing the recurrent layers most commonly used in encoder-decoder architectures with multi-headed self-attention.\n",
            "parent: '7 Conclusion' content: For translation tasks, the Transformer can be trained significantly faster than architectures based on recurrent or convolutional layers. On both WMT 2014 English-to-German and WMT 2014 English-to-French translation tasks, we achieve a new state of the art. In the former task our best model outperforms even all previously reported ensembles.\n",
            "parent: '7 Conclusion' content: We are excited about the future of attention-based models and plan to apply them to other tasks. We plan to extend the Transformer to problems involving input and output modalities other than text and to investigate local, restricted attention mechanisms to efficiently handle large inputs and outputs such as images, audio and video. Making generation less sequential is another research goals of ours.\n",
            "parent: '7 Conclusion' content: The code we used to train and evaluate our models is available at https://github.com/ tensorflow/tensor2tensor.\n",
            "parent: '7 Conclusion' content: Acknowledgements We are grateful to Nal Kalchbrenner and Stephan Gouws for their fruitful comments, corrections and inspiration.\n",
            "References\n",
            "parent: 'References' content: [1] Jimmy Lei Ba, Jamie Ryan Kiros, and Geoffrey E Hinton. Layer normalization. arXiv preprint arXiv:1607.06450, 2016.\n",
            "parent: 'References' content: [2] Dzmitry Bahdanau, Kyunghyun Cho, and Yoshua Bengio. Neural machine translation by jointly learning to align and translate. CoRR, abs/1409.0473, 2014.\n",
            "parent: 'References' content: [3] Denny Britz, Anna Goldie, Minh-Thang Luong, and Quoc V. Le. Massive exploration of neural machine translation architectures. CoRR, abs/1703.03906, 2017.\n",
            "parent: 'References' content: [4] Jianpeng Cheng, Li Dong, and Mirella Lapata. Long short-term memory-networks for machine reading. arXiv preprint arXiv:1601.06733, 2016.\n",
            "10\n",
            "[5] Kyunghyun Cho, Bart van Merrienboer, Caglar Gulcehre, Fethi Bougares, Holger Schwenk, and Yoshua Bengio. Learning phrase representations using rnn encoder-decoder for statistical machine translation. CoRR, abs/1406.1078, 2014.\n",
            "[6] Francois Chollet. Xception: Deep learning with depthwise separable convolutions. arXiv preprint arXiv:1610.02357, 2016.\n",
            "[7] Junyoung Chung, Çaglar Gülçehre, Kyunghyun Cho, and Yoshua Bengio. Empirical evaluation of gated recurrent neural networks on sequence modeling. CoRR, abs/1412.3555, 2014.\n",
            "[8] Chris Dyer, Adhiguna Kuncoro, Miguel Ballesteros, and Noah A. Smith. Recurrent neural network grammars. In Proc. of NAACL, 2016.\n",
            "[9] Jonas Gehring, Michael Auli, David Grangier, Denis Yarats, and Yann N. Dauphin. Convolu- tional sequence to sequence learning. arXiv preprint arXiv:1705.03122v2, 2017.\n",
            "[10] Alex Graves. Generating sequences with recurrent neural networks. arXiv preprint arXiv:1308.0850, 2013.\n",
            "[11] Kaiming He, Xiangyu Zhang, Shaoqing Ren, and Jian Sun. Deep residual learning for im- age recognition. In Proceedings of the IEEE Conference on Computer Vision and Pattern Recognition, pages 770–778, 2016.\n",
            "[12] Sepp Hochreiter, Yoshua Bengio, Paolo Frasconi, and Jürgen Schmidhuber. Gradient flow in recurrent nets: the difficulty of learning long-term dependencies, 2001.\n",
            "[13] Sepp Hochreiter and Jürgen Schmidhuber. Long short-term memory. Neural computation, 9(8):1735–1780, 1997.\n",
            "[14] Zhongqiang Huang and Mary Harper. Self-training PCFG grammars with latent annotations across languages. In Proceedings of the 2009 Conference on Empirical Methods in Natural Language Processing, pages 832–841. ACL, August 2009.\n",
            "[15] Rafal Jozefowicz, Oriol Vinyals, Mike Schuster, Noam Shazeer, and Yonghui Wu. Exploring the limits of language modeling. arXiv preprint arXiv:1602.02410, 2016.\n",
            "[16] Łukasz Kaiser and Samy Bengio. Can active memory replace attention? In Advances in Neural Information Processing Systems, (NIPS), 2016.\n",
            "[17] Łukasz Kaiser and Ilya Sutskever. Neural GPUs learn algorithms. In International Conference on Learning Representations (ICLR), 2016.\n",
            "[18] Nal Kalchbrenner, Lasse Espeholt, Karen Simonyan, Aaron van den Oord, Alex Graves, and Ko- ray Kavukcuoglu. Neural machine translation in linear time. arXiv preprint arXiv:1610.10099v2, 2017.\n",
            "[19] Yoon Kim, Carl Denton, Luong Hoang, and Alexander M. Rush. Structured attention networks. In International Conference on Learning Representations, 2017.\n",
            "[20] Diederik Kingma and Jimmy Ba. Adam: A method for stochastic optimization. In ICLR, 2015.\n",
            "[21] Oleksii Kuchaiev and Boris Ginsburg. Factorization tricks for LSTM networks. arXiv preprint arXiv:1703.10722, 2017.\n",
            "[22] Zhouhan Lin, Minwei Feng, Cicero Nogueira dos Santos, Mo Yu, Bing Xiang, Bowen Zhou, and Yoshua Bengio. A structured self-attentive sentence embedding. arXiv preprint arXiv:1703.03130, 2017.\n",
            "[23] Minh-Thang Luong, Quoc V. Le, Ilya Sutskever, Oriol Vinyals, and Lukasz Kaiser. Multi-task sequence to sequence learning. arXiv preprint arXiv:1511.06114, 2015.\n",
            "[24] Minh-Thang Luong, Hieu Pham, and Christopher D Manning. Effective approaches to attention- based neural machine translation. arXiv preprint arXiv:1508.04025, 2015.\n",
            "11\n",
            "[25] Mitchell P Marcus, Mary Ann Marcinkiewicz, and Beatrice Santorini. Building a large annotated corpus of english: The penn treebank. Computational linguistics, 19(2):313–330, 1993.\n",
            "[26] David McClosky, Eugene Charniak, and Mark Johnson. Effective self-training for parsing. In Proceedings of the Human Language Technology Conference of the NAACL, Main Conference, pages 152–159. ACL, June 2006.\n",
            "[27] Ankur Parikh, Oscar Täckström, Dipanjan Das, and Jakob Uszkoreit. A decomposable attention model. In Empirical Methods in Natural Language Processing, 2016.\n",
            "[28] Romain Paulus, Caiming Xiong, and Richard Socher. A deep reinforced model for abstractive summarization. arXiv preprint arXiv:1705.04304, 2017.\n",
            "[29] Slav Petrov, Leon Barrett, Romain Thibaux, and Dan Klein. Learning accurate, compact, and interpretable tree annotation. In Proceedings of the 21st International Conference on Computational Linguistics and 44th Annual Meeting of the ACL, pages 433–440. ACL, July 2006.\n",
            "[30] Ofir Press and Lior Wolf. Using the output embedding to improve language models. arXiv preprint arXiv:1608.05859, 2016.\n",
            "[31] Rico Sennrich, Barry Haddow, and Alexandra Birch. Neural machine translation of rare words with subword units. arXiv preprint arXiv:1508.07909, 2015.\n",
            "[32] Noam Shazeer, Azalia Mirhoseini, Krzysztof Maziarz, Andy Davis, Quoc Le, Geoffrey Hinton, and Jeff Dean. Outrageously large neural networks: The sparsely-gated mixture-of-experts layer. arXiv preprint arXiv:1701.06538, 2017.\n",
            "[33] Nitish Srivastava, Geoffrey E Hinton, Alex Krizhevsky, Ilya Sutskever, and Ruslan Salakhutdi- nov. Dropout: a simple way to prevent neural networks from overfitting. Journal of Machine Learning Research, 15(1):1929–1958, 2014.\n",
            "[34] Sainbayar Sukhbaatar, Arthur Szlam, Jason Weston, and Rob Fergus. End-to-end memory networks. In C. Cortes, N. D. Lawrence, D. D. Lee, M. Sugiyama, and R. Garnett, editors, Advances in Neural Information Processing Systems 28, pages 2440–2448. Curran Associates, Inc., 2015.\n",
            "[35] Ilya Sutskever, Oriol Vinyals, and Quoc VV Le. Sequence to sequence learning with neural networks. In Advances in Neural Information Processing Systems, pages 3104–3112, 2014.\n",
            "[36] Christian Szegedy, Vincent Vanhoucke, Sergey Ioffe, Jonathon Shlens, and Zbigniew Wojna. Rethinking the inception architecture for computer vision. CoRR, abs/1512.00567, 2015.\n",
            "[37] Vinyals & Kaiser, Koo, Petrov, Sutskever, and Hinton. Grammar as a foreign language. In Advances in Neural Information Processing Systems, 2015.\n",
            "[38] Yonghui Wu, Mike Schuster, Zhifeng Chen, Quoc V Le, Mohammad Norouzi, Wolfgang Macherey, Maxim Krikun, Yuan Cao, Qin Gao, Klaus Macherey, et al. Google’s neural machine translation system: Bridging the gap between human and machine translation. arXiv preprint arXiv:1609.08144, 2016.\n",
            "[39] Jie Zhou, Ying Cao, Xuguang Wang, Peng Li, and Wei Xu. Deep recurrent models with fast-forward connections for neural machine translation. CoRR, abs/1606.04199, 2016.\n",
            "[40] Muhua Zhu, Yue Zhang, Wenliang Chen, Min Zhang, and Jingbo Zhu. Fast and accurate shift-reduce constituent parsing. In Proceedings of the 51st Annual Meeting of the ACL (Volume 1: Long Papers), pages 434–443. ACL, August 2013.\n",
            "12\n",
            "Attention Visualizations\n",
            "2 ; : 2 §E o > O ? = A = = £ o} c s o 3 = N ANANANANANA 2. S ©9822:98883% 2 £823 5TVTITYIYE 258 ©_E3zssoszcosed, sedE wdIggsg8 8 =2 £ oS oc EDOCDODSEac®8 3N EEL oSS aEDT V VV V V V V 2 0 Cc o0ER OIS COOD 0O VO O c o 0 A AAAAAA == E 8 20522383 3¢ 832 o c 9 N T T T T T T = Qs o O g 8 ©w & ® £ O % = = 8 O T @ ©® ® ®©® ®© ® 9 s g<co = 5 N & © S 8 Degcaaao ® @ @ £ k> > 9 VVV V V V 1S E € o ] a v <¢ g o — S 1\n",
            "Figure 3: An example of the attention mechanism following long-distance dependencies in the encoder self-attention in layer 5 of 6. Many of the attention heads attend to a distant dependency of the verb ‘making’, completing the phrase ‘making...more difficult’. Attentions here shown only for the word ‘making’. Different colors represent different heads. Best viewed in color.\n",
            "13\n",
            "<ped> <ped> uojuldo == Aw ul Buissiw ale - om - Jeym - sl sy ysnl oq pinoys -+ uojuido Aw ul Buissiw ale ysnf 8q pinoys uopjeoldde B nq Jospad 8q Janau meT ayL <ped> <S03> uojuido Aw ul Buissiw ale am jeym s siy} isnl aq pinoys uopeodde S| ing 1oeuad aq JEVET] me ayL <ped> <S03> uojuido Aw ul Buissiw ale am jeym s siy} isnl aq pinoys uopeoidde sl inq 1oeuad aq ayL\n",
            "Figure 4: Two attention heads, also in layer 5 of 6, apparently involved in anaphora resolution. Top: Full attentions for head 5. Bottom: Isolated attentions from just the word ‘its’ for attention heads 5 and 6. Note that the attentions are very sharp for this word.\n",
            "14\n",
            "<ped> <ped> <S03>¢ <SO3> uouido = uojuido Aw Aw jeym S| siy 1SNl Y/ -ysnf ~-9q pinoys “+ pinoys uoijeodde uopjeojdde S| =S}l ! — ! USRS nq Joapad Joapad aq aq Janau J9A8U mm= L m me me ayl /YL <ped> <ped> Awom_vaAwom_v uojuido = uojuido Aw Aw ul ul Buissiw Buissiw ale ale am om Jeym jeym S| S| sy} ~siy} L - «m:_w«m:_ 8q 8q pinoys < pinoys uopeo|dde Vco_«mo:nam S| S| nq VSQ Joapad V«omtmn 8q 8q Janau Janau M M S —id ayL ayL\n",
            "Figure 5: Many of the attention heads exhibit behaviour that seems related to the structure of the sentence. We give two such examples above, from two different heads from the encoder self-attention at layer 5 of 6. The heads clearly learned to perform different tasks.\n",
            "15\n"
          ]
        }
      ],
      "source": [
        "from IPython.display import display, HTML\n",
        "\n",
        "parents = {}\n",
        "\n",
        "for el in elements:\n",
        "    parents[el.id] = el.text\n",
        "\n",
        "for el in elements:\n",
        "    if el.category == \"Table\":\n",
        "        display(HTML(el.metadata.text_as_html))\n",
        "    elif el.metadata.parent_id:\n",
        "        print(f\"parent: '{parents[el.metadata.parent_id]}' content: {el.text}\")\n",
        "    else:\n",
        "        print(el)"
      ]
    },
    {
      "cell_type": "markdown",
      "metadata": {
        "id": "sI3weZbNvbmk"
      },
      "source": [
        "Here we clearly see that Unstructured is parsing both table and document structure."
      ]
    },
    {
      "cell_type": "markdown",
      "metadata": {
        "id": "CP9Ymyngvbmk"
      },
      "source": [
        "### Storing into Astra DB\n",
        "\n",
        "Now we will continue with the RAG process, by creating embeddings for the pdf, and storing them in Astra."
      ]
    },
    {
      "cell_type": "code",
      "execution_count": null,
      "metadata": {
        "editable": true,
        "id": "gnpuhqAtvbmk",
        "tags": []
      },
      "outputs": [],
      "source": [
        "from langchain_community.vectorstores import AstraDB\n",
        "from langchain_openai import OpenAIEmbeddings\n",
        "\n",
        "astra_db_store = AstraDB(\n",
        "    collection_name=\"langchain_unstructured\",\n",
        "    embedding=OpenAIEmbeddings(),\n",
        "    token=os.getenv(\"ASTRA_DB_TOKEN\"),\n",
        "    api_endpoint=os.getenv(\"ASTRA_DB_ENDPOINT\")\n",
        ")"
      ]
    },
    {
      "cell_type": "markdown",
      "metadata": {
        "id": "wbLMSs6hvbmk"
      },
      "source": [
        "We will create LangChain Documents by splitting the text after `Table` elements and before `Title` elements. Additionally, we use the html output format for table data."
      ]
    },
    {
      "cell_type": "code",
      "execution_count": null,
      "metadata": {
        "id": "HNureIkZvbmk",
        "outputId": "e7dcda17-44d8-4440-bcac-a5f968cad066"
      },
      "outputs": [
        {
          "data": {
            "text/plain": [
              "['cc7802558e4b431db3e683a9b6d0b892',\n",
              " '5778068445504853b9eba0c7c8b623eb',\n",
              " '4bf0439b4e484cc0851473f2838a5a9f',\n",
              " 'fc479ac7fada4edeb672f309f451df47']"
            ]
          },
          "execution_count": 11,
          "metadata": {},
          "output_type": "execute_result"
        }
      ],
      "source": [
        "from langchain_core.documents import Document\n",
        "\n",
        "documents = []\n",
        "current_doc = None\n",
        "\n",
        "for el in elements:\n",
        "    if el.category in [\"Header\", \"Footer\"]:\n",
        "        continue # skip these\n",
        "    if el.category == \"Title\":\n",
        "        documents.append(current_doc)\n",
        "        current_doc = None\n",
        "    if not current_doc:\n",
        "        current_doc = Document(page_content=\"\", metadata=el.metadata.to_dict())\n",
        "    current_doc.page_content += el.metadata.text_as_html if el.category == \"Table\" else el.text\n",
        "    if el.category == \"Table\":\n",
        "        documents.append(current_doc)\n",
        "        current_doc = None\n",
        "\n",
        "astra_db_store.add_documents(documents)"
      ]
    },
    {
      "cell_type": "markdown",
      "metadata": {
        "id": "u3j16nfVvbmk"
      },
      "source": [
        "### Querying\n",
        "\n",
        "Now that we have populated our vector store, we will build a RAG pipeline and execute some queries."
      ]
    },
    {
      "cell_type": "code",
      "execution_count": null,
      "metadata": {
        "id": "H-E8aJq4vbmk"
      },
      "outputs": [],
      "source": [
        "from langchain_openai import ChatOpenAI\n",
        "from langchain_core.output_parsers import StrOutputParser\n",
        "from langchain_core.prompts import PromptTemplate\n",
        "from langchain_core.runnables import RunnablePassthrough\n",
        "\n",
        "prompt = \"\"\"\n",
        "Answer the question based only on the supplied context. If you don't know the answer, say \"I don't know\".\n",
        "Context: {context}\n",
        "Question: {question}\n",
        "Your answer:\n",
        "\"\"\"\n",
        "\n",
        "llm = ChatOpenAI(model=\"gpt-3.5-turbo-16k\", streaming=False, temperature=0)\n",
        "\n",
        "chain = (\n",
        "    {\"context\": astra_db_store.as_retriever(), \"question\": RunnablePassthrough()}\n",
        "    | PromptTemplate.from_template(prompt)\n",
        "    | llm\n",
        "    | StrOutputParser()\n",
        ")"
      ]
    },
    {
      "cell_type": "markdown",
      "metadata": {
        "id": "MNQblDNdvbmk"
      },
      "source": [
        "First we can ask a question about some text in the document:"
      ]
    },
    {
      "cell_type": "code",
      "execution_count": null,
      "metadata": {
        "id": "bbndcPLrvbmk",
        "outputId": "d74f572c-35b2-43df-b3c6-a0f9fcfd8aaf"
      },
      "outputs": [
        {
          "data": {
            "text/plain": [
              "'Reducing the attention key size hurts model quality.'"
            ]
          },
          "execution_count": 13,
          "metadata": {},
          "output_type": "execute_result"
        }
      ],
      "source": [
        "chain.invoke(\"What does reducing the attention key size do?\")"
      ]
    },
    {
      "cell_type": "markdown",
      "metadata": {
        "id": "-QZs7bK1vbmk"
      },
      "source": [
        "Next we can try to get a value from the 2nd table:"
      ]
    },
    {
      "cell_type": "code",
      "execution_count": null,
      "metadata": {
        "id": "0Qrinm0Dvbmk",
        "outputId": "6bd0c1e4-f949-4fd3-e184-1cf66eef7cc7"
      },
      "outputs": [
        {
          "data": {
            "text/plain": [
              "\"The 'WSJ 23 F1' value for 'Dyer et al. (2016) (5]' was 91.7.\""
            ]
          },
          "execution_count": 14,
          "metadata": {},
          "output_type": "execute_result"
        }
      ],
      "source": [
        "chain.invoke(\"For the transformer to English constituency results, what was the 'WSJ 23 F1' value for 'Dyer et al. (2016) (5]'?\")"
      ]
    },
    {
      "cell_type": "markdown",
      "metadata": {
        "id": "2tETr_HKvbmk"
      },
      "source": [
        "And finally we can ask a question that doesn't exist in our content to confirm that the LLM rejection is working correctly."
      ]
    },
    {
      "cell_type": "code",
      "execution_count": null,
      "metadata": {
        "id": "0emniS8Qvbmk",
        "outputId": "4d6d880b-e908-48b7-c29d-8447e96657ac"
      },
      "outputs": [
        {
          "data": {
            "text/plain": [
              "\"I don't know. The context does not provide any information about George Washington's birthdate.\""
            ]
          },
          "execution_count": 15,
          "metadata": {},
          "output_type": "execute_result"
        }
      ],
      "source": [
        "# Query fails to be answered due to lack of context in Astra DB\n",
        "chain.invoke(\"When was George Washington born?\")"
      ]
    }
  ],
  "metadata": {
    "colab": {
      "provenance": []
    },
    "kernelspec": {
      "display_name": "Python 3 (ipykernel)",
      "language": "python",
      "name": "python3"
    },
    "language_info": {
      "codemirror_mode": {
        "name": "ipython",
        "version": 3
      },
      "file_extension": ".py",
      "mimetype": "text/x-python",
      "name": "python",
      "nbconvert_exporter": "python",
      "pygments_lexer": "ipython3",
      "version": "3.10.13"
    }
  },
  "nbformat": 4,
  "nbformat_minor": 0
}
