{
  "cells": [
    {
      "cell_type": "markdown",
      "metadata": {
        "id": "N-am0WPgOf93"
      },
      "source": [
        "# **Getting Started with this notebook**"
      ]
    },
    {
      "cell_type": "markdown",
      "metadata": {
        "id": "nMU9q3xEN4kG"
      },
      "source": [
        "* Create a new vector search enabled database in Astra.\n",
        "* For the easy path, name the keyspace in that database \"**bike_rec**\"(otherwise be prepared to modify the CQL in this notebook)\n",
        "* Create a token with permissions to create tables\n",
        "* Download your **secure-connect-bundle** zip file.\n",
        "* When you open this notebook in Google Colab or your own notebook server, drag-and-drop the secure connect bundle into the File Browser (on the left panel) of the notebook\n",
        "* Update the Keys & Environment Variables cell in the notebook with information from the token you generated and the name of your secure connect bundle file.\n"
      ]
    },
    {
      "cell_type": "markdown",
      "metadata": {
        "id": "Vn65Hjm7OqlJ"
      },
      "source": [
        "# **Install libraries**"
      ]
    },
    {
      "cell_type": "code",
      "execution_count": null,
      "metadata": {
        "colab": {
          "base_uri": "https://localhost:8080/"
        },
        "id": "YE91v1D3OzUQ",
        "outputId": "79f5f5c3-f684-4f8e-d832-1d3be7295632"
      },
      "outputs": [],
      "source": [
        "!pip3 install openai pandas cassandra-driver traceloop-sdk"
      ]
    },
    {
      "cell_type": "markdown",
      "metadata": {
        "id": "2j2N9PN_O8fi"
      },
      "source": [
        "# **Import Modules**"
      ]
    },
    {
      "cell_type": "code",
      "execution_count": 11,
      "metadata": {
        "id": "OMsIAjChO-6u"
      },
      "outputs": [],
      "source": [
        "from cassandra.cluster import Cluster\n",
        "from cassandra.auth import PlainTextAuthProvider\n",
        "from cassandra.query import dict_factory, SimpleStatement\n",
        "import openai, os, uuid, time, requests\n",
        "import pandas as pd\n",
        "from traceloop.sdk import Traceloop\n",
        "from traceloop.sdk.tracing import tracing as Tracer\n",
        "from traceloop.sdk.decorators import workflow, task, agent\n",
        "from dotenv import load_dotenv, find_dotenv\n"
      ]
    },
    {
      "cell_type": "code",
      "execution_count": 12,
      "metadata": {},
      "outputs": [],
      "source": [
        "# Load the .env file\n",
        "if not load_dotenv(find_dotenv(),override=True):\n",
        "    raise Exception(\"Couldn't load .env file\")"
      ]
    },
    {
      "cell_type": "code",
      "execution_count": 13,
      "metadata": {},
      "outputs": [
        {
          "data": {
            "text/plain": [
              "'b1c1194c6e5e1c2fb73aecccf90c77d2451eb80223aa2fa6c2e7b85b78c3c24a9420fa51be24dca480580bdfe63329ef'"
            ]
          },
          "metadata": {},
          "output_type": "display_data"
        }
      ],
      "source": [
        "#Add Telemetry\n",
        "TRACELOOP_API_KEY=os.getenv('TRACELOOP_API_KEY')\n",
        "#display(TRACELOOP_API_KEY)\n",
        "Traceloop.init(app_name=\"Bike Recommendation App\", disable_batch=True)\n",
        "# Generate a UUID\n",
        "uuid_obj = str(uuid.uuid4())\n",
        "Tracer.set_correlation_id(uuid_obj)"
      ]
    },
    {
      "cell_type": "code",
      "execution_count": 14,
      "metadata": {
        "id": "l3dMn0zLYN3t"
      },
      "outputs": [],
      "source": [
        "import os\n",
        "from getpass import getpass\n",
        "\n",
        "try:\n",
        "    from google.colab import files\n",
        "    IS_COLAB = True\n",
        "except ModuleNotFoundError:\n",
        "    IS_COLAB = False"
      ]
    },
    {
      "cell_type": "markdown",
      "metadata": {
        "id": "uZvcbIhQNwTv"
      },
      "source": [
        "# **Keys & Environment Variables**"
      ]
    },
    {
      "cell_type": "code",
      "execution_count": 15,
      "metadata": {
        "colab": {
          "base_uri": "https://localhost:8080/",
          "height": 90
        },
        "id": "3OpLJEbpZFSl",
        "outputId": "3081d2da-16b6-409c-cbba-7396eca85862"
      },
      "outputs": [],
      "source": [
        "# Your database's Secure Connect Bundle zip file is needed:\n",
        "if IS_COLAB:\n",
        "    print('Please upload your Secure Connect Bundle zipfile: ')\n",
        "    uploaded = files.upload()\n",
        "    if uploaded:\n",
        "        astraBundleFileTitle = list(uploaded.keys())[0]\n",
        "        ASTRA_DB_SECURE_BUNDLE_PATH = os.path.join(os.getcwd(), astraBundleFileTitle)\n",
        "    else:\n",
        "        raise ValueError(\n",
        "            'Cannot proceed without Secure Connect Bundle. Please re-run the cell.'\n",
        "        )\n",
        "else:\n",
        "    # you are running a local-jupyter notebook:\n",
        "    #ASTRA_DB_SECURE_BUNDLE_PATH = input(\"Please provide the full path to your Secure Connect Bundle zipfile: \")\n",
        "    ASTRA_DB_SECURE_BUNDLE_PATH=os.getenv('ASTRA_SECUREBUNDLE_PATH')"
      ]
    },
    {
      "cell_type": "code",
      "execution_count": 16,
      "metadata": {
        "colab": {
          "base_uri": "https://localhost:8080/"
        },
        "id": "38o81Un7ZKSs",
        "outputId": "49721904-68de-45b4-8cfe-46e9d65ab1fa"
      },
      "outputs": [],
      "source": [
        "#ASTRA_DB_APPLICATION_TOKEN = getpass(\"Please provide your Database Token ('AstraCS:...' string): \")\n",
        "ASTRA_DB_APPLICATION_TOKEN=os.getenv('ASTRA_DB_TOKEN')"
      ]
    },
    {
      "cell_type": "code",
      "execution_count": 17,
      "metadata": {
        "colab": {
          "base_uri": "https://localhost:8080/"
        },
        "id": "xGebh3KvZNo9",
        "outputId": "8a3c7ea4-9f9e-4fe8-c78d-797d92275db7"
      },
      "outputs": [],
      "source": [
        "#ASTRA_DB_KEYSPACE = input(\"Please provide the Keyspace name for your Database: \")\n",
        "ASTRA_DB_KEYSPACE=os.getenv('ASTRA_KEYSPACE')"
      ]
    },
    {
      "cell_type": "code",
      "execution_count": 18,
      "metadata": {
        "colab": {
          "base_uri": "https://localhost:8080/"
        },
        "id": "yY3EQNjlZXFJ",
        "outputId": "b3443f32-e09b-4280-caec-63f9ba10f094"
      },
      "outputs": [],
      "source": [
        "#Establish Connectivity\n",
        "cluster = Cluster(\n",
        "    cloud={\n",
        "        \"secure_connect_bundle\": ASTRA_DB_SECURE_BUNDLE_PATH,\n",
        "    },\n",
        "    auth_provider=PlainTextAuthProvider(\n",
        "        \"token\",\n",
        "        ASTRA_DB_APPLICATION_TOKEN,\n",
        "    ),\n",
        ")\n",
        "\n",
        "session = cluster.connect()\n",
        "keyspace = ASTRA_DB_KEYSPACE"
      ]
    },
    {
      "cell_type": "markdown",
      "metadata": {
        "id": "xHfBxUkyZgYW"
      },
      "source": [
        "**LLM Setup**"
      ]
    },
    {
      "cell_type": "code",
      "execution_count": 36,
      "metadata": {
        "colab": {
          "base_uri": "https://localhost:8080/"
        },
        "id": "KWU3NToTZjeE",
        "outputId": "ee4a5482-83d9-4f84-ab69-0817f08910f8"
      },
      "outputs": [],
      "source": [
        "#OPENAI_API_KEY = getpass(\"Please enter your OpenAI API Key: \")\n",
        "openai.api_key = os.getenv('OPENAI_API_KEY')"
      ]
    },
    {
      "cell_type": "markdown",
      "metadata": {
        "id": "-l-O1f6B57jC"
      },
      "source": [
        "# **Select a model to compute embeddings**"
      ]
    },
    {
      "cell_type": "code",
      "execution_count": 21,
      "metadata": {
        "id": "nMN_pe1356RA"
      },
      "outputs": [],
      "source": [
        "model_id = \"text-embedding-ada-002\""
      ]
    },
    {
      "cell_type": "markdown",
      "metadata": {
        "id": "CdhiXOhBPhDS"
      },
      "source": [
        "# **Connect to Astra with Vector Search**"
      ]
    },
    {
      "cell_type": "markdown",
      "metadata": {
        "id": "KN7rECxcPuOJ"
      },
      "source": [
        "# **Drop / Create Schema**"
      ]
    },
    {
      "cell_type": "code",
      "execution_count": 22,
      "metadata": {
        "colab": {
          "base_uri": "https://localhost:8080/"
        },
        "id": "Vbqig3sYP3FT",
        "outputId": "06827c31-2464-458b-8820-3a39a7a1ec81"
      },
      "outputs": [
        {
          "data": {
            "text/plain": [
              "<cassandra.cluster.ResultSet at 0x166af5ad0>"
            ]
          },
          "execution_count": 22,
          "metadata": {},
          "output_type": "execute_result"
        }
      ],
      "source": [
        "# only use this to reset the schema\n",
        "session.execute(f\"\"\"DROP INDEX IF EXISTS {ASTRA_DB_KEYSPACE}.descriptions_vector_idx\"\"\")\n",
        "session.execute(f\"\"\"DROP INDEX IF EXISTS {ASTRA_DB_KEYSPACE}.type_idx_analyzer\"\"\")\n",
        "session.execute(f\"\"\"DROP TABLE IF EXISTS {ASTRA_DB_KEYSPACE}.bikes\"\"\")"
      ]
    },
    {
      "cell_type": "code",
      "execution_count": 23,
      "metadata": {
        "colab": {
          "base_uri": "https://localhost:8080/"
        },
        "id": "hSJ_amZnP7Me",
        "outputId": "61958995-b6b6-43f3-bf4e-ac004f336f12"
      },
      "outputs": [
        {
          "data": {
            "text/plain": [
              "<cassandra.cluster.ResultSet at 0x166af64d0>"
            ]
          },
          "execution_count": 23,
          "metadata": {},
          "output_type": "execute_result"
        }
      ],
      "source": [
        "# # Create Table\n",
        "session.execute(f\"\"\"CREATE TABLE IF NOT EXISTS {ASTRA_DB_KEYSPACE}.bikes\n",
        "(model text,\n",
        "  brand text,\n",
        "  type text,\n",
        "  price decimal,\n",
        "  description text,\n",
        "  description_embedding vector<float, 1536>,\n",
        "  PRIMARY KEY (brand,model))\"\"\")"
      ]
    },
    {
      "cell_type": "code",
      "execution_count": 24,
      "metadata": {
        "colab": {
          "base_uri": "https://localhost:8080/"
        },
        "id": "eveBjOUvRQ0f",
        "outputId": "64555cd7-3426-4e79-e9dd-2adf6b575792"
      },
      "outputs": [
        {
          "data": {
            "text/plain": [
              "<cassandra.cluster.ResultSet at 0x166cb97d0>"
            ]
          },
          "execution_count": 24,
          "metadata": {},
          "output_type": "execute_result"
        }
      ],
      "source": [
        "# # Create Index\n",
        "session.execute(f\"\"\"CREATE CUSTOM INDEX IF NOT EXISTS descriptions_vector_idx ON {ASTRA_DB_KEYSPACE}.bikes (description_embedding) USING 'org.apache.cassandra.index.sai.StorageAttachedIndex' WITH OPTIONS = {{'similarity_function':'dot_product'}}\"\"\")\n",
        "session.execute(f\"\"\"CREATE CUSTOM INDEX IF NOT EXISTS type_idx_analyzer ON {ASTRA_DB_KEYSPACE}.bikes (type) USING 'org.apache.cassandra.index.sai.StorageAttachedIndex' WITH OPTIONS = {{'index_analyzer': '{{\"tokenizer\" : {{\"name\" : \"standard\"}},\"filters\" : [{{\"name\" : \"porterstem\"}},{{\"name\" : \"lowercase\",\t\"args\": {{}}}}]}}'}};\"\"\")"
      ]
    },
    {
      "cell_type": "markdown",
      "metadata": {
        "id": "S9yO0OhMT-0J"
      },
      "source": [
        "# **Building the Knowledge Base**\n",
        "\n",
        "We start by constructing our knowledge base. We'll use a mostly prepared dataset called Stanford Question-Answering Dataset (SQuAD) hosted on Hugging Face Datasets. We download it like so:"
      ]
    },
    {
      "cell_type": "code",
      "execution_count": 26,
      "metadata": {
        "colab": {
          "base_uri": "https://localhost:8080/",
          "height": 394
        },
        "id": "D9144Yk9T_Pv",
        "outputId": "dcec78b4-06bd-4b7b-f7cf-1e4c73e17cfc"
      },
      "outputs": [
        {
          "data": {
            "text/html": [
              "<div>\n",
              "<style scoped>\n",
              "    .dataframe tbody tr th:only-of-type {\n",
              "        vertical-align: middle;\n",
              "    }\n",
              "\n",
              "    .dataframe tbody tr th {\n",
              "        vertical-align: top;\n",
              "    }\n",
              "\n",
              "    .dataframe thead th {\n",
              "        text-align: right;\n",
              "    }\n",
              "</style>\n",
              "<table border=\"1\" class=\"dataframe\">\n",
              "  <thead>\n",
              "    <tr style=\"text-align: right;\">\n",
              "      <th></th>\n",
              "      <th>model</th>\n",
              "      <th>brand</th>\n",
              "      <th>price</th>\n",
              "      <th>type</th>\n",
              "      <th>specs</th>\n",
              "      <th>description</th>\n",
              "    </tr>\n",
              "  </thead>\n",
              "  <tbody>\n",
              "    <tr>\n",
              "      <th>0</th>\n",
              "      <td>Jigger</td>\n",
              "      <td>Velorim</td>\n",
              "      <td>270</td>\n",
              "      <td>Kids bikes</td>\n",
              "      <td>{'material': 'aluminium', 'weight': '10'}</td>\n",
              "      <td>Small and powerful, the Jigger is the best rid...</td>\n",
              "    </tr>\n",
              "    <tr>\n",
              "      <th>1</th>\n",
              "      <td>Hillcraft</td>\n",
              "      <td>Bicyk</td>\n",
              "      <td>1200</td>\n",
              "      <td>Kids Mountain Bikes</td>\n",
              "      <td>{'material': 'carbon', 'weight': '11'}</td>\n",
              "      <td>Kids want to ride with as little weight as pos...</td>\n",
              "    </tr>\n",
              "    <tr>\n",
              "      <th>2</th>\n",
              "      <td>Chook air 5</td>\n",
              "      <td>Nord</td>\n",
              "      <td>815</td>\n",
              "      <td>Kids Mountain Bikes</td>\n",
              "      <td>{'material': 'alloy', 'weight': '9.1'}</td>\n",
              "      <td>The Chook Air 5  gives kids aged six years and...</td>\n",
              "    </tr>\n",
              "    <tr>\n",
              "      <th>3</th>\n",
              "      <td>Eva 291</td>\n",
              "      <td>Eva</td>\n",
              "      <td>3400</td>\n",
              "      <td>Mountain Bikes</td>\n",
              "      <td>{'material': 'carbon', 'weight': '9.1'}</td>\n",
              "      <td>The sister company to Nord, Eva launched in 20...</td>\n",
              "    </tr>\n",
              "    <tr>\n",
              "      <th>4</th>\n",
              "      <td>Kahuna</td>\n",
              "      <td>Noka Bikes</td>\n",
              "      <td>3200</td>\n",
              "      <td>Mountain Bikes</td>\n",
              "      <td>{'material': 'alloy', 'weight': '9.8'}</td>\n",
              "      <td>Whether you want to try your hand at XC racing...</td>\n",
              "    </tr>\n",
              "    <tr>\n",
              "      <th>5</th>\n",
              "      <td>XBN 2.1 Alloy</td>\n",
              "      <td>Breakout</td>\n",
              "      <td>810</td>\n",
              "      <td>Road Bikes</td>\n",
              "      <td>{'material': 'alloy', 'weight': '7.2'}</td>\n",
              "      <td>The XBN 2.1 Alloy is our entry-level road bike...</td>\n",
              "    </tr>\n",
              "    <tr>\n",
              "      <th>6</th>\n",
              "      <td>WattBike</td>\n",
              "      <td>ScramBikes</td>\n",
              "      <td>2300</td>\n",
              "      <td>eBikes</td>\n",
              "      <td>{'material': 'alloy', 'weight': '15'}</td>\n",
              "      <td>The WattBike is the best e-bike for people who...</td>\n",
              "    </tr>\n",
              "    <tr>\n",
              "      <th>7</th>\n",
              "      <td>Soothe Electric bike</td>\n",
              "      <td>Peaknetic</td>\n",
              "      <td>1950</td>\n",
              "      <td>eBikes</td>\n",
              "      <td>{'material': 'alloy', 'weight': '14.7'}</td>\n",
              "      <td>The Soothe is an everyday electric bike, from ...</td>\n",
              "    </tr>\n",
              "    <tr>\n",
              "      <th>8</th>\n",
              "      <td>Secto</td>\n",
              "      <td>Peaknetic</td>\n",
              "      <td>430</td>\n",
              "      <td>Commuter bikes</td>\n",
              "      <td>{'material': 'aluminium', 'weight': '10.0'}</td>\n",
              "      <td>If you struggle with stiff fingers or a kinked...</td>\n",
              "    </tr>\n",
              "    <tr>\n",
              "      <th>9</th>\n",
              "      <td>Summit</td>\n",
              "      <td>nHill</td>\n",
              "      <td>1200</td>\n",
              "      <td>Mountain Bike</td>\n",
              "      <td>{'material': 'alloy', 'weight': '11.3'}</td>\n",
              "      <td>This budget mountain bike from nHill performs ...</td>\n",
              "    </tr>\n",
              "    <tr>\n",
              "      <th>10</th>\n",
              "      <td>ThrillCycle</td>\n",
              "      <td>BikeShind</td>\n",
              "      <td>815</td>\n",
              "      <td>Commuter Bikes</td>\n",
              "      <td>{'material': 'alloy', 'weight': '12.7'}</td>\n",
              "      <td>An artsy,  retro-inspired bicycle that’s as fu...</td>\n",
              "    </tr>\n",
              "  </tbody>\n",
              "</table>\n",
              "</div>"
            ],
            "text/plain": [
              "                   model       brand  price                 type  \\\n",
              "0                 Jigger     Velorim    270           Kids bikes   \n",
              "1              Hillcraft       Bicyk   1200  Kids Mountain Bikes   \n",
              "2            Chook air 5        Nord    815  Kids Mountain Bikes   \n",
              "3                Eva 291         Eva   3400       Mountain Bikes   \n",
              "4                 Kahuna  Noka Bikes   3200       Mountain Bikes   \n",
              "5          XBN 2.1 Alloy    Breakout    810           Road Bikes   \n",
              "6               WattBike  ScramBikes   2300               eBikes   \n",
              "7   Soothe Electric bike   Peaknetic   1950               eBikes   \n",
              "8                  Secto   Peaknetic    430       Commuter bikes   \n",
              "9                 Summit       nHill   1200        Mountain Bike   \n",
              "10           ThrillCycle   BikeShind    815       Commuter Bikes   \n",
              "\n",
              "                                          specs  \\\n",
              "0     {'material': 'aluminium', 'weight': '10'}   \n",
              "1        {'material': 'carbon', 'weight': '11'}   \n",
              "2        {'material': 'alloy', 'weight': '9.1'}   \n",
              "3       {'material': 'carbon', 'weight': '9.1'}   \n",
              "4        {'material': 'alloy', 'weight': '9.8'}   \n",
              "5        {'material': 'alloy', 'weight': '7.2'}   \n",
              "6         {'material': 'alloy', 'weight': '15'}   \n",
              "7       {'material': 'alloy', 'weight': '14.7'}   \n",
              "8   {'material': 'aluminium', 'weight': '10.0'}   \n",
              "9       {'material': 'alloy', 'weight': '11.3'}   \n",
              "10      {'material': 'alloy', 'weight': '12.7'}   \n",
              "\n",
              "                                          description  \n",
              "0   Small and powerful, the Jigger is the best rid...  \n",
              "1   Kids want to ride with as little weight as pos...  \n",
              "2   The Chook Air 5  gives kids aged six years and...  \n",
              "3   The sister company to Nord, Eva launched in 20...  \n",
              "4   Whether you want to try your hand at XC racing...  \n",
              "5   The XBN 2.1 Alloy is our entry-level road bike...  \n",
              "6   The WattBike is the best e-bike for people who...  \n",
              "7   The Soothe is an everyday electric bike, from ...  \n",
              "8   If you struggle with stiff fingers or a kinked...  \n",
              "9   This budget mountain bike from nHill performs ...  \n",
              "10  An artsy,  retro-inspired bicycle that’s as fu...  "
            ]
          },
          "execution_count": 26,
          "metadata": {},
          "output_type": "execute_result"
        }
      ],
      "source": [
        "url = \"https://raw.githubusercontent.com/mangatrai/vector-db-examples/main/Astra_Hybrid_Search_Bike_Recommendation/bikes.json\"\n",
        "response = requests.get(url)\n",
        "bikes = response.json()\n",
        "#print(bikes)\n",
        "bikes = pd.DataFrame(bikes)\n",
        "bikes"
      ]
    },
    {
      "cell_type": "markdown",
      "metadata": {
        "id": "IN_8Ss2AXSkW"
      },
      "source": [
        "# **Load the table with data and create text embeddings**\n"
      ]
    },
    {
      "cell_type": "code",
      "execution_count": null,
      "metadata": {
        "colab": {
          "base_uri": "https://localhost:8080/"
        },
        "id": "wI-jcK5eXS1A",
        "outputId": "37133cb2-7dc7-4055-c7de-db2c5950a337"
      },
      "outputs": [],
      "source": [
        "import traceback\n",
        "\n",
        "counter = 0;\n",
        "total = 0\n",
        "for id in bikes.index:\n",
        "\n",
        "  description = bikes['description'][id].replace(',', '\\,')\n",
        "  description = description.replace('\"', '\\\"')\n",
        "\n",
        "  # Create Embedding for each bike row, save them to the database\n",
        "  full_chunk = bikes['description'][id]\n",
        "\n",
        "  if (counter > 0):\n",
        "    embedding = openai.Embedding.create(input=full_chunk, model=model_id)['data'][0]['embedding']\n",
        "\n",
        "    query = SimpleStatement(f\"\"\"INSERT INTO bike_rec.bikes(model, brand, price, type, description, description_embedding) VALUES (%s, %s, %s, %s, %s, %s)\"\"\")\n",
        "\n",
        "    # Create a try-catch block\n",
        "    try:\n",
        "      #print(bikes['model'][id], bikes['brand'][id], bikes['price'][id], bikes['type'][id], description, embedding)\n",
        "      session.execute(query, (bikes['model'][id], bikes['brand'][id], bikes['price'][id], bikes['type'][id], description, embedding), trace=True)\n",
        "    except Exception as e:\n",
        "      # Log the exception\n",
        "      traceback.print_exc()\n",
        "      print(e)\n",
        "      break\n",
        "    else:\n",
        "      # The CQL statement executed successfully\n",
        "      print(\"Embeddings were inserted successfully.\")\n",
        "\n",
        "  # With free trial of openAI, the rate limit is set as 60/per min.  Please set this counter depends on your own rate limit.\n",
        "  counter += 1\n",
        "\n",
        "  # It takes a long time to load all data.  It is set as 300 so it takes a few mins to load.\n",
        "  total += 1\n",
        "\n",
        "  if(total >= 300):\n",
        "    display('total records inserted ')\n",
        "    display(counter)\n",
        "    total = 0\n",
        "  #  break"
      ]
    },
    {
      "cell_type": "markdown",
      "metadata": {
        "id": "LhPvL09Wo8to"
      },
      "source": [
        "# **Convert a query string into a text embedding to use as part of the query**\n",
        "\n",
        "Provide a question to find out the information of the university that you are interested and see how it works with Vector Search and ChatGPT.\n",
        "\n",
        "Here we use the same API that we used to calculate embeddings for each row in the database, but this time we are using your input question to calculate a vector to use in a query."
      ]
    },
    {
      "cell_type": "code",
      "execution_count": 28,
      "metadata": {
        "id": "1p_F_gUnpBf3"
      },
      "outputs": [],
      "source": [
        "# Question to find out the information that you need.\n",
        "customer_input = \"Bike for small kids\"\n",
        "\n",
        "# Create embedding based on same model\n",
        "embedding = openai.Embedding.create(input=customer_input, model=model_id)['data'][0]['embedding']\n",
        "#display(embedding)"
      ]
    },
    {
      "cell_type": "markdown",
      "metadata": {
        "id": "ocsEwZ1XpUGy"
      },
      "source": [
        "Let's take a look at what a query against a vector index could look like. The query vector has the same dimensions (number of entries in the list) as the embeddings we generated a few steps ago for each row in the database."
      ]
    },
    {
      "cell_type": "markdown",
      "metadata": {
        "id": "MMc2ZpL-3n1v"
      },
      "source": [
        "# **Find the top 3 results using ANN Similarity**"
      ]
    },
    {
      "cell_type": "code",
      "execution_count": 32,
      "metadata": {
        "id": "Idy_fxvypbae"
      },
      "outputs": [],
      "source": [
        "# Use the embedding to find the information nearest to the question asked.\n",
        "query = SimpleStatement(\n",
        "    f\"\"\"\n",
        "    SELECT *\n",
        "    FROM bike_rec.bikes\n",
        "    ORDER BY description_embedding ANN OF {embedding} LIMIT 3;\n",
        "    \"\"\"\n",
        "    )\n",
        "#display(query)"
      ]
    },
    {
      "cell_type": "code",
      "execution_count": 33,
      "metadata": {
        "colab": {
          "base_uri": "https://localhost:8080/",
          "height": 206
        },
        "id": "L2xxz1bn3oVg",
        "outputId": "02b39dc1-a0c4-42f3-8aed-71a29c3cd6d8"
      },
      "outputs": [
        {
          "data": {
            "text/html": [
              "<div>\n",
              "<style scoped>\n",
              "    .dataframe tbody tr th:only-of-type {\n",
              "        vertical-align: middle;\n",
              "    }\n",
              "\n",
              "    .dataframe tbody tr th {\n",
              "        vertical-align: top;\n",
              "    }\n",
              "\n",
              "    .dataframe thead th {\n",
              "        text-align: right;\n",
              "    }\n",
              "</style>\n",
              "<table border=\"1\" class=\"dataframe\">\n",
              "  <thead>\n",
              "    <tr style=\"text-align: right;\">\n",
              "      <th></th>\n",
              "      <th>brand</th>\n",
              "      <th>model</th>\n",
              "      <th>description</th>\n",
              "      <th>description_embedding</th>\n",
              "      <th>price</th>\n",
              "      <th>type</th>\n",
              "    </tr>\n",
              "  </thead>\n",
              "  <tbody>\n",
              "    <tr>\n",
              "      <th>0</th>\n",
              "      <td>Nord</td>\n",
              "      <td>Chook air 5</td>\n",
              "      <td>The Chook Air 5  gives kids aged six years and...</td>\n",
              "      <td>[0.012364508584141731, -0.0004169118474237621,...</td>\n",
              "      <td>815</td>\n",
              "      <td>Kids Mountain Bikes</td>\n",
              "    </tr>\n",
              "    <tr>\n",
              "      <th>1</th>\n",
              "      <td>ScramBikes</td>\n",
              "      <td>WattBike</td>\n",
              "      <td>The WattBike is the best e-bike for people who...</td>\n",
              "      <td>[0.014994332566857338, -0.010562343522906303, ...</td>\n",
              "      <td>2300</td>\n",
              "      <td>eBikes</td>\n",
              "    </tr>\n",
              "    <tr>\n",
              "      <th>2</th>\n",
              "      <td>BikeShind</td>\n",
              "      <td>ThrillCycle</td>\n",
              "      <td>An artsy\\,  retro-inspired bicycle that’s as f...</td>\n",
              "      <td>[0.004823387134820223, -0.012206671759486198, ...</td>\n",
              "      <td>815</td>\n",
              "      <td>Commuter Bikes</td>\n",
              "    </tr>\n",
              "  </tbody>\n",
              "</table>\n",
              "</div>"
            ],
            "text/plain": [
              "        brand        model                                        description  \\\n",
              "0        Nord  Chook air 5  The Chook Air 5  gives kids aged six years and...   \n",
              "1  ScramBikes     WattBike  The WattBike is the best e-bike for people who...   \n",
              "2   BikeShind  ThrillCycle  An artsy\\,  retro-inspired bicycle that’s as f...   \n",
              "\n",
              "                               description_embedding price  \\\n",
              "0  [0.012364508584141731, -0.0004169118474237621,...   815   \n",
              "1  [0.014994332566857338, -0.010562343522906303, ...  2300   \n",
              "2  [0.004823387134820223, -0.012206671759486198, ...   815   \n",
              "\n",
              "                  type  \n",
              "0  Kids Mountain Bikes  \n",
              "1               eBikes  \n",
              "2       Commuter Bikes  "
            ]
          },
          "metadata": {},
          "output_type": "display_data"
        }
      ],
      "source": [
        "results = session.execute(query)\n",
        "top_results = results._current_rows\n",
        "\n",
        "bikes_results = pd.DataFrame(top_results)\n",
        "display(bikes_results)"
      ]
    },
    {
      "cell_type": "markdown",
      "metadata": {
        "id": "OuyzO3uXURrn"
      },
      "source": [
        "## **Let's Change to use Text Analyzer Search to find top 3 Results**"
      ]
    },
    {
      "cell_type": "code",
      "execution_count": 34,
      "metadata": {
        "id": "t179NQmlUpn1"
      },
      "outputs": [],
      "source": [
        "# Use the embedding to find the information nearest to the question asked.\n",
        "query = SimpleStatement(\n",
        "    f\"\"\"\n",
        "    SELECT *\n",
        "    FROM bike_rec.bikes\n",
        "    WHERE type : 'Kids bikes'\n",
        "    ORDER BY description_embedding ANN OF {embedding} LIMIT 3;\n",
        "    \"\"\"\n",
        "    )\n",
        "#display(query)"
      ]
    },
    {
      "cell_type": "code",
      "execution_count": 35,
      "metadata": {
        "colab": {
          "base_uri": "https://localhost:8080/",
          "height": 112
        },
        "id": "fwPAIUcBUtiy",
        "outputId": "f1b4ecf4-bc10-43a0-ae67-fd190c8f85b4"
      },
      "outputs": [
        {
          "data": {
            "text/html": [
              "<div>\n",
              "<style scoped>\n",
              "    .dataframe tbody tr th:only-of-type {\n",
              "        vertical-align: middle;\n",
              "    }\n",
              "\n",
              "    .dataframe tbody tr th {\n",
              "        vertical-align: top;\n",
              "    }\n",
              "\n",
              "    .dataframe thead th {\n",
              "        text-align: right;\n",
              "    }\n",
              "</style>\n",
              "<table border=\"1\" class=\"dataframe\">\n",
              "  <thead>\n",
              "    <tr style=\"text-align: right;\">\n",
              "      <th></th>\n",
              "      <th>brand</th>\n",
              "      <th>model</th>\n",
              "      <th>description</th>\n",
              "      <th>description_embedding</th>\n",
              "      <th>price</th>\n",
              "      <th>type</th>\n",
              "    </tr>\n",
              "  </thead>\n",
              "  <tbody>\n",
              "    <tr>\n",
              "      <th>0</th>\n",
              "      <td>Nord</td>\n",
              "      <td>Chook air 5</td>\n",
              "      <td>The Chook Air 5  gives kids aged six years and...</td>\n",
              "      <td>[0.012364508584141731, -0.0004169118474237621,...</td>\n",
              "      <td>815</td>\n",
              "      <td>Kids Mountain Bikes</td>\n",
              "    </tr>\n",
              "    <tr>\n",
              "      <th>1</th>\n",
              "      <td>Bicyk</td>\n",
              "      <td>Hillcraft</td>\n",
              "      <td>Kids want to ride with as little weight as pos...</td>\n",
              "      <td>[0.027309365570545197, 0.03310307115316391, 0....</td>\n",
              "      <td>1200</td>\n",
              "      <td>Kids Mountain Bikes</td>\n",
              "    </tr>\n",
              "  </tbody>\n",
              "</table>\n",
              "</div>"
            ],
            "text/plain": [
              "   brand        model                                        description  \\\n",
              "0   Nord  Chook air 5  The Chook Air 5  gives kids aged six years and...   \n",
              "1  Bicyk    Hillcraft  Kids want to ride with as little weight as pos...   \n",
              "\n",
              "                               description_embedding price  \\\n",
              "0  [0.012364508584141731, -0.0004169118474237621,...   815   \n",
              "1  [0.027309365570545197, 0.03310307115316391, 0....  1200   \n",
              "\n",
              "                  type  \n",
              "0  Kids Mountain Bikes  \n",
              "1  Kids Mountain Bikes  "
            ]
          },
          "metadata": {},
          "output_type": "display_data"
        }
      ],
      "source": [
        "results = session.execute(query)\n",
        "top_results = results._current_rows\n",
        "\n",
        "bikes_results = pd.DataFrame(top_results)\n",
        "display(bikes_results)"
      ]
    }
  ],
  "metadata": {
    "colab": {
      "provenance": []
    },
    "kernelspec": {
      "display_name": "Python 3",
      "name": "python3"
    },
    "language_info": {
      "codemirror_mode": {
        "name": "ipython",
        "version": 3
      },
      "file_extension": ".py",
      "mimetype": "text/x-python",
      "name": "python",
      "nbconvert_exporter": "python",
      "pygments_lexer": "ipython3",
      "version": "3.11.4"
    }
  },
  "nbformat": 4,
  "nbformat_minor": 0
}
