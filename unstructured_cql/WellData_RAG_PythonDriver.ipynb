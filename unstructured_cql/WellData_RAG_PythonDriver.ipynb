{
  "cells": [
    {
      "cell_type": "code",
      "execution_count": null,
      "metadata": {
        "id": "OnKNED18T6XX"
      },
      "outputs": [],
      "source": [
        "%pip install -q \"unstructured[csv,xlsx,pdf]\" \"astrapy\" \"openai\" \"numpy\" \"cassandra-driver\" \"html2text\"\n"
      ]
    },
    {
      "cell_type": "code",
      "source": [
        "from google.colab import drive\n",
        "drive.mount('/content/drive')\n",
        "path = \"/content/drive/Shareddrives/Field Engineering/Customer Documentation/F/Fiutur/poc/01 SMART Methane Project Registration Samples\"\n",
        "path2 = \"/content/drive/Shareddrives/Field Engineering/Customer Documentation/F/Fiutur/poc/01 SMART Methane Project Registration Samples/Production Data\""
      ],
      "metadata": {
        "id": "r4sRf2y6523x",
        "colab": {
          "base_uri": "https://localhost:8080/"
        },
        "outputId": "0f29a825-8cad-4cf4-b5c3-dcffec291595"
      },
      "execution_count": 1,
      "outputs": [
        {
          "output_type": "stream",
          "name": "stdout",
          "text": [
            "Mounted at /content/drive\n"
          ]
        }
      ]
    },
    {
      "cell_type": "code",
      "execution_count": 2,
      "metadata": {
        "id": "FEmO2yqvWRvp",
        "colab": {
          "base_uri": "https://localhost:8080/"
        },
        "outputId": "d2b92b11-d63d-4373-8e7a-c07080147a19"
      },
      "outputs": [
        {
          "output_type": "stream",
          "name": "stdout",
          "text": [
            "'BPX Gas Quality Analysis - 20190723.xlsx'\n",
            "'BPX Haynesville Emission Workbook 20190919.xlsx'\n",
            "'BPX Haynesville Facility P_ID.pdf'\n",
            "'BPX Haynesville OGMP-2.0-Upstream_Reporting_Templat_MOCK.xlsx'\n",
            " pdf-images\n",
            "'Production Data'\n"
          ]
        }
      ],
      "source": [
        "!ls \"/content/drive/Shareddrives/Field Engineering/Customer Documentation/F/Fiutur/poc/01 SMART Methane Project Registration Samples\""
      ]
    },
    {
      "cell_type": "code",
      "execution_count": 4,
      "metadata": {
        "id": "wkCKyTvRXCrA"
      },
      "outputs": [],
      "source": [
        "import glob\n",
        "files1 = glob.glob(path+\"/*.xlsx\")\n",
        "files2 = glob.glob(path2+\"/*.csv\")\n",
        "files = files1+files2"
      ]
    },
    {
      "cell_type": "code",
      "execution_count": null,
      "metadata": {
        "id": "QXJQIN-GU-rr"
      },
      "outputs": [],
      "source": [
        "from unstructured.partition.auto import partition\n",
        "import html2text\n",
        "import json\n",
        "\n",
        "def to_astradb(el):\n",
        "    return {\n",
        "          \"source\": el.metadata.filename,\n",
        "          \"page\": el.metadata.page_name,\n",
        "          \"number\": el.metadata.page_number,\n",
        "          \"text\": el.text.replace(\"'\",\"\"),\n",
        "          \"render\": html2text.html2text(el.metadata.text_as_html.replace(\"'\",\"\"))\n",
        "    }\n",
        "\n",
        "print(\"Starting to parse data: \", end=\"\")\n",
        "jsons = []\n",
        "for file in files:\n",
        "    for element in partition(filename=file):\n",
        "        print(\".\", end=\"\", flush=True)\n",
        "        if element.metadata.text_as_html is not None:\n",
        "            jsons.append(to_astradb(element))\n",
        "\n",
        "print(\"Finished parsing data\", end=\"\")\n"
      ]
    },
    {
      "cell_type": "code",
      "execution_count": null,
      "metadata": {
        "id": "d6zNMKMssbsf"
      },
      "outputs": [],
      "source": [
        "import pandas as pd\n",
        "\n",
        "df = pd.DataFrame.from_dict(jsons, orient='columns')\n",
        "df = df.dropna()\n",
        "cols = ['source', 'page', 'render']\n",
        "df[\"combined\"] = df[cols].apply(lambda row: '\\n'.join(row.values.astype(str)), axis=1)\n",
        "df.info()\n"
      ]
    },
    {
      "cell_type": "code",
      "source": [
        "df.sample(5)"
      ],
      "metadata": {
        "colab": {
          "base_uri": "https://localhost:8080/",
          "height": 293
        },
        "id": "RrrEyqkRHu2n",
        "outputId": "f664b7f6-f79b-4e90-b689-409e91506254"
      },
      "execution_count": 9,
      "outputs": [
        {
          "output_type": "execute_result",
          "data": {
            "text/plain": [
              "                                               source                  page  \\\n",
              "46    BPX Haynesville Emission Workbook 20190919.xlsx         BPX EPA CO2ef   \n",
              "3   BPX Haynesville OGMP-2.0-Upstream_Reporting_Te...  L3, L4 and L5 Assets   \n",
              "30    BPX Haynesville Emission Workbook 20190919.xlsx         BPX EPA CO2ef   \n",
              "10    BPX Haynesville Emission Workbook 20190919.xlsx             BPX Daily   \n",
              "31    BPX Haynesville Emission Workbook 20190919.xlsx         BPX EPA CO2ef   \n",
              "\n",
              "    number                                               text  \\\n",
              "46     6.0  \\n\\n\\n7.0\\npounds /Metric Tonne - 1MT = 220462...   \n",
              "3      2.0  \\n\\n\\nBP Bandicoot Drilling Unit 1HB\\n42-405-3...   \n",
              "30     6.0  \\n\\n\\nSep Outlet to meter\\nValve\\n19\\n0.121\\n2...   \n",
              "10     1.0  \\n\\n\\nTotal mmbtu per day\\n80487.22964\\n\\n\\nBO...   \n",
              "31     6.0  \\n\\n\\nSales Meter\\nValve\\n8\\n0.121\\n0.968\\n\\n\\...   \n",
              "\n",
              "                                               render  \\\n",
              "46  7.0 | pounds /Metric Tonne - 1MT = 220462  \\n-...   \n",
              "3   BP Bandicoot Drilling Unit 1HB | 42-405-30585-...   \n",
              "30  Sep Outlet to meter | Valve | 19 | 0.121 | 2.2...   \n",
              "10  Total mmbtu per day | 80487.22964  \\n---|---  ...   \n",
              "31  Sales Meter | Valve | 8 | 0.121 | 0.968 |  |  ...   \n",
              "\n",
              "                                             combined  \n",
              "46  BPX Haynesville Emission Workbook 20190919.xls...  \n",
              "3   BPX Haynesville OGMP-2.0-Upstream_Reporting_Te...  \n",
              "30  BPX Haynesville Emission Workbook 20190919.xls...  \n",
              "10  BPX Haynesville Emission Workbook 20190919.xls...  \n",
              "31  BPX Haynesville Emission Workbook 20190919.xls...  "
            ],
            "text/html": [
              "\n",
              "  <div id=\"df-4dc26eb7-660c-4a34-9cfd-839b6c09d4b8\" class=\"colab-df-container\">\n",
              "    <div>\n",
              "<style scoped>\n",
              "    .dataframe tbody tr th:only-of-type {\n",
              "        vertical-align: middle;\n",
              "    }\n",
              "\n",
              "    .dataframe tbody tr th {\n",
              "        vertical-align: top;\n",
              "    }\n",
              "\n",
              "    .dataframe thead th {\n",
              "        text-align: right;\n",
              "    }\n",
              "</style>\n",
              "<table border=\"1\" class=\"dataframe\">\n",
              "  <thead>\n",
              "    <tr style=\"text-align: right;\">\n",
              "      <th></th>\n",
              "      <th>source</th>\n",
              "      <th>page</th>\n",
              "      <th>number</th>\n",
              "      <th>text</th>\n",
              "      <th>render</th>\n",
              "      <th>combined</th>\n",
              "    </tr>\n",
              "  </thead>\n",
              "  <tbody>\n",
              "    <tr>\n",
              "      <th>46</th>\n",
              "      <td>BPX Haynesville Emission Workbook 20190919.xlsx</td>\n",
              "      <td>BPX EPA CO2ef</td>\n",
              "      <td>6.0</td>\n",
              "      <td>\\n\\n\\n7.0\\npounds /Metric Tonne - 1MT = 220462...</td>\n",
              "      <td>7.0 | pounds /Metric Tonne - 1MT = 220462  \\n-...</td>\n",
              "      <td>BPX Haynesville Emission Workbook 20190919.xls...</td>\n",
              "    </tr>\n",
              "    <tr>\n",
              "      <th>3</th>\n",
              "      <td>BPX Haynesville OGMP-2.0-Upstream_Reporting_Te...</td>\n",
              "      <td>L3, L4 and L5 Assets</td>\n",
              "      <td>2.0</td>\n",
              "      <td>\\n\\n\\nBP Bandicoot Drilling Unit 1HB\\n42-405-3...</td>\n",
              "      <td>BP Bandicoot Drilling Unit 1HB | 42-405-30585-...</td>\n",
              "      <td>BPX Haynesville OGMP-2.0-Upstream_Reporting_Te...</td>\n",
              "    </tr>\n",
              "    <tr>\n",
              "      <th>30</th>\n",
              "      <td>BPX Haynesville Emission Workbook 20190919.xlsx</td>\n",
              "      <td>BPX EPA CO2ef</td>\n",
              "      <td>6.0</td>\n",
              "      <td>\\n\\n\\nSep Outlet to meter\\nValve\\n19\\n0.121\\n2...</td>\n",
              "      <td>Sep Outlet to meter | Valve | 19 | 0.121 | 2.2...</td>\n",
              "      <td>BPX Haynesville Emission Workbook 20190919.xls...</td>\n",
              "    </tr>\n",
              "    <tr>\n",
              "      <th>10</th>\n",
              "      <td>BPX Haynesville Emission Workbook 20190919.xlsx</td>\n",
              "      <td>BPX Daily</td>\n",
              "      <td>1.0</td>\n",
              "      <td>\\n\\n\\nTotal mmbtu per day\\n80487.22964\\n\\n\\nBO...</td>\n",
              "      <td>Total mmbtu per day | 80487.22964  \\n---|---  ...</td>\n",
              "      <td>BPX Haynesville Emission Workbook 20190919.xls...</td>\n",
              "    </tr>\n",
              "    <tr>\n",
              "      <th>31</th>\n",
              "      <td>BPX Haynesville Emission Workbook 20190919.xlsx</td>\n",
              "      <td>BPX EPA CO2ef</td>\n",
              "      <td>6.0</td>\n",
              "      <td>\\n\\n\\nSales Meter\\nValve\\n8\\n0.121\\n0.968\\n\\n\\...</td>\n",
              "      <td>Sales Meter | Valve | 8 | 0.121 | 0.968 |  |  ...</td>\n",
              "      <td>BPX Haynesville Emission Workbook 20190919.xls...</td>\n",
              "    </tr>\n",
              "  </tbody>\n",
              "</table>\n",
              "</div>\n",
              "    <div class=\"colab-df-buttons\">\n",
              "\n",
              "  <div class=\"colab-df-container\">\n",
              "    <button class=\"colab-df-convert\" onclick=\"convertToInteractive('df-4dc26eb7-660c-4a34-9cfd-839b6c09d4b8')\"\n",
              "            title=\"Convert this dataframe to an interactive table.\"\n",
              "            style=\"display:none;\">\n",
              "\n",
              "  <svg xmlns=\"http://www.w3.org/2000/svg\" height=\"24px\" viewBox=\"0 -960 960 960\">\n",
              "    <path d=\"M120-120v-720h720v720H120Zm60-500h600v-160H180v160Zm220 220h160v-160H400v160Zm0 220h160v-160H400v160ZM180-400h160v-160H180v160Zm440 0h160v-160H620v160ZM180-180h160v-160H180v160Zm440 0h160v-160H620v160Z\"/>\n",
              "  </svg>\n",
              "    </button>\n",
              "\n",
              "  <style>\n",
              "    .colab-df-container {\n",
              "      display:flex;\n",
              "      gap: 12px;\n",
              "    }\n",
              "\n",
              "    .colab-df-convert {\n",
              "      background-color: #E8F0FE;\n",
              "      border: none;\n",
              "      border-radius: 50%;\n",
              "      cursor: pointer;\n",
              "      display: none;\n",
              "      fill: #1967D2;\n",
              "      height: 32px;\n",
              "      padding: 0 0 0 0;\n",
              "      width: 32px;\n",
              "    }\n",
              "\n",
              "    .colab-df-convert:hover {\n",
              "      background-color: #E2EBFA;\n",
              "      box-shadow: 0px 1px 2px rgba(60, 64, 67, 0.3), 0px 1px 3px 1px rgba(60, 64, 67, 0.15);\n",
              "      fill: #174EA6;\n",
              "    }\n",
              "\n",
              "    .colab-df-buttons div {\n",
              "      margin-bottom: 4px;\n",
              "    }\n",
              "\n",
              "    [theme=dark] .colab-df-convert {\n",
              "      background-color: #3B4455;\n",
              "      fill: #D2E3FC;\n",
              "    }\n",
              "\n",
              "    [theme=dark] .colab-df-convert:hover {\n",
              "      background-color: #434B5C;\n",
              "      box-shadow: 0px 1px 3px 1px rgba(0, 0, 0, 0.15);\n",
              "      filter: drop-shadow(0px 1px 2px rgba(0, 0, 0, 0.3));\n",
              "      fill: #FFFFFF;\n",
              "    }\n",
              "  </style>\n",
              "\n",
              "    <script>\n",
              "      const buttonEl =\n",
              "        document.querySelector('#df-4dc26eb7-660c-4a34-9cfd-839b6c09d4b8 button.colab-df-convert');\n",
              "      buttonEl.style.display =\n",
              "        google.colab.kernel.accessAllowed ? 'block' : 'none';\n",
              "\n",
              "      async function convertToInteractive(key) {\n",
              "        const element = document.querySelector('#df-4dc26eb7-660c-4a34-9cfd-839b6c09d4b8');\n",
              "        const dataTable =\n",
              "          await google.colab.kernel.invokeFunction('convertToInteractive',\n",
              "                                                    [key], {});\n",
              "        if (!dataTable) return;\n",
              "\n",
              "        const docLinkHtml = 'Like what you see? Visit the ' +\n",
              "          '<a target=\"_blank\" href=https://colab.research.google.com/notebooks/data_table.ipynb>data table notebook</a>'\n",
              "          + ' to learn more about interactive tables.';\n",
              "        element.innerHTML = '';\n",
              "        dataTable['output_type'] = 'display_data';\n",
              "        await google.colab.output.renderOutput(dataTable, element);\n",
              "        const docLink = document.createElement('div');\n",
              "        docLink.innerHTML = docLinkHtml;\n",
              "        element.appendChild(docLink);\n",
              "      }\n",
              "    </script>\n",
              "  </div>\n",
              "\n",
              "\n",
              "<div id=\"df-b4695193-da98-4d7e-853d-03ab6b21474f\">\n",
              "  <button class=\"colab-df-quickchart\" onclick=\"quickchart('df-b4695193-da98-4d7e-853d-03ab6b21474f')\"\n",
              "            title=\"Suggest charts\"\n",
              "            style=\"display:none;\">\n",
              "\n",
              "<svg xmlns=\"http://www.w3.org/2000/svg\" height=\"24px\"viewBox=\"0 0 24 24\"\n",
              "     width=\"24px\">\n",
              "    <g>\n",
              "        <path d=\"M19 3H5c-1.1 0-2 .9-2 2v14c0 1.1.9 2 2 2h14c1.1 0 2-.9 2-2V5c0-1.1-.9-2-2-2zM9 17H7v-7h2v7zm4 0h-2V7h2v10zm4 0h-2v-4h2v4z\"/>\n",
              "    </g>\n",
              "</svg>\n",
              "  </button>\n",
              "\n",
              "<style>\n",
              "  .colab-df-quickchart {\n",
              "      --bg-color: #E8F0FE;\n",
              "      --fill-color: #1967D2;\n",
              "      --hover-bg-color: #E2EBFA;\n",
              "      --hover-fill-color: #174EA6;\n",
              "      --disabled-fill-color: #AAA;\n",
              "      --disabled-bg-color: #DDD;\n",
              "  }\n",
              "\n",
              "  [theme=dark] .colab-df-quickchart {\n",
              "      --bg-color: #3B4455;\n",
              "      --fill-color: #D2E3FC;\n",
              "      --hover-bg-color: #434B5C;\n",
              "      --hover-fill-color: #FFFFFF;\n",
              "      --disabled-bg-color: #3B4455;\n",
              "      --disabled-fill-color: #666;\n",
              "  }\n",
              "\n",
              "  .colab-df-quickchart {\n",
              "    background-color: var(--bg-color);\n",
              "    border: none;\n",
              "    border-radius: 50%;\n",
              "    cursor: pointer;\n",
              "    display: none;\n",
              "    fill: var(--fill-color);\n",
              "    height: 32px;\n",
              "    padding: 0;\n",
              "    width: 32px;\n",
              "  }\n",
              "\n",
              "  .colab-df-quickchart:hover {\n",
              "    background-color: var(--hover-bg-color);\n",
              "    box-shadow: 0 1px 2px rgba(60, 64, 67, 0.3), 0 1px 3px 1px rgba(60, 64, 67, 0.15);\n",
              "    fill: var(--button-hover-fill-color);\n",
              "  }\n",
              "\n",
              "  .colab-df-quickchart-complete:disabled,\n",
              "  .colab-df-quickchart-complete:disabled:hover {\n",
              "    background-color: var(--disabled-bg-color);\n",
              "    fill: var(--disabled-fill-color);\n",
              "    box-shadow: none;\n",
              "  }\n",
              "\n",
              "  .colab-df-spinner {\n",
              "    border: 2px solid var(--fill-color);\n",
              "    border-color: transparent;\n",
              "    border-bottom-color: var(--fill-color);\n",
              "    animation:\n",
              "      spin 1s steps(1) infinite;\n",
              "  }\n",
              "\n",
              "  @keyframes spin {\n",
              "    0% {\n",
              "      border-color: transparent;\n",
              "      border-bottom-color: var(--fill-color);\n",
              "      border-left-color: var(--fill-color);\n",
              "    }\n",
              "    20% {\n",
              "      border-color: transparent;\n",
              "      border-left-color: var(--fill-color);\n",
              "      border-top-color: var(--fill-color);\n",
              "    }\n",
              "    30% {\n",
              "      border-color: transparent;\n",
              "      border-left-color: var(--fill-color);\n",
              "      border-top-color: var(--fill-color);\n",
              "      border-right-color: var(--fill-color);\n",
              "    }\n",
              "    40% {\n",
              "      border-color: transparent;\n",
              "      border-right-color: var(--fill-color);\n",
              "      border-top-color: var(--fill-color);\n",
              "    }\n",
              "    60% {\n",
              "      border-color: transparent;\n",
              "      border-right-color: var(--fill-color);\n",
              "    }\n",
              "    80% {\n",
              "      border-color: transparent;\n",
              "      border-right-color: var(--fill-color);\n",
              "      border-bottom-color: var(--fill-color);\n",
              "    }\n",
              "    90% {\n",
              "      border-color: transparent;\n",
              "      border-bottom-color: var(--fill-color);\n",
              "    }\n",
              "  }\n",
              "</style>\n",
              "\n",
              "  <script>\n",
              "    async function quickchart(key) {\n",
              "      const quickchartButtonEl =\n",
              "        document.querySelector('#' + key + ' button');\n",
              "      quickchartButtonEl.disabled = true;  // To prevent multiple clicks.\n",
              "      quickchartButtonEl.classList.add('colab-df-spinner');\n",
              "      try {\n",
              "        const charts = await google.colab.kernel.invokeFunction(\n",
              "            'suggestCharts', [key], {});\n",
              "      } catch (error) {\n",
              "        console.error('Error during call to suggestCharts:', error);\n",
              "      }\n",
              "      quickchartButtonEl.classList.remove('colab-df-spinner');\n",
              "      quickchartButtonEl.classList.add('colab-df-quickchart-complete');\n",
              "    }\n",
              "    (() => {\n",
              "      let quickchartButtonEl =\n",
              "        document.querySelector('#df-b4695193-da98-4d7e-853d-03ab6b21474f button');\n",
              "      quickchartButtonEl.style.display =\n",
              "        google.colab.kernel.accessAllowed ? 'block' : 'none';\n",
              "    })();\n",
              "  </script>\n",
              "</div>\n",
              "    </div>\n",
              "  </div>\n"
            ],
            "application/vnd.google.colaboratory.intrinsic+json": {
              "type": "dataframe",
              "summary": "{\n  \"name\": \"df\",\n  \"rows\": 5,\n  \"fields\": [\n    {\n      \"column\": \"source\",\n      \"properties\": {\n        \"dtype\": \"category\",\n        \"num_unique_values\": 2,\n        \"samples\": [\n          \"BPX Haynesville OGMP-2.0-Upstream_Reporting_Templat_MOCK.xlsx\",\n          \"BPX Haynesville Emission Workbook 20190919.xlsx\"\n        ],\n        \"semantic_type\": \"\",\n        \"description\": \"\"\n      }\n    },\n    {\n      \"column\": \"page\",\n      \"properties\": {\n        \"dtype\": \"string\",\n        \"num_unique_values\": 3,\n        \"samples\": [\n          \"BPX EPA CO2ef\",\n          \"L3, L4 and L5 Assets\"\n        ],\n        \"semantic_type\": \"\",\n        \"description\": \"\"\n      }\n    },\n    {\n      \"column\": \"number\",\n      \"properties\": {\n        \"dtype\": \"number\",\n        \"std\": 2.4899799195977463,\n        \"min\": 1.0,\n        \"max\": 6.0,\n        \"num_unique_values\": 3,\n        \"samples\": [\n          6.0,\n          2.0\n        ],\n        \"semantic_type\": \"\",\n        \"description\": \"\"\n      }\n    },\n    {\n      \"column\": \"text\",\n      \"properties\": {\n        \"dtype\": \"string\",\n        \"num_unique_values\": 5,\n        \"samples\": [\n          \"\\n\\n\\nBP Bandicoot Drilling Unit 1HB\\n42-405-30585-0000\\nProduction per region/basin: Onshore \\u2013 Unconventional\\nDry Gas Well\\nUnited States of America\\n31.47725\\n-94.28228\\nYes\\nbp\\n0.75\\nWorking Interest\\n0.0977\\nLevel 3\\n\\nMeasurement based emission factor\\n0\\nLevel 3\\n\\n\\n1.31827\\nLevel 3\\n\\n\\n0.57753\\nLevel 3\\n\\n\\n0\\nLevel 3\\n\\n\\n0\\nLevel 3\\n\\n\\n0\\nLevel 3\\n\\n\\n0\\nLevel 3\\n\\n\\n0\\nLevel 3\\n\\n\\n0\\nLevel 3\\n\\n\\n0\\nLevel 3\\n\\n\\n0\\nLevel 3\\n\\n\\n0\\nLevel 3\\n\\n\\n\\n1.9935\\n\\n\\n\\n\\n\\n\\n\\nno\\n\\n\\nBP Bandicoot Drilling Unit 2HB\\n\\\\n42-405-30578-0000\\nProduction per region/basin: Onshore \\u2013 Unconventional\\nDry Gas Well\\nUnited States of America\\n31.47727\\n-94.28217\\nYes\\nbp\\n0.75\\nWorking Interest\\n0.0977\\nLevel 3\\n\\n\\n0\\nLevel 3\\n\\n\\n1.31827\\nLevel 3\\n\\n\\n0.57753\\nLevel 3\\n\\n\\n0\\nLevel 3\\n\\n\\n0\\nLevel 3\\n\\n\\n0\\nLevel 3\\n\\n\\n0\\nLevel 3\\n\\n\\n0\\nLevel 3\\n\\n\\n0\\nLevel 3\\n\\n\\n0\\nLevel 3\\n\\n\\n0\\nLevel 3\\n\\n\\n0\\nLevel 3\\n\\n\\n\\n1.9935\\n\\n\\n\\n\\n\\n\\n\\nno\\n\\n\\nPLUTO GAS UNIT 1H\\n42-347-33359\\nProduction per region/basin: Onshore \\u2013 Unconventional\\nDry Gas Well\\nUnited States of America\\n31.43467\\n-94.41832\\nYes\\nbp\\n0.6\\nWorking Interest\\n0.1954\\nLevel 3\\n\\n\\n0\\nLevel 3\\n\\n\\n1.42602\\nLevel 3\\n\\n\\n0.68528\\nLevel 3\\n\\n\\n0\\nLevel 3\\n\\n\\n0\\nLevel 3\\n\\n\\n0\\nLevel 3\\n\\n\\n0\\nLevel 3\\n\\n\\n0\\nLevel 3\\n\\n\\n0\\nLevel 3\\n\\n\\n0\\nLevel 3\\n\\n\\n0\\nLevel 3\\n\\n\\n0\\nLevel 3\\n\\n\\n\\n2.3067\\n\\n\\n\\n\\n\\n\\n\\nno\\n\\n\\nPLUTO GAS UNIT 1HB\\n42-347-33360\\nProduction per region/basin: Onshore \\u2013 Unconventional\\nDry Gas Well\\nUnited States of America\\n31.43461\\n-94.41833\\nYes\\nbp\\n0.6\\nWorking Interest\\n0.1954\\nLevel 3\\n\\n\\n0\\nLevel 3\\n\\n\\n1.42602\\nLevel 3\\n\\n\\n0.68528\\nLevel 3\\n\\n\\n0\\nLevel 3\\n\\n\\n0\\nLevel 3\\n\\n\\n0\\nLevel 3\\n\\n\\n0\\nLevel 3\\n\\n\\n0\\nLevel 3\\n\\n\\n0\\nLevel 3\\n\\n\\n0\\nLevel 3\\n\\n\\n0\\nLevel 3\\n\\n\\n0\\nLevel 3\\n\\n\\n\\n2.3067\\n\\n\\n\\n\\n\\n\\n\\nno\\n\\n\\nTREX GAS UNIT 1H\\n42-005-30406\\nProduction per region/basin: Onshore \\u2013 Unconventional\\nDry Gas Well\\nUnited States of America\\n31.38266\\n-94.58693\\nYes\\nbp\\n0.9\\nWorking Interest\\n0.1954\\nLevel 3\\n\\n\\n0\\nLevel 3\\n\\n\\n1.42602\\nLevel 3\\n\\n\\n0.68528\\nLevel 3\\n\\n\\n0\\nLevel 3\\n\\n\\n0\\nLevel 3\\n\\n\\n0\\nLevel 3\\n\\n\\n0\\nLevel 3\\n\\n\\n0\\nLevel 3\\n\\n\\n0\\nLevel 3\\n\\n\\n0\\nLevel 3\\n\\n\\n0\\nLevel 3\\n\\n\\n0\\nLevel 3\\n\\n\\n\\n2.3067\\n\\n\\n\\n\\n\\n\\n\\nno\\n\\n\\nTAZ GAS UNIT 1H\\n42-405-30604\\nProduction per region/basin: Onshore \\u2013 Unconventional\\nDry Gas Well\\nUnited States of America\\n31.48071\\n-94.26286\\nYes\\nbp\\n0.68\\nWorking Interest\\n0.0977\\nLevel 3\\n\\n\\n0\\nLevel 3\\n\\n\\n1.42602\\nLevel 3\\n\\n\\n0.68528\\nLevel 3\\n\\n\\n0\\nLevel 3\\n\\n\\n0\\nLevel 3\\n\\n\\n0\\nLevel 3\\n\\n\\n0\\nLevel 3\\n\\n\\n0\\nLevel 3\\n\\n\\n0\\nLevel 3\\n\\n\\n0\\nLevel 3\\n\\n\\n0\\nLevel 3\\n\\n\\n0\\nLevel 3\\n\\n\\n\\n2.209\\n\\n\\n\\n\\n\\n\\n\\nno\\n\\n\\nTAZ GAS UNIT 2H\\n42-405-30607\\nProduction per region/basin: Onshore \\u2013 Unconventional\\nDry Gas Well\\nUnited States of America\\n31.48247\\n-94.24899\\nYes\\nbp\\n0.68\\nWorking Interest\\n0.0977\\nLevel 3\\n\\n\\n0\\nLevel 3\\n\\n\\n1.35867\\nLevel 3\\n\\n\\n0.61793\\nLevel 3\\n\\n\\n0\\nLevel 3\\n\\n\\n0\\nLevel 3\\n\\n\\n0\\nLevel 3\\n\\n\\n0\\nLevel 3\\n\\n\\n0\\nLevel 3\\n\\n\\n0\\nLevel 3\\n\\n\\n0\\nLevel 3\\n\\n\\n0\\nLevel 3\\n\\n\\n0\\nLevel 3\\n\\n\\n\\n2.0743\\n\\n\\n\\n\\n\\n\\n\\nno\\n\\n\\nTAZ GAS UNIT 3H\\n42-405-30617\\nProduction per region/basin: Onshore \\u2013 Unconventional\\nDry Gas Well\\nUnited States of America\\n31.48267\\n-94.24911\\nYes\\nbp\\n0.68\\nWorking Interest\\n0.1954\\nLevel 3\\n\\n\\n0\\nLevel 3\\n\\n\\n1.35867\\nLevel 3\\n\\n\\n0.61793\\nLevel 3\\n\\n\\n0\\nLevel 3\\n\\n\\n0\\nLevel 3\\n\\n\\n0\\nLevel 3\\n\\n\\n0\\nLevel 3\\n\\n\\n0\\nLevel 3\\n\\n\\n0\\nLevel 3\\n\\n\\n0\\nLevel 3\\n\\n\\n0\\nLevel 3\\n\\n\\n0\\nLevel 3\\n\\n\\n\\n2.172\\n\\n\\n\\n\\n\\n\\n\\nno\\n\\n\\nWALKER SU J 1H\\n42-347-33347-0000\\nProduction per region/basin: Onshore \\u2013 Unconventional\\nDry Gas Well\\nUnited States of America\\n31.44292\\n-94.40077\\nYes\\nbp\\n0.7\\nWorking Interest\\n0.1954\\nLevel 3\\n\\n\\n0\\nLevel 3\\n\\n\\n1.42602\\nLevel 3\\n\\n\\n0.68528\\nLevel 3\\n\\n\\n0\\nLevel 3\\n\\n\\n0\\nLevel 3\\n\\n\\n0\\nLevel 3\\n\\n\\n0\\nLevel 3\\n\\n\\n0\\nLevel 3\\n\\n\\n0\\nLevel 3\\n\\n\\n0\\nLevel 3\\n\\n\\n0\\nLevel 3\\n\\n\\n0\\nLevel 3\\n\\n\\n\\n2.3067\\n\\n\\n\\n\\n\\n\\n\\nno\\n\\n\\n\",\n          \"\\n\\n\\nSales Meter\\nValve\\n8\\n0.121\\n0.968\\n\\n\\n\\n\\n\\n\\n\\n\\n\\n\\n\\nConnector\\n22\\n0.017\\n0.374\\n\\n\\n\\n\\n\\n\\n\\n\\uf739\\n\\n\\n\\nPressure Relief Valve\\n1\\n0.196\\n0.196\\n\\n\\n\\n\\n\\n\\n\\n\\n\\n\\n\\nPipe (miles)\\n0.0095\\n0.47\\n0.004465\\n\\n\\n\\n\\n\\n\\n\\n\\uf739\\n\\n\\nSection Sub-Total\\n\\n\\n\\n1.542465\\n\\n\\n\\n\\n\\n\\n\\n\\n\\n\\n\"\n        ],\n        \"semantic_type\": \"\",\n        \"description\": \"\"\n      }\n    },\n    {\n      \"column\": \"render\",\n      \"properties\": {\n        \"dtype\": \"string\",\n        \"num_unique_values\": 5,\n        \"samples\": [\n          \"BP Bandicoot Drilling Unit 1HB | 42-405-30585-0000 | Production per region/basin: Onshore \\u2013 Unconventional | Dry Gas Well | United States of America | 31.47725 | -94.28228 | Yes | bp | 0.75 | Working Interest | 0.0977 | Level 3 |  | Measurement based emission factor | 0 | Level 3 |  |  | 1.31827 | Level 3 |  |  | 0.57753 | Level 3 |  |  | 0 | Level 3 |  |  | 0 | Level 3 |  |  | 0 | Level 3 |  |  | 0 | Level 3 |  |  | 0 | Level 3 |  |  | 0 | Level 3 |  |  | 0 | Level 3 |  |  | 0 | Level 3 |  |  | 0 | Level 3 |  |  |  | 1.9935 |  |  |  |  |  |  |  | no  \\n---|---|---|---|---|---|---|---|---|---|---|---|---|---|---|---|---|---|---|---|---|---|---|---|---|---|---|---|---|---|---|---|---|---|---|---|---|---|---|---|---|---|---|---|---|---|---|---|---|---|---|---|---|---|---|---|---|---|---|---|---|---|---|---|---|---|---|---|---|---|---|---|---  \\nBP Bandicoot Drilling Unit 2HB | \\\\n42-405-30578-0000 | Production per region/basin: Onshore \\u2013 Unconventional | Dry Gas Well | United States of America | 31.47727 | -94.28217 | Yes | bp | 0.75 | Working Interest | 0.0977 | Level 3 |  |  | 0 | Level 3 |  |  | 1.31827 | Level 3 |  |  | 0.57753 | Level 3 |  |  | 0 | Level 3 |  |  | 0 | Level 3 |  |  | 0 | Level 3 |  |  | 0 | Level 3 |  |  | 0 | Level 3 |  |  | 0 | Level 3 |  |  | 0 | Level 3 |  |  | 0 | Level 3 |  |  | 0 | Level 3 |  |  |  | 1.9935 |  |  |  |  |  |  |  | no  \\nPLUTO GAS UNIT 1H | 42-347-33359 | Production per region/basin: Onshore \\u2013 Unconventional | Dry Gas Well | United States of America | 31.43467 | -94.41832 | Yes | bp | 0.6 | Working Interest | 0.1954 | Level 3 |  |  | 0 | Level 3 |  |  | 1.42602 | Level 3 |  |  | 0.68528 | Level 3 |  |  | 0 | Level 3 |  |  | 0 | Level 3 |  |  | 0 | Level 3 |  |  | 0 | Level 3 |  |  | 0 | Level 3 |  |  | 0 | Level 3 |  |  | 0 | Level 3 |  |  | 0 | Level 3 |  |  | 0 | Level 3 |  |  |  | 2.3067 |  |  |  |  |  |  |  | no  \\nPLUTO GAS UNIT 1HB | 42-347-33360 | Production per region/basin: Onshore \\u2013 Unconventional | Dry Gas Well | United States of America | 31.43461 | -94.41833 | Yes | bp | 0.6 | Working Interest | 0.1954 | Level 3 |  |  | 0 | Level 3 |  |  | 1.42602 | Level 3 |  |  | 0.68528 | Level 3 |  |  | 0 | Level 3 |  |  | 0 | Level 3 |  |  | 0 | Level 3 |  |  | 0 | Level 3 |  |  | 0 | Level 3 |  |  | 0 | Level 3 |  |  | 0 | Level 3 |  |  | 0 | Level 3 |  |  | 0 | Level 3 |  |  |  | 2.3067 |  |  |  |  |  |  |  | no  \\nTREX GAS UNIT 1H | 42-005-30406 | Production per region/basin: Onshore \\u2013 Unconventional | Dry Gas Well | United States of America | 31.38266 | -94.58693 | Yes | bp | 0.9 | Working Interest | 0.1954 | Level 3 |  |  | 0 | Level 3 |  |  | 1.42602 | Level 3 |  |  | 0.68528 | Level 3 |  |  | 0 | Level 3 |  |  | 0 | Level 3 |  |  | 0 | Level 3 |  |  | 0 | Level 3 |  |  | 0 | Level 3 |  |  | 0 | Level 3 |  |  | 0 | Level 3 |  |  | 0 | Level 3 |  |  | 0 | Level 3 |  |  |  | 2.3067 |  |  |  |  |  |  |  | no  \\nTAZ GAS UNIT 1H | 42-405-30604 | Production per region/basin: Onshore \\u2013 Unconventional | Dry Gas Well | United States of America | 31.48071 | -94.26286 | Yes | bp | 0.68 | Working Interest | 0.0977 | Level 3 |  |  | 0 | Level 3 |  |  | 1.42602 | Level 3 |  |  | 0.68528 | Level 3 |  |  | 0 | Level 3 |  |  | 0 | Level 3 |  |  | 0 | Level 3 |  |  | 0 | Level 3 |  |  | 0 | Level 3 |  |  | 0 | Level 3 |  |  | 0 | Level 3 |  |  | 0 | Level 3 |  |  | 0 | Level 3 |  |  |  | 2.209 |  |  |  |  |  |  |  | no  \\nTAZ GAS UNIT 2H | 42-405-30607 | Production per region/basin: Onshore \\u2013 Unconventional | Dry Gas Well | United States of America | 31.48247 | -94.24899 | Yes | bp | 0.68 | Working Interest | 0.0977 | Level 3 |  |  | 0 | Level 3 |  |  | 1.35867 | Level 3 |  |  | 0.61793 | Level 3 |  |  | 0 | Level 3 |  |  | 0 | Level 3 |  |  | 0 | Level 3 |  |  | 0 | Level 3 |  |  | 0 | Level 3 |  |  | 0 | Level 3 |  |  | 0 | Level 3 |  |  | 0 | Level 3 |  |  | 0 | Level 3 |  |  |  | 2.0743 |  |  |  |  |  |  |  | no  \\nTAZ GAS UNIT 3H | 42-405-30617 | Production per region/basin: Onshore \\u2013 Unconventional | Dry Gas Well | United States of America | 31.48267 | -94.24911 | Yes | bp | 0.68 | Working Interest | 0.1954 | Level 3 |  |  | 0 | Level 3 |  |  | 1.35867 | Level 3 |  |  | 0.61793 | Level 3 |  |  | 0 | Level 3 |  |  | 0 | Level 3 |  |  | 0 | Level 3 |  |  | 0 | Level 3 |  |  | 0 | Level 3 |  |  | 0 | Level 3 |  |  | 0 | Level 3 |  |  | 0 | Level 3 |  |  | 0 | Level 3 |  |  |  | 2.172 |  |  |  |  |  |  |  | no  \\nWALKER SU J 1H | 42-347-33347-0000 | Production per region/basin: Onshore \\u2013 Unconventional | Dry Gas Well | United States of America | 31.44292 | -94.40077 | Yes | bp | 0.7 | Working Interest | 0.1954 | Level 3 |  |  | 0 | Level 3 |  |  | 1.42602 | Level 3 |  |  | 0.68528 | Level 3 |  |  | 0 | Level 3 |  |  | 0 | Level 3 |  |  | 0 | Level 3 |  |  | 0 | Level 3 |  |  | 0 | Level 3 |  |  | 0 | Level 3 |  |  | 0 | Level 3 |  |  | 0 | Level 3 |  |  | 0 | Level 3 |  |  |  | 2.3067 |  |  |  |  |  |  |  | no\\n\\n\",\n          \"Sales Meter | Valve | 8 | 0.121 | 0.968 |  |  |  |  |  |  |  |   \\n---|---|---|---|---|---|---|---|---|---|---|---|---  \\n| Connector | 22 | 0.017 | 0.374 |  |  |  |  |  |  |  | \\uf739  \\n| Pressure Relief Valve | 1 | 0.196 | 0.196 |  |  |  |  |  |  |  |   \\n| Pipe (miles) | 0.0095 | 0.47 | 0.004465 |  |  |  |  |  |  |  | \\uf739  \\nSection Sub-Total |  |  |  | 1.542465 |  |  |  |  |  |  |  | \\n\\n\"\n        ],\n        \"semantic_type\": \"\",\n        \"description\": \"\"\n      }\n    },\n    {\n      \"column\": \"combined\",\n      \"properties\": {\n        \"dtype\": \"string\",\n        \"num_unique_values\": 5,\n        \"samples\": [\n          \"BPX Haynesville OGMP-2.0-Upstream_Reporting_Templat_MOCK.xlsx\\nL3, L4 and L5 Assets\\nBP Bandicoot Drilling Unit 1HB | 42-405-30585-0000 | Production per region/basin: Onshore \\u2013 Unconventional | Dry Gas Well | United States of America | 31.47725 | -94.28228 | Yes | bp | 0.75 | Working Interest | 0.0977 | Level 3 |  | Measurement based emission factor | 0 | Level 3 |  |  | 1.31827 | Level 3 |  |  | 0.57753 | Level 3 |  |  | 0 | Level 3 |  |  | 0 | Level 3 |  |  | 0 | Level 3 |  |  | 0 | Level 3 |  |  | 0 | Level 3 |  |  | 0 | Level 3 |  |  | 0 | Level 3 |  |  | 0 | Level 3 |  |  | 0 | Level 3 |  |  |  | 1.9935 |  |  |  |  |  |  |  | no  \\n---|---|---|---|---|---|---|---|---|---|---|---|---|---|---|---|---|---|---|---|---|---|---|---|---|---|---|---|---|---|---|---|---|---|---|---|---|---|---|---|---|---|---|---|---|---|---|---|---|---|---|---|---|---|---|---|---|---|---|---|---|---|---|---|---|---|---|---|---|---|---|---|---  \\nBP Bandicoot Drilling Unit 2HB | \\\\n42-405-30578-0000 | Production per region/basin: Onshore \\u2013 Unconventional | Dry Gas Well | United States of America | 31.47727 | -94.28217 | Yes | bp | 0.75 | Working Interest | 0.0977 | Level 3 |  |  | 0 | Level 3 |  |  | 1.31827 | Level 3 |  |  | 0.57753 | Level 3 |  |  | 0 | Level 3 |  |  | 0 | Level 3 |  |  | 0 | Level 3 |  |  | 0 | Level 3 |  |  | 0 | Level 3 |  |  | 0 | Level 3 |  |  | 0 | Level 3 |  |  | 0 | Level 3 |  |  | 0 | Level 3 |  |  |  | 1.9935 |  |  |  |  |  |  |  | no  \\nPLUTO GAS UNIT 1H | 42-347-33359 | Production per region/basin: Onshore \\u2013 Unconventional | Dry Gas Well | United States of America | 31.43467 | -94.41832 | Yes | bp | 0.6 | Working Interest | 0.1954 | Level 3 |  |  | 0 | Level 3 |  |  | 1.42602 | Level 3 |  |  | 0.68528 | Level 3 |  |  | 0 | Level 3 |  |  | 0 | Level 3 |  |  | 0 | Level 3 |  |  | 0 | Level 3 |  |  | 0 | Level 3 |  |  | 0 | Level 3 |  |  | 0 | Level 3 |  |  | 0 | Level 3 |  |  | 0 | Level 3 |  |  |  | 2.3067 |  |  |  |  |  |  |  | no  \\nPLUTO GAS UNIT 1HB | 42-347-33360 | Production per region/basin: Onshore \\u2013 Unconventional | Dry Gas Well | United States of America | 31.43461 | -94.41833 | Yes | bp | 0.6 | Working Interest | 0.1954 | Level 3 |  |  | 0 | Level 3 |  |  | 1.42602 | Level 3 |  |  | 0.68528 | Level 3 |  |  | 0 | Level 3 |  |  | 0 | Level 3 |  |  | 0 | Level 3 |  |  | 0 | Level 3 |  |  | 0 | Level 3 |  |  | 0 | Level 3 |  |  | 0 | Level 3 |  |  | 0 | Level 3 |  |  | 0 | Level 3 |  |  |  | 2.3067 |  |  |  |  |  |  |  | no  \\nTREX GAS UNIT 1H | 42-005-30406 | Production per region/basin: Onshore \\u2013 Unconventional | Dry Gas Well | United States of America | 31.38266 | -94.58693 | Yes | bp | 0.9 | Working Interest | 0.1954 | Level 3 |  |  | 0 | Level 3 |  |  | 1.42602 | Level 3 |  |  | 0.68528 | Level 3 |  |  | 0 | Level 3 |  |  | 0 | Level 3 |  |  | 0 | Level 3 |  |  | 0 | Level 3 |  |  | 0 | Level 3 |  |  | 0 | Level 3 |  |  | 0 | Level 3 |  |  | 0 | Level 3 |  |  | 0 | Level 3 |  |  |  | 2.3067 |  |  |  |  |  |  |  | no  \\nTAZ GAS UNIT 1H | 42-405-30604 | Production per region/basin: Onshore \\u2013 Unconventional | Dry Gas Well | United States of America | 31.48071 | -94.26286 | Yes | bp | 0.68 | Working Interest | 0.0977 | Level 3 |  |  | 0 | Level 3 |  |  | 1.42602 | Level 3 |  |  | 0.68528 | Level 3 |  |  | 0 | Level 3 |  |  | 0 | Level 3 |  |  | 0 | Level 3 |  |  | 0 | Level 3 |  |  | 0 | Level 3 |  |  | 0 | Level 3 |  |  | 0 | Level 3 |  |  | 0 | Level 3 |  |  | 0 | Level 3 |  |  |  | 2.209 |  |  |  |  |  |  |  | no  \\nTAZ GAS UNIT 2H | 42-405-30607 | Production per region/basin: Onshore \\u2013 Unconventional | Dry Gas Well | United States of America | 31.48247 | -94.24899 | Yes | bp | 0.68 | Working Interest | 0.0977 | Level 3 |  |  | 0 | Level 3 |  |  | 1.35867 | Level 3 |  |  | 0.61793 | Level 3 |  |  | 0 | Level 3 |  |  | 0 | Level 3 |  |  | 0 | Level 3 |  |  | 0 | Level 3 |  |  | 0 | Level 3 |  |  | 0 | Level 3 |  |  | 0 | Level 3 |  |  | 0 | Level 3 |  |  | 0 | Level 3 |  |  |  | 2.0743 |  |  |  |  |  |  |  | no  \\nTAZ GAS UNIT 3H | 42-405-30617 | Production per region/basin: Onshore \\u2013 Unconventional | Dry Gas Well | United States of America | 31.48267 | -94.24911 | Yes | bp | 0.68 | Working Interest | 0.1954 | Level 3 |  |  | 0 | Level 3 |  |  | 1.35867 | Level 3 |  |  | 0.61793 | Level 3 |  |  | 0 | Level 3 |  |  | 0 | Level 3 |  |  | 0 | Level 3 |  |  | 0 | Level 3 |  |  | 0 | Level 3 |  |  | 0 | Level 3 |  |  | 0 | Level 3 |  |  | 0 | Level 3 |  |  | 0 | Level 3 |  |  |  | 2.172 |  |  |  |  |  |  |  | no  \\nWALKER SU J 1H | 42-347-33347-0000 | Production per region/basin: Onshore \\u2013 Unconventional | Dry Gas Well | United States of America | 31.44292 | -94.40077 | Yes | bp | 0.7 | Working Interest | 0.1954 | Level 3 |  |  | 0 | Level 3 |  |  | 1.42602 | Level 3 |  |  | 0.68528 | Level 3 |  |  | 0 | Level 3 |  |  | 0 | Level 3 |  |  | 0 | Level 3 |  |  | 0 | Level 3 |  |  | 0 | Level 3 |  |  | 0 | Level 3 |  |  | 0 | Level 3 |  |  | 0 | Level 3 |  |  | 0 | Level 3 |  |  |  | 2.3067 |  |  |  |  |  |  |  | no\\n\\n\",\n          \"BPX Haynesville Emission Workbook 20190919.xlsx\\nBPX EPA CO2ef\\nSales Meter | Valve | 8 | 0.121 | 0.968 |  |  |  |  |  |  |  |   \\n---|---|---|---|---|---|---|---|---|---|---|---|---  \\n| Connector | 22 | 0.017 | 0.374 |  |  |  |  |  |  |  | \\uf739  \\n| Pressure Relief Valve | 1 | 0.196 | 0.196 |  |  |  |  |  |  |  |   \\n| Pipe (miles) | 0.0095 | 0.47 | 0.004465 |  |  |  |  |  |  |  | \\uf739  \\nSection Sub-Total |  |  |  | 1.542465 |  |  |  |  |  |  |  | \\n\\n\"\n        ],\n        \"semantic_type\": \"\",\n        \"description\": \"\"\n      }\n    }\n  ]\n}"
            }
          },
          "metadata": {},
          "execution_count": 9
        }
      ]
    },
    {
      "cell_type": "code",
      "source": [
        "for a,b in df.iterrows():\n",
        "    print(\"----------------------------- New Table ------------------------\")\n",
        "    print (b.combined.replace('\\n\\n',' '))"
      ],
      "metadata": {
        "id": "IqA4ojzOTaNA"
      },
      "execution_count": null,
      "outputs": []
    },
    {
      "cell_type": "code",
      "source": [
        "# Connecting to Astra requires a secure connect bundle\n",
        "# upload secure connect bundle\n",
        "try:\n",
        "    from google.colab import files\n",
        "    IN_COLAB = True\n",
        "except:\n",
        "    IN_COLAB = False\n",
        "import os\n",
        "\n",
        "if IN_COLAB:\n",
        "    uploaded = files.upload()\n",
        "    if uploaded:\n",
        "        astraBundleFileTitle = list(uploaded.keys())[0]\n",
        "        ASTRA_DB_SECURE_BUNDLE_PATH = os.path.join(os.getcwd(), astraBundleFileTitle)\n",
        "    else:\n",
        "        raise ValueError(\n",
        "            'Cannot proceed without Secure Connect Bundle. Please re-run the cell.'\n",
        "        )\n",
        "else:\n",
        "    # if running in jupyter lab set path manually\n",
        "    ASTRA_DB_SECURE_BUNDLE_PATH = None"
      ],
      "metadata": {
        "id": "uODgCnY3JuX7"
      },
      "execution_count": null,
      "outputs": []
    },
    {
      "cell_type": "code",
      "source": [
        "from google.colab import userdata\n",
        "\n",
        "id = userdata.get(\"CLIENT_ID\")\n",
        "secret = userdata.get(\"CLIENT_SECRET\")"
      ],
      "metadata": {
        "id": "KkT5Ln2KPnce"
      },
      "execution_count": 9,
      "outputs": []
    },
    {
      "cell_type": "markdown",
      "metadata": {
        "id": "0cdVeuPc5vNS"
      },
      "source": [
        "### Connect via CQL"
      ]
    },
    {
      "cell_type": "code",
      "execution_count": 20,
      "metadata": {
        "id": "7FMa_WVv5vNS",
        "outputId": "adc93d40-75a6-44b9-c155-979262560927",
        "colab": {
          "base_uri": "https://localhost:8080/"
        }
      },
      "outputs": [
        {
          "output_type": "stream",
          "name": "stderr",
          "text": [
            "WARNING:cassandra.cluster:Downgrading core protocol version from 66 to 65 for 9f3cd1e5-5d53-492d-9973-3bd90c0e5234-us-east-2.db.astra.datastax.com:29042:d154bc04-52e5-49f8-a12c-99b550924b57. To avoid this, it is best practice to explicitly set Cluster(protocol_version) to the version supported by your cluster. http://datastax.github.io/python-driver/api/cassandra/cluster.html#cassandra.cluster.Cluster.protocol_version\n",
            "WARNING:cassandra.cluster:Downgrading core protocol version from 65 to 5 for 9f3cd1e5-5d53-492d-9973-3bd90c0e5234-us-east-2.db.astra.datastax.com:29042:d154bc04-52e5-49f8-a12c-99b550924b57. To avoid this, it is best practice to explicitly set Cluster(protocol_version) to the version supported by your cluster. http://datastax.github.io/python-driver/api/cassandra/cluster.html#cassandra.cluster.Cluster.protocol_version\n",
            "ERROR:cassandra.connection:Closing connection <LibevConnection(140348904391200) 9f3cd1e5-5d53-492d-9973-3bd90c0e5234-us-east-2.db.astra.datastax.com:29042:d154bc04-52e5-49f8-a12c-99b550924b57> due to protocol error: Error from server: code=000a [Protocol error] message=\"Beta version of the protocol used (5/v5-beta), but USE_BETA flag is unset\"\n",
            "WARNING:cassandra.cluster:Downgrading core protocol version from 5 to 4 for 9f3cd1e5-5d53-492d-9973-3bd90c0e5234-us-east-2.db.astra.datastax.com:29042:d154bc04-52e5-49f8-a12c-99b550924b57. To avoid this, it is best practice to explicitly set Cluster(protocol_version) to the version supported by your cluster. http://datastax.github.io/python-driver/api/cassandra/cluster.html#cassandra.cluster.Cluster.protocol_version\n"
          ]
        },
        {
          "output_type": "stream",
          "name": "stdout",
          "text": [
            "4.0.11-09ec37c912ed\n"
          ]
        }
      ],
      "source": [
        "\n",
        "from cassandra.cluster import Cluster\n",
        "from cassandra.auth import PlainTextAuthProvider\n",
        "import json\n",
        "\n",
        "# Configure cloud connection\n",
        "cloud_config = {\n",
        "    'secure_connect_bundle': ASTRA_DB_SECURE_BUNDLE_PATH\n",
        "}\n",
        "\n",
        "# Create authentication provider\n",
        "auth_provider = PlainTextAuthProvider(id, secret)\n",
        "\n",
        "# Connect to Cassandra cluster\n",
        "cluster = Cluster(cloud=cloud_config, auth_provider=auth_provider)\n",
        "# Create session\n",
        "session = cluster.connect()\n",
        "# Execute query\n",
        "row = session.execute(\"select release_version from system.local\").one()\n",
        "if row:\n",
        "    print(row[0])\n",
        "    a = session\n",
        "else:\n",
        "    print(\"An error occurred.\")\n"
      ]
    },
    {
      "cell_type": "markdown",
      "metadata": {
        "id": "PKjcVJ0eq7Pm"
      },
      "source": [
        "### OpenAI"
      ]
    },
    {
      "cell_type": "code",
      "execution_count": 25,
      "metadata": {
        "id": "rgRWo6xn5vNT"
      },
      "outputs": [],
      "source": [
        "from openai import Client\n",
        "client = Client(api_key=userdata.get(\"OPENAI_API_KEY\"))\n"
      ]
    },
    {
      "cell_type": "markdown",
      "metadata": {
        "id": "9DWU_7E-5vNT"
      },
      "source": [
        "### Embedding via Data API"
      ]
    },
    {
      "cell_type": "code",
      "source": [
        "BATCH_SIZE = 20\n",
        "MODEL_NAME = \"text-embedding-3-small\""
      ],
      "metadata": {
        "id": "whVPTpDV-dFH"
      },
      "execution_count": 26,
      "outputs": []
    },
    {
      "cell_type": "code",
      "execution_count": 17,
      "metadata": {
        "id": "IvbJgczxrhtt",
        "outputId": "f5df7e6d-0e3e-44eb-eb2a-a8ca07b18064",
        "colab": {
          "base_uri": "https://localhost:8080/"
        }
      },
      "outputs": [
        {
          "output_type": "stream",
          "name": "stdout",
          "text": [
            "Starting to vectorize data .............................................................Finished vectorizing entries.\n"
          ]
        }
      ],
      "source": [
        "import numpy as np\n",
        "\n",
        "print(\"Starting to vectorize data \", end=\"\")\n",
        "\n",
        "vectors = []\n",
        "# Loop BATCH_SIZE at the time\n",
        "for k,g in df.groupby(np.arange(len(df))//BATCH_SIZE):\n",
        "    # compute the embedding vectors for this batch\n",
        "    for vector in client.embeddings.create(input=g.combined, model=MODEL_NAME).data:\n",
        "        vectors.append(vector.embedding)\n",
        "        print(\".\", end=\"\", flush=True)\n",
        "\n",
        "vector_series  = pd.Series(vectors, name=\"vector\")\n",
        "print(\"Finished vectorizing entries.\")\n"
      ]
    },
    {
      "cell_type": "code",
      "execution_count": 18,
      "metadata": {
        "id": "s5cnRtIp5vNT",
        "outputId": "ece6997f-1670-40c5-e1d9-fb109fc27732",
        "colab": {
          "base_uri": "https://localhost:8080/"
        }
      },
      "outputs": [
        {
          "output_type": "execute_result",
          "data": {
            "text/plain": [
              "(61,)"
            ]
          },
          "metadata": {},
          "execution_count": 18
        }
      ],
      "source": [
        "vector_series.shape\n"
      ]
    },
    {
      "cell_type": "code",
      "execution_count": 24,
      "metadata": {
        "id": "g1MNCPRR5vNU",
        "outputId": "bc68ef7b-040d-4317-cb7e-0b67064b63da",
        "colab": {
          "base_uri": "https://localhost:8080/"
        }
      },
      "outputs": [
        {
          "output_type": "execute_result",
          "data": {
            "text/plain": [
              "<cassandra.cluster.ResultSet at 0x7fa576cdf7f0>"
            ]
          },
          "metadata": {},
          "execution_count": 24
        }
      ],
      "source": [
        "cql = \"use default_keyspace;\"\n",
        "session.execute(cql)\n"
      ]
    },
    {
      "cell_type": "code",
      "source": [
        "cql = \"\"\"DROP TABLE well_data;\"\"\"\n",
        "session.execute(cql)"
      ],
      "metadata": {
        "id": "546mINx1UmTj"
      },
      "execution_count": null,
      "outputs": []
    },
    {
      "cell_type": "code",
      "execution_count": null,
      "metadata": {
        "id": "kYNSgvdX5vNU"
      },
      "outputs": [],
      "source": [
        "cql = \"\"\"CREATE TABLE IF NOT EXISTS well_data (\n",
        "        id INT PRIMARY KEY,\n",
        "        source TEXT,\n",
        "        page TEXT,\n",
        "        number FLOAT,\n",
        "        text TEXT,\n",
        "        render TEXT,\n",
        "        vector VECTOR <FLOAT, 1536>\n",
        ");\"\"\"\n",
        "session.execute(cql)\n"
      ]
    },
    {
      "cell_type": "code",
      "execution_count": null,
      "metadata": {
        "id": "2WJkDaWO5vNU"
      },
      "outputs": [],
      "source": [
        "cql = \"\"\"CREATE INDEX IF NOT EXISTS vector_index ON well_data(vector);\"\"\"\n",
        "session.execute(cql)\n"
      ]
    },
    {
      "cell_type": "code",
      "execution_count": null,
      "metadata": {
        "id": "C2I_7AYB5vNU"
      },
      "outputs": [],
      "source": [
        "cql = \"truncate table well_data\"\n",
        "session.execute(cql)\n"
      ]
    },
    {
      "cell_type": "code",
      "execution_count": 25,
      "metadata": {
        "id": "M2VuC3sX5vNU"
      },
      "outputs": [],
      "source": [
        "insert_statements = []\n",
        "for line, vector in zip(df.iterrows(), vectors):\n",
        "    indx = line[0]\n",
        "    row = line[1]\n",
        "    insert_statement = f\"\"\"INSERT INTO well_data (id, source, page, number, text, render, vector) VALUES ({indx}, '{row['source']}', '{row['page']}', {row['number']}, '{row['text']}', '{row['render']}', {vector});\"\"\"\n",
        "    insert_statements.append(insert_statement)\n"
      ]
    },
    {
      "cell_type": "code",
      "execution_count": null,
      "metadata": {
        "id": "r7xtAvu55vNU"
      },
      "outputs": [],
      "source": [
        "insert_statement[:1000]\n"
      ]
    },
    {
      "cell_type": "code",
      "execution_count": null,
      "metadata": {
        "id": "cFe6MqYL5vNU"
      },
      "outputs": [],
      "source": [
        "print(\"Starting to save data \", end=\"\")\n",
        "for insert_statement in insert_statements:\n",
        "    print(\".\", end=\"\", flush=True)\n",
        "    session.execute(insert_statement)\n",
        "\n",
        "print(\"Finished saving data\", end=\"\")\n"
      ]
    },
    {
      "cell_type": "markdown",
      "metadata": {
        "id": "wNDUQcR05vNU"
      },
      "source": [
        "### Vector Search"
      ]
    },
    {
      "cell_type": "code",
      "execution_count": null,
      "metadata": {
        "id": "W148g4pWcnxn"
      },
      "outputs": [],
      "source": [
        "question = \"Considering a harmonic production decline rate seen from the two months of data, predict the Carbon Intensity at April 4, 2020 for Bandicoot 2h in terms of Tonnes of CO2e / BOE\"\n",
        "question_vector = client.embeddings.create(input=question,model=MODEL_NAME)\n",
        "\n",
        "cql = \"\"\"SELECT  source, text, render, similarity_cosine(vector, {vector})\n",
        "    FROM well_data\n",
        "    ORDER BY vector ANN OF {vector} LIMIT 10;\n",
        "\"\"\".format(vector=question_vector.data[0].embedding)\n",
        "rows = session.execute(cql)\n",
        "tables = '\\n'.join(html2text.html2text(row.text) for row in rows)\n",
        "print(tables)"
      ]
    },
    {
      "cell_type": "code",
      "source": [
        "persona = \"\"\"You are an expert analyst in Oil and Gas Industry with focus on Environmental Impact Analysis. You have intense knowledge of how well production works. you are extremely familiar with the operations, setup, machines and how to calculate output etc of these wells.\n",
        "As part of this job you are examining the environmental impact of well operations on the surrounding environment. You are particularly interested in assessing factors such as air and water pollution, habitat disruption, and overall ecosystem health.\n",
        "\n",
        "To conduct this analysis, you will be supplied with actual raw production numbers from well. based on this data please answer user question. and please try to be as elaborative as possible and explain your reasoning. Please also quote the source of your information.\n",
        "\"\"\""
      ],
      "metadata": {
        "id": "kc08D7bcVmrV"
      },
      "execution_count": 44,
      "outputs": []
    },
    {
      "cell_type": "code",
      "source": [
        "print(client.chat.completions.create(\n",
        "        messages=[\n",
        "            {\"role\": \"system\", \"content\": persona},\n",
        "            {\"role\": \"user\", \"content\": tables},\n",
        "            {\"role\": \"user\", \"content\": question}\n",
        "        ],\n",
        "        model=\"gpt-4\",\n",
        "        temperature=0.1\n",
        "    ).choices[0].message.content)"
      ],
      "metadata": {
        "colab": {
          "base_uri": "https://localhost:8080/"
        },
        "id": "F3NGVUPaRs69",
        "outputId": "a74e372c-c179-43ed-d45f-729564988fc2"
      },
      "execution_count": 45,
      "outputs": [
        {
          "output_type": "stream",
          "name": "stdout",
          "text": [
            "To predict the Carbon Intensity (CI) for Bandicoot 2h at April 4, 2020, we need to understand the concept of Carbon Intensity and the factors that influence it. Carbon Intensity is a measure of how much carbon (CO2) emissions are produced per unit of oil and gas produced (BOE - Barrel of Oil Equivalent). It is typically measured in Tonnes of CO2e (CO2 equivalent) per BOE.\n",
            "\n",
            "The Carbon Intensity can be influenced by several factors including the type of hydrocarbon being produced (oil, gas, or condensate), the production method (conventional or unconventional), the age and depth of the well, the amount of flaring and venting, and the efficiency of the equipment used in production.\n",
            "\n",
            "In the data provided, we don't have a direct measure of the Carbon Intensity for Bandicoot 2h. However, we do have data on the CO2 emissions and the Mean Daily Production in mcfd (thousand cubic feet per day). \n",
            "\n",
            "To predict the Carbon Intensity for Bandicoot 2h at April 4, 2020, we would need to make some assumptions about the decline rate of the well's production and the efficiency of the operations. \n",
            "\n",
            "Assuming a harmonic decline, the production rate decreases over time but at a decreasing rate. This means that the production rate is inversely proportional to time. \n",
            "\n",
            "If we assume that the CO2 emissions per unit of production remain constant, then the Carbon Intensity would also follow a harmonic decline. \n",
            "\n",
            "However, without specific data on the decline rate or the initial production rate, it's not possible to provide a specific prediction for the Carbon Intensity at April 4, 2020. \n",
            "\n",
            "To make this prediction, we would need to fit a harmonic decline curve to the historical production data and then use this curve to predict the production rate at April 4, 2020. We would then divide the CO2 emissions by this predicted production rate to get the Carbon Intensity.\n",
            "\n",
            "This analysis would require a more detailed dataset including the historical production rates and CO2 emissions for Bandicoot 2h. \n",
            "\n",
            "Please note that this is a simplified analysis and the actual Carbon Intensity could be influenced by many other factors not included in this analysis. For a more accurate prediction, a more detailed model including all relevant factors would be needed.\n"
          ]
        }
      ]
    }
  ],
  "metadata": {
    "colab": {
      "provenance": []
    },
    "kernelspec": {
      "display_name": "Python 3",
      "name": "python3"
    },
    "language_info": {
      "codemirror_mode": {
        "name": "ipython",
        "version": 3
      },
      "file_extension": ".py",
      "mimetype": "text/x-python",
      "name": "python",
      "nbconvert_exporter": "python",
      "pygments_lexer": "ipython3",
      "version": "3.11.8"
    }
  },
  "nbformat": 4,
  "nbformat_minor": 0
}