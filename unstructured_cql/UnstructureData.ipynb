{
  "cells": [
    {
      "cell_type": "code",
      "execution_count": null,
      "metadata": {
        "id": "OnKNED18T6XX"
      },
      "outputs": [],
      "source": [
        "%pip install -q \"unstructured[csv,xlsx]\" \"astrapy\" \"openai\" \"numpy\" \"cassandra-driver\" \"python-dotenv\"\n"
      ]
    },
    {
      "cell_type": "code",
      "execution_count": null,
      "metadata": {
        "colab": {
          "base_uri": "https://localhost:8080/"
        },
        "id": "FEmO2yqvWRvp",
        "outputId": "2ebcee46-1ab6-4ef6-ba80-723ce4b968db"
      },
      "outputs": [],
      "source": [
        "!ls -R \"data/01 SMART Methane Project Registration Samples\"\n"
      ]
    },
    {
      "cell_type": "code",
      "execution_count": 4,
      "metadata": {},
      "outputs": [
        {
          "data": {
            "text/plain": [
              "True"
            ]
          },
          "execution_count": 4,
          "metadata": {},
          "output_type": "execute_result"
        }
      ],
      "source": [
        "import os\n",
        "from dotenv import load_dotenv  \n",
        "load_dotenv()\n"
      ]
    },
    {
      "cell_type": "code",
      "execution_count": 5,
      "metadata": {
        "id": "wkCKyTvRXCrA"
      },
      "outputs": [],
      "source": [
        "import glob\n",
        "files = glob.glob(\"data/01 SMART Methane Project Registration Samples/*.xlsx\")\n"
      ]
    },
    {
      "cell_type": "code",
      "execution_count": null,
      "metadata": {
        "id": "QXJQIN-GU-rr"
      },
      "outputs": [],
      "source": [
        "from unstructured.partition.auto import partition\n",
        "from unstructured.staging.base import convert_to_dict\n",
        "from IPython.display import display, HTML\n",
        "import json\n",
        "\n",
        "def to_astradb(el):\n",
        "    return {\n",
        "          \"source\": el.metadata.filename,\n",
        "          \"page\": el.metadata.page_name,\n",
        "          \"number\": el.metadata.page_number,\n",
        "          \"text\": el.text.replace(\"'\", \"\"),\n",
        "          \"render\": el.metadata.text_as_html.replace(\"'\",\"\")\n",
        "    }\n",
        "    \n",
        "print(\"Starting to parse data: \", end=\"\")\n",
        "jsons = []\n",
        "for file in files:\n",
        "    for element in partition(filename=file):\n",
        "        print(\".\", end=\"\", flush=True)\n",
        "        if element.metadata.text_as_html is not None:\n",
        "            jsons.append(to_astradb(element))\n",
        "            \n",
        "print(\"Finished parsing data\", end=\"\")\n"
      ]
    },
    {
      "cell_type": "code",
      "execution_count": null,
      "metadata": {
        "colab": {
          "base_uri": "https://localhost:8080/"
        },
        "id": "d6zNMKMssbsf",
        "outputId": "38efed11-ff27-4035-90c2-63e14ec65ed1"
      },
      "outputs": [],
      "source": [
        "import pandas as pd\n",
        "\n",
        "df = pd.DataFrame.from_dict(jsons, orient='columns')\n",
        "df = df.dropna()\n",
        "df.info()\n"
      ]
    },
    {
      "cell_type": "markdown",
      "metadata": {},
      "source": [
        "### Connect via CQL"
      ]
    },
    {
      "cell_type": "code",
      "execution_count": null,
      "metadata": {},
      "outputs": [],
      "source": [
        "\n",
        "from cassandra.cluster import Cluster\n",
        "from cassandra.auth import PlainTextAuthProvider\n",
        "import json\n",
        "\n",
        "# Load secrets from JSON file\n",
        "with open(\"xxx-token.json\") as f:\n",
        "    secrets = json.load(f)\n",
        "\n",
        "# Extract credentials from secrets\n",
        "id = secrets.get(\"clientId\")\n",
        "secret = secrets.get(\"secret\")\n",
        "\n",
        "# Configure cloud connection\n",
        "cloud_config = {\n",
        "    'secure_connect_bundle': \"secure-connect-xxx.zip\"\n",
        "}\n",
        "\n",
        "# Create authentication provider\n",
        "auth_provider = PlainTextAuthProvider(id, secret)\n",
        "\n",
        "# Connect to Cassandra cluster\n",
        "cluster = Cluster(cloud=cloud_config, auth_provider=auth_provider)\n",
        "# Create session\n",
        "session = cluster.connect()\n",
        "# Execute query\n",
        "row = session.execute(\"select release_version from system.local\").one()\n",
        "if row:\n",
        "    print(row[0])\n",
        "    a = session\n",
        "else:\n",
        "    print(\"An error occurred.\")\n"
      ]
    },
    {
      "cell_type": "markdown",
      "metadata": {
        "id": "PKjcVJ0eq7Pm"
      },
      "source": [
        "### OpenAI"
      ]
    },
    {
      "cell_type": "code",
      "execution_count": 12,
      "metadata": {},
      "outputs": [],
      "source": [
        "from openai import Client\n",
        "client = Client(api_key=os.environ.get(\"OPENAI_API_KEY\"))\n"
      ]
    },
    {
      "cell_type": "markdown",
      "metadata": {},
      "source": [
        "### Embedding via Data API"
      ]
    },
    {
      "cell_type": "code",
      "execution_count": 13,
      "metadata": {
        "id": "IvbJgczxrhtt"
      },
      "outputs": [
        {
          "name": "stdout",
          "output_type": "stream",
          "text": [
            "Starting to vectorize data: .............................................................Finished vectorizing entries.\n"
          ]
        }
      ],
      "source": [
        "import numpy as np\n",
        "\n",
        "BATCH_SIZE = 20\n",
        "MODEL_NAME = \"text-embedding-3-small\"\n",
        "\n",
        "print(\"Starting to vectorize data \", end=\"\")\n",
        "vectors = []\n",
        "\n",
        "# Loop BATCH_SIZE at the time\n",
        "for k,g in df.groupby(np.arange(len(df))//BATCH_SIZE):\n",
        "    # compute the embedding vectors for this batch    \n",
        "    for vector in client.embeddings.create(input=g.text, model=MODEL_NAME).data:\n",
        "        vectors.append(vector.embedding)\n",
        "        print(\".\", end=\"\", flush=True)\n",
        "\n",
        "vector_series  = pd.Series(vectors, name=\"vector\")\n",
        "print(\"Finished vectorizing entries.\")\n"
      ]
    },
    {
      "cell_type": "code",
      "execution_count": null,
      "metadata": {},
      "outputs": [],
      "source": [
        "df.sample(n=10)\n"
      ]
    },
    {
      "cell_type": "code",
      "execution_count": 17,
      "metadata": {},
      "outputs": [
        {
          "data": {
            "text/plain": [
              "<cassandra.cluster.ResultSet at 0x2a3d62b10>"
            ]
          },
          "execution_count": 17,
          "metadata": {},
          "output_type": "execute_result"
        }
      ],
      "source": [
        "cql = \"use default_keyspace;\"\n",
        "session.execute(cql)\n"
      ]
    },
    {
      "cell_type": "code",
      "execution_count": 18,
      "metadata": {},
      "outputs": [
        {
          "data": {
            "text/plain": [
              "<cassandra.cluster.ResultSet at 0x2a49eda90>"
            ]
          },
          "execution_count": 18,
          "metadata": {},
          "output_type": "execute_result"
        }
      ],
      "source": [
        "cql = \"\"\"CREATE TABLE IF NOT EXISTS well_data (\n",
        "        id INT PRIMARY KEY,\n",
        "        source TEXT,\n",
        "        page TEXT,\n",
        "        number INT,\n",
        "        text TEXT,\n",
        "        render TEXT,\n",
        "        vector VECTOR <FLOAT, 1536>\n",
        ");\"\"\"\n",
        "session.execute(cql)\n"
      ]
    },
    {
      "cell_type": "code",
      "execution_count": 19,
      "metadata": {},
      "outputs": [
        {
          "data": {
            "text/plain": [
              "<cassandra.cluster.ResultSet at 0x29df8e310>"
            ]
          },
          "execution_count": 19,
          "metadata": {},
          "output_type": "execute_result"
        }
      ],
      "source": [
        "cql = \"\"\"CREATE INDEX IF NOT EXISTS vector_index ON well_data(vector);\"\"\"\n",
        "session.execute(cql)\n"
      ]
    },
    {
      "cell_type": "code",
      "execution_count": 21,
      "metadata": {},
      "outputs": [
        {
          "data": {
            "text/plain": [
              "<cassandra.cluster.ResultSet at 0x171855910>"
            ]
          },
          "execution_count": 21,
          "metadata": {},
          "output_type": "execute_result"
        }
      ],
      "source": [
        "cql = \"truncate table well_data\"\n",
        "session.execute(cql)\n"
      ]
    },
    {
      "cell_type": "code",
      "execution_count": 25,
      "metadata": {},
      "outputs": [],
      "source": [
        "insert_statements = []\n",
        "for line, vector in zip(df.iterrows(), vectors):\n",
        "    indx = line[0]\n",
        "    row = line[1]\n",
        "    insert_statement = f\"\"\"INSERT INTO well_data (id, source, page, number, text, render, vector) VALUES ({indx}, '{row['source']}', '{row['page']}', {row['number']}, '{row['text']}', '{row['render']}', {vector});\"\"\"\n",
        "    insert_statements.append(insert_statement)\n"
      ]
    },
    {
      "cell_type": "code",
      "execution_count": 26,
      "metadata": {},
      "outputs": [
        {
          "data": {
            "text/plain": [
              "\"INSERT INTO well_data (id, source, page, number, text, render, vector) VALUES (60, 'BPX Gas Quality \""
            ]
          },
          "execution_count": 26,
          "metadata": {},
          "output_type": "execute_result"
        }
      ],
      "source": [
        "insert_statement[:100]\n"
      ]
    },
    {
      "cell_type": "code",
      "execution_count": null,
      "metadata": {},
      "outputs": [],
      "source": [
        "for insert_statement in insert_statements:\n",
        "    print(insert_statement[:100])\n",
        "    session.execute(insert_statement)\n"
      ]
    },
    {
      "cell_type": "markdown",
      "metadata": {},
      "source": [
        "### Embedding manually via CQL"
      ]
    },
    {
      "cell_type": "code",
      "execution_count": null,
      "metadata": {
        "id": "W148g4pWcnxn"
      },
      "outputs": [],
      "source": [
        "question = \"meter name meter number\"\n",
        "similarity = client.embeddings.create(input=question,model=MODEL_NAME)\n",
        "spreadsheet = ''.join([doc['text'] for doc in collection.find({}, limit=10)])\n"
      ]
    },
    {
      "cell_type": "code",
      "execution_count": null,
      "metadata": {
        "colab": {
          "base_uri": "https://localhost:8080/",
          "height": 87
        },
        "id": "GBCj0PiwZVo2",
        "outputId": "a932e144-a727-4bb1-9abd-71e1964be7bd"
      },
      "outputs": [],
      "source": [
        "prompt = \"\"\"Oil and Gas Environmental Impact Analysis\n",
        "\n",
        "As an oil and gas analyst, I'm examining the environmental impact of well operations on the surrounding environment. I'm particularly interested in assessing factors such as air and water pollution, habitat disruption, and overall ecosystem health.\n",
        "\n",
        "To conduct this analysis, I'll need to gather and analyze various types of unstructured data. Answer the question based on the data available bellow.\n",
        "\n",
        "Data:\n",
        "\n",
        "{data}\n",
        "\n",
        "Question:\n",
        "{question}\n",
        "\"\"\"\n",
        "\n",
        "prompt.format(data=spreadsheet)\n"
      ]
    },
    {
      "cell_type": "code",
      "execution_count": null,
      "metadata": {
        "colab": {
          "base_uri": "https://localhost:8080/"
        },
        "id": "WcWAbonrep7K",
        "outputId": "c684db88-5787-43b6-a810-73c71b0971fb"
      },
      "outputs": [],
      "source": [
        "print(client.chat.completions.create(\n",
        "        messages=[{\n",
        "            \"role\": \"user\",\n",
        "            \"content\": prompt,\n",
        "        }],\n",
        "        model=\"gpt-3.5-turbo\",\n",
        "    ).choices[0].message.content)\n"
      ]
    },
    {
      "cell_type": "code",
      "execution_count": null,
      "metadata": {
        "colab": {
          "base_uri": "https://localhost:8080/",
          "height": 176
        },
        "id": "3aHyd99woxmR",
        "outputId": "80da8194-df46-4acf-db80-3a4cea6b38c2"
      },
      "outputs": [],
      "source": [
        "for row, vector in zip(df.iterrows(), embeddings.data):\n",
        "    print(row[1].metadata[\"filename\"] + \",\" + row[1].metadata[\"] )\n",
        "       #display(HTML(row[1]['metadata']['text_as_html']))\n"
      ]
    }
  ],
  "metadata": {
    "colab": {
      "provenance": []
    },
    "kernelspec": {
      "display_name": "Python 3",
      "name": "python3"
    },
    "language_info": {
      "codemirror_mode": {
        "name": "ipython",
        "version": 3
      },
      "file_extension": ".py",
      "mimetype": "text/x-python",
      "name": "python",
      "nbconvert_exporter": "python",
      "pygments_lexer": "ipython3",
      "version": "3.10.14"
    }
  },
  "nbformat": 4,
  "nbformat_minor": 0
}
