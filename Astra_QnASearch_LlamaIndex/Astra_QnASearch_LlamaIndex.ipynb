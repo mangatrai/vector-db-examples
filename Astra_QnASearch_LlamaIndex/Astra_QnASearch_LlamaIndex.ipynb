{
  "cells": [
    {
      "cell_type": "markdown",
      "metadata": {
        "id": "QkclVdIHP4_O"
      },
      "source": [
        "# **Setup**"
      ]
    },
    {
      "cell_type": "code",
      "execution_count": null,
      "metadata": {},
      "outputs": [],
      "source": [
        "import logging\n",
        "\n",
        "logging.basicConfig(level=logging.ERROR)"
      ]
    },
    {
      "cell_type": "code",
      "execution_count": null,
      "metadata": {
        "id": "pav-rTkz9XiS"
      },
      "outputs": [],
      "source": [
        "!pip3 install \"cassio>=0.1.0\""
      ]
    },
    {
      "cell_type": "code",
      "execution_count": null,
      "metadata": {},
      "outputs": [],
      "source": [
        "import os\n",
        "from getpass import getpass\n",
        "TRACELOOP_API_KEY = getpass(\"Please enter your TRACELOOP API Key: \")\n",
        "os.environ['TRACELOOP_API_KEY'] = TRACELOOP_API_KEY\n",
        "#print(os.getenv('TRACELOOP_API_KEY'))"
      ]
    },
    {
      "cell_type": "code",
      "execution_count": null,
      "metadata": {
        "id": "1HSMxgkn9fFF"
      },
      "outputs": [],
      "source": [
        "import llama_index\n",
        "\n",
        "from llama_index import (\n",
        "    VectorStoreIndex,\n",
        "    SimpleDirectoryReader,\n",
        "    Document,\n",
        "    StorageContext,\n",
        ")\n",
        "from llama_index.indices.query.query_transform import HyDEQueryTransform\n",
        "from llama_index.query_engine.transform_query_engine import TransformQueryEngine\n",
        "from llama_index.vector_stores import CassandraVectorStore\n",
        "from IPython.display import Markdown, display"
      ]
    },
    {
      "cell_type": "markdown",
      "metadata": {
        "id": "qGQFxcxi93J9"
      },
      "source": [
        "database connection parameters and secrets"
      ]
    },
    {
      "cell_type": "code",
      "execution_count": null,
      "metadata": {
        "colab": {
          "base_uri": "https://localhost:8080/",
          "height": 90
        },
        "id": "cWMNycp0936F",
        "outputId": "1f8a0fec-fe98-4dc3-cdb4-18327fca185f"
      },
      "outputs": [
        {
          "name": "stderr",
          "output_type": "stream",
          "text": [
            "DEBUG:cassandra.connection:Sending options message heartbeat on idle connection (5674948432) b2d68f45-7d3e-4936-a50c-b0742b34b3f5-us-east-2.db.astra.datastax.com:29042:432a9432-577d-4222-b785-4faf40272fd6\n",
            "DEBUG:cassandra.connection:Sending options message heartbeat on idle connection (5674944976) b2d68f45-7d3e-4936-a50c-b0742b34b3f5-us-east-2.db.astra.datastax.com:29042:f03b8bff-1861-4185-8d91-4e5dc70ee886\n",
            "DEBUG:cassandra.connection:Sending options message heartbeat on idle connection (5674946128) b2d68f45-7d3e-4936-a50c-b0742b34b3f5-us-east-2.db.astra.datastax.com:29042:2c823767-4e6e-4c32-ba6f-fed79fd419f1\n",
            "DEBUG:cassandra.connection:Sending options message heartbeat on idle connection (5673795216) b2d68f45-7d3e-4936-a50c-b0742b34b3f5-us-east-2.db.astra.datastax.com:29042:432a9432-577d-4222-b785-4faf40272fd6\n",
            "DEBUG:cassandra.connection:Received options response on connection (5674948432) from b2d68f45-7d3e-4936-a50c-b0742b34b3f5-us-east-2.db.astra.datastax.com:29042:432a9432-577d-4222-b785-4faf40272fd6\n",
            "DEBUG:cassandra.connection:Received options response on connection (5673795216) from b2d68f45-7d3e-4936-a50c-b0742b34b3f5-us-east-2.db.astra.datastax.com:29042:432a9432-577d-4222-b785-4faf40272fd6\n",
            "DEBUG:cassandra.connection:Received options response on connection (5674944976) from b2d68f45-7d3e-4936-a50c-b0742b34b3f5-us-east-2.db.astra.datastax.com:29042:f03b8bff-1861-4185-8d91-4e5dc70ee886\n",
            "DEBUG:cassandra.connection:Received options response on connection (5674946128) from b2d68f45-7d3e-4936-a50c-b0742b34b3f5-us-east-2.db.astra.datastax.com:29042:2c823767-4e6e-4c32-ba6f-fed79fd419f1\n"
          ]
        }
      ],
      "source": [
        "try:\n",
        "    from google.colab import files\n",
        "    IS_COLAB = True\n",
        "except ModuleNotFoundError:\n",
        "    IS_COLAB = False\n",
        "\n",
        "# Your database's Secure Connect Bundle zip file is needed:\n",
        "if IS_COLAB:\n",
        "    print('Please upload your Secure Connect Bundle zipfile: ')\n",
        "    uploaded = files.upload()\n",
        "    if uploaded:\n",
        "        astraBundleFileTitle = list(uploaded.keys())[0]\n",
        "        ASTRA_DB_SECURE_BUNDLE_PATH = os.path.join(os.getcwd(), astraBundleFileTitle)\n",
        "    else:\n",
        "        raise ValueError(\n",
        "            'Cannot proceed without Secure Connect Bundle. Please re-run the cell.'\n",
        "        )\n",
        "else:\n",
        "    # you are running a local-jupyter notebook:\n",
        "    ASTRA_DB_SECURE_BUNDLE_PATH = input(\"Please provide the full path to your Secure Connect Bundle zipfile: \")"
      ]
    },
    {
      "cell_type": "code",
      "execution_count": null,
      "metadata": {
        "colab": {
          "base_uri": "https://localhost:8080/"
        },
        "id": "qwT2OC5iEiRB",
        "outputId": "f51f9013-2435-40aa-b4bc-54470886f81c"
      },
      "outputs": [
        {
          "name": "stderr",
          "output_type": "stream",
          "text": [
            "DEBUG:cassandra.connection:Sending options message heartbeat on idle connection (5495214800) b2d68f45-7d3e-4936-a50c-b0742b34b3f5-us-east-2.db.astra.datastax.com:29042:f03b8bff-1861-4185-8d91-4e5dc70ee886\n",
            "DEBUG:cassandra.connection:Sending options message heartbeat on idle connection (5495216976) b2d68f45-7d3e-4936-a50c-b0742b34b3f5-us-east-2.db.astra.datastax.com:29042:432a9432-577d-4222-b785-4faf40272fd6\n",
            "DEBUG:cassandra.connection:Sending options message heartbeat on idle connection (5495219152) b2d68f45-7d3e-4936-a50c-b0742b34b3f5-us-east-2.db.astra.datastax.com:29042:2c823767-4e6e-4c32-ba6f-fed79fd419f1\n",
            "DEBUG:cassandra.connection:Sending options message heartbeat on idle connection (5492303824) b2d68f45-7d3e-4936-a50c-b0742b34b3f5-us-east-2.db.astra.datastax.com:29042:f03b8bff-1861-4185-8d91-4e5dc70ee886\n",
            "DEBUG:cassandra.connection:Received options response on connection (5495214800) from b2d68f45-7d3e-4936-a50c-b0742b34b3f5-us-east-2.db.astra.datastax.com:29042:f03b8bff-1861-4185-8d91-4e5dc70ee886\n",
            "DEBUG:cassandra.connection:Received options response on connection (5495216976) from b2d68f45-7d3e-4936-a50c-b0742b34b3f5-us-east-2.db.astra.datastax.com:29042:432a9432-577d-4222-b785-4faf40272fd6\n",
            "DEBUG:cassandra.connection:Received options response on connection (5495219152) from b2d68f45-7d3e-4936-a50c-b0742b34b3f5-us-east-2.db.astra.datastax.com:29042:2c823767-4e6e-4c32-ba6f-fed79fd419f1\n",
            "DEBUG:cassandra.connection:Received options response on connection (5492303824) from b2d68f45-7d3e-4936-a50c-b0742b34b3f5-us-east-2.db.astra.datastax.com:29042:f03b8bff-1861-4185-8d91-4e5dc70ee886\n",
            "DEBUG:cassandra.connection:Sending options message heartbeat on idle connection (5429420432) b2d68f45-7d3e-4936-a50c-b0742b34b3f5-us-east-2.db.astra.datastax.com:29042:f03b8bff-1861-4185-8d91-4e5dc70ee886\n",
            "DEBUG:cassandra.connection:Received options response on connection (5429420432) from b2d68f45-7d3e-4936-a50c-b0742b34b3f5-us-east-2.db.astra.datastax.com:29042:f03b8bff-1861-4185-8d91-4e5dc70ee886\n"
          ]
        }
      ],
      "source": [
        "ASTRA_DB_APPLICATION_TOKEN = getpass(\"Please provide your Database Token ('AstraCS:...' string): \")"
      ]
    },
    {
      "cell_type": "code",
      "execution_count": 77,
      "metadata": {
        "colab": {
          "base_uri": "https://localhost:8080/"
        },
        "id": "mT8-veyiEh7z",
        "outputId": "e5d7fc26-ec28-4cd8-acf9-21020b1a3b86"
      },
      "outputs": [
        {
          "name": "stderr",
          "output_type": "stream",
          "text": [
            "DEBUG:cassandra.connection:Sending options message heartbeat on idle connection (5672848592) b2d68f45-7d3e-4936-a50c-b0742b34b3f5-us-east-2.db.astra.datastax.com:29042:432a9432-577d-4222-b785-4faf40272fd6\n",
            "DEBUG:cassandra.connection:Sending options message heartbeat on idle connection (5672849616) b2d68f45-7d3e-4936-a50c-b0742b34b3f5-us-east-2.db.astra.datastax.com:29042:f03b8bff-1861-4185-8d91-4e5dc70ee886\n",
            "DEBUG:cassandra.connection:Sending options message heartbeat on idle connection (5672851792) b2d68f45-7d3e-4936-a50c-b0742b34b3f5-us-east-2.db.astra.datastax.com:29042:2c823767-4e6e-4c32-ba6f-fed79fd419f1\n",
            "DEBUG:cassandra.connection:Sending options message heartbeat on idle connection (5427602064) b2d68f45-7d3e-4936-a50c-b0742b34b3f5-us-east-2.db.astra.datastax.com:29042:432a9432-577d-4222-b785-4faf40272fd6\n",
            "DEBUG:cassandra.connection:Received options response on connection (5672848592) from b2d68f45-7d3e-4936-a50c-b0742b34b3f5-us-east-2.db.astra.datastax.com:29042:432a9432-577d-4222-b785-4faf40272fd6\n",
            "DEBUG:cassandra.connection:Received options response on connection (5672851792) from b2d68f45-7d3e-4936-a50c-b0742b34b3f5-us-east-2.db.astra.datastax.com:29042:2c823767-4e6e-4c32-ba6f-fed79fd419f1\n",
            "DEBUG:cassandra.connection:Received options response on connection (5672849616) from b2d68f45-7d3e-4936-a50c-b0742b34b3f5-us-east-2.db.astra.datastax.com:29042:f03b8bff-1861-4185-8d91-4e5dc70ee886\n",
            "DEBUG:cassandra.connection:Received options response on connection (5427602064) from b2d68f45-7d3e-4936-a50c-b0742b34b3f5-us-east-2.db.astra.datastax.com:29042:432a9432-577d-4222-b785-4faf40272fd6\n"
          ]
        }
      ],
      "source": [
        "ASTRA_DB_KEYSPACE = input(\"Please provide the Keyspace name for your Database: \")"
      ]
    },
    {
      "cell_type": "code",
      "execution_count": null,
      "metadata": {
        "colab": {
          "base_uri": "https://localhost:8080/"
        },
        "id": "H2nOTJng-hou",
        "outputId": "8ff164b9-7b25-4f75-a68a-4e11404e578c"
      },
      "outputs": [],
      "source": [
        "from cassandra.cluster import Cluster\n",
        "from cassandra.auth import PlainTextAuthProvider\n",
        "\n",
        "#Establish Connectivity\n",
        "cluster = Cluster(\n",
        "    cloud={\n",
        "        \"secure_connect_bundle\": ASTRA_DB_SECURE_BUNDLE_PATH,\n",
        "    },\n",
        "    auth_provider=PlainTextAuthProvider(\n",
        "        \"token\",\n",
        "        ASTRA_DB_APPLICATION_TOKEN,\n",
        "    ),\n",
        ")\n",
        "\n",
        "session = cluster.connect()\n",
        "keyspace = ASTRA_DB_KEYSPACE"
      ]
    },
    {
      "cell_type": "code",
      "execution_count": null,
      "metadata": {
        "colab": {
          "base_uri": "https://localhost:8080/"
        },
        "id": "6FdGc3fAFvME",
        "outputId": "1357c8b6-a0d4-41f8-cbf6-6e13fd2df2e1"
      },
      "outputs": [],
      "source": [
        "OPENAI_API_KEY = getpass(\"Please enter your OpenAI API Key: \")"
      ]
    },
    {
      "cell_type": "code",
      "execution_count": null,
      "metadata": {
        "id": "my0xLEpFF75A"
      },
      "outputs": [],
      "source": [
        "import openai\n",
        "\n",
        "openai.api_key = OPENAI_API_KEY"
      ]
    },
    {
      "cell_type": "markdown",
      "metadata": {
        "id": "GnoWrPaMHrzT"
      },
      "source": [
        "Creating and populating the Vector Store"
      ]
    },
    {
      "cell_type": "code",
      "execution_count": 81,
      "metadata": {
        "colab": {
          "base_uri": "https://localhost:8080/"
        },
        "id": "EcaOK568GA0C",
        "outputId": "617d0425-38ef-472b-80f3-d2f027edc88d"
      },
      "outputs": [
        {
          "name": "stderr",
          "output_type": "stream",
          "text": [
            "DEBUG:llama_index.readers.file.base:> [SimpleDirectoryReader] Total files added: 1\n"
          ]
        },
        {
          "name": "stdout",
          "output_type": "stream",
          "text": [
            "Total documents: 1\n",
            "First document, id: 1f3c2ae9-4f77-4025-b67f-bf1eb3305ae0\n",
            "First document, hash: 2e2d9629223c077019a6dde689049344ff2293d6c52372871420119ec049f25c\n",
            "First document, text (75014 characters):\n",
            "====================\n",
            "\n",
            "\n",
            "What I Worked On\n",
            "\n",
            "February 2021\n",
            "\n",
            "Before college the two main things I worked on, outside of school, were writing and programming. I didn't write essays. I wrote what beginning writers were supposed to write then, and probably still are: short stories. My stories were awful. They had hardly any plot, just characters with strong feelings, which I imagined made them deep.\n",
            "\n",
            "The first programs I tried writing were on the IBM 1401 that our school district used for what was then called \"data processi ...\n"
          ]
        }
      ],
      "source": [
        "# load documents\n",
        "documents = SimpleDirectoryReader(\"/Users/mangat.rai/datastax/codesample/vector/paul_graham\").load_data()\n",
        "print(f\"Total documents: {len(documents)}\")\n",
        "print(f\"First document, id: {documents[0].doc_id}\")\n",
        "print(f\"First document, hash: {documents[0].hash}\")\n",
        "print(\n",
        "    f\"First document, text ({len(documents[0].text)} characters):\\n{'='*20}\\n{documents[0].text[:500]} ...\"\n",
        ")"
      ]
    },
    {
      "cell_type": "markdown",
      "metadata": {
        "id": "sEYdZ5Y2IcLn"
      },
      "source": [
        "Initialize the Cassandra Vector Store\n",
        "\n",
        "Creation of the vector store entails creation of the underlying database table if it does not exist yet:"
      ]
    },
    {
      "cell_type": "code",
      "execution_count": 83,
      "metadata": {
        "id": "u_bmPWtiIhIl"
      },
      "outputs": [
        {
          "name": "stderr",
          "output_type": "stream",
          "text": [
            "DEBUG:llama_index.vector_stores.cassandra:Creating the Cassandra table\n",
            "DEBUG:urllib3.connectionpool:https://api.traceloop.com:443 \"POST /v1/traces HTTP/1.1\" 200 24\n",
            "DEBUG:urllib3.connectionpool:https://api.traceloop.com:443 \"POST /v1/traces HTTP/1.1\" 200 24\n"
          ]
        }
      ],
      "source": [
        "cassandra_store = CassandraVectorStore(\n",
        "    session=session,\n",
        "    keyspace=keyspace,\n",
        "    table=\"cassandra_vector_table_1\",\n",
        "    embedding_dimension=1536,\n",
        ")"
      ]
    },
    {
      "cell_type": "markdown",
      "metadata": {
        "id": "j7iH2eZIJV5r"
      },
      "source": [
        "Now wrap this store into an index LlamaIndex abstraction for later querying:\n"
      ]
    },
    {
      "cell_type": "code",
      "execution_count": null,
      "metadata": {
        "colab": {
          "base_uri": "https://localhost:8080/"
        },
        "id": "KqDuhdCoJXEo",
        "outputId": "ef5ad25c-499d-41ad-b760-77057c8b8a84"
      },
      "outputs": [
        {
          "name": "stderr",
          "output_type": "stream",
          "text": [
            "DEBUG:cassandra.connection:Sending options message heartbeat on idle connection (5674948432) b2d68f45-7d3e-4936-a50c-b0742b34b3f5-us-east-2.db.astra.datastax.com:29042:432a9432-577d-4222-b785-4faf40272fd6\n",
            "DEBUG:cassandra.connection:Sending options message heartbeat on idle connection (5674944976) b2d68f45-7d3e-4936-a50c-b0742b34b3f5-us-east-2.db.astra.datastax.com:29042:f03b8bff-1861-4185-8d91-4e5dc70ee886\n",
            "DEBUG:cassandra.connection:Sending options message heartbeat on idle connection (5674946128) b2d68f45-7d3e-4936-a50c-b0742b34b3f5-us-east-2.db.astra.datastax.com:29042:2c823767-4e6e-4c32-ba6f-fed79fd419f1\n",
            "DEBUG:cassandra.connection:Sending options message heartbeat on idle connection (5673795216) b2d68f45-7d3e-4936-a50c-b0742b34b3f5-us-east-2.db.astra.datastax.com:29042:432a9432-577d-4222-b785-4faf40272fd6\n",
            "DEBUG:cassandra.connection:Received options response on connection (5674948432) from b2d68f45-7d3e-4936-a50c-b0742b34b3f5-us-east-2.db.astra.datastax.com:29042:432a9432-577d-4222-b785-4faf40272fd6\n",
            "DEBUG:cassandra.connection:Received options response on connection (5674944976) from b2d68f45-7d3e-4936-a50c-b0742b34b3f5-us-east-2.db.astra.datastax.com:29042:f03b8bff-1861-4185-8d91-4e5dc70ee886\n",
            "DEBUG:cassandra.connection:Received options response on connection (5674946128) from b2d68f45-7d3e-4936-a50c-b0742b34b3f5-us-east-2.db.astra.datastax.com:29042:2c823767-4e6e-4c32-ba6f-fed79fd419f1\n",
            "DEBUG:cassandra.connection:Received options response on connection (5673795216) from b2d68f45-7d3e-4936-a50c-b0742b34b3f5-us-east-2.db.astra.datastax.com:29042:432a9432-577d-4222-b785-4faf40272fd6\n"
          ]
        }
      ],
      "source": [
        "storage_context = StorageContext.from_defaults(vector_store=cassandra_store)\n",
        "\n",
        "index = VectorStoreIndex.from_documents(documents, storage_context=storage_context)"
      ]
    },
    {
      "cell_type": "markdown",
      "metadata": {
        "id": "whmdFkD7JzDO"
      },
      "source": [
        "Note that the above from_documents call does several things at once: it splits the input documents into chunks of manageable size (“nodes”), computes embedding vectors for each node, and stores them all in the Cassandra Vector Store.\n",
        "\n",
        "# **Querying the store**\n",
        "\n",
        "Basic querying"
      ]
    },
    {
      "cell_type": "code",
      "execution_count": null,
      "metadata": {
        "colab": {
          "base_uri": "https://localhost:8080/"
        },
        "id": "NTLMXBMqKEJs",
        "outputId": "b8b87fb8-5b78-4a66-a2e9-636599111be5"
      },
      "outputs": [
        {
          "name": "stderr",
          "output_type": "stream",
          "text": [
            "DEBUG:cassandra.connection:Sending options message heartbeat on idle connection (5673795216) b2d68f45-7d3e-4936-a50c-b0742b34b3f5-us-east-2.db.astra.datastax.com:29042:432a9432-577d-4222-b785-4faf40272fd6\n",
            "DEBUG:cassandra.connection:Received options response on connection (5673795216) from b2d68f45-7d3e-4936-a50c-b0742b34b3f5-us-east-2.db.astra.datastax.com:29042:432a9432-577d-4222-b785-4faf40272fd6\n",
            "DEBUG:cassandra.connection:Sending options message heartbeat on idle connection (5495214800) b2d68f45-7d3e-4936-a50c-b0742b34b3f5-us-east-2.db.astra.datastax.com:29042:f03b8bff-1861-4185-8d91-4e5dc70ee886\n",
            "DEBUG:cassandra.connection:Sending options message heartbeat on idle connection (5495216976) b2d68f45-7d3e-4936-a50c-b0742b34b3f5-us-east-2.db.astra.datastax.com:29042:432a9432-577d-4222-b785-4faf40272fd6\n",
            "DEBUG:cassandra.connection:Sending options message heartbeat on idle connection (5495219152) b2d68f45-7d3e-4936-a50c-b0742b34b3f5-us-east-2.db.astra.datastax.com:29042:2c823767-4e6e-4c32-ba6f-fed79fd419f1\n",
            "DEBUG:cassandra.connection:Sending options message heartbeat on idle connection (5492303824) b2d68f45-7d3e-4936-a50c-b0742b34b3f5-us-east-2.db.astra.datastax.com:29042:f03b8bff-1861-4185-8d91-4e5dc70ee886\n",
            "DEBUG:cassandra.connection:Received options response on connection (5495214800) from b2d68f45-7d3e-4936-a50c-b0742b34b3f5-us-east-2.db.astra.datastax.com:29042:f03b8bff-1861-4185-8d91-4e5dc70ee886\n",
            "DEBUG:cassandra.connection:Received options response on connection (5495216976) from b2d68f45-7d3e-4936-a50c-b0742b34b3f5-us-east-2.db.astra.datastax.com:29042:432a9432-577d-4222-b785-4faf40272fd6\n",
            "DEBUG:cassandra.connection:Received options response on connection (5495219152) from b2d68f45-7d3e-4936-a50c-b0742b34b3f5-us-east-2.db.astra.datastax.com:29042:2c823767-4e6e-4c32-ba6f-fed79fd419f1\n",
            "DEBUG:cassandra.connection:Received options response on connection (5492303824) from b2d68f45-7d3e-4936-a50c-b0742b34b3f5-us-east-2.db.astra.datastax.com:29042:f03b8bff-1861-4185-8d91-4e5dc70ee886\n",
            "DEBUG:cassandra.connection:Sending options message heartbeat on idle connection (5429420432) b2d68f45-7d3e-4936-a50c-b0742b34b3f5-us-east-2.db.astra.datastax.com:29042:f03b8bff-1861-4185-8d91-4e5dc70ee886\n",
            "DEBUG:cassandra.connection:Received options response on connection (5429420432) from b2d68f45-7d3e-4936-a50c-b0742b34b3f5-us-east-2.db.astra.datastax.com:29042:f03b8bff-1861-4185-8d91-4e5dc70ee886\n"
          ]
        }
      ],
      "source": [
        "query_engine = index.as_query_engine(similarity_top_k=3)\n",
        "response = query_engine.query(\"Why did the author choose to work on AI?\")\n",
        "print(response.response)"
      ]
    },
    {
      "cell_type": "markdown",
      "metadata": {
        "id": "7YMCWIWZKdr8"
      },
      "source": [
        "### **MMR-based queries**\n",
        "\n",
        "The MMR (maximal marginal relevance) method is designed to fetch text chunks from the store that are at the same time relevant to the query but as different as possible from each other, with the goal of providing a broader context to the building of the final answer:"
      ]
    },
    {
      "cell_type": "code",
      "execution_count": 14,
      "metadata": {
        "colab": {
          "base_uri": "https://localhost:8080/"
        },
        "id": "VWh5aNH5Ki00",
        "outputId": "8caacd9c-9538-4048-d6cb-1a8b7239182f"
      },
      "outputs": [
        {
          "name": "stdout",
          "output_type": "stream",
          "text": [
            "The author chose to work on AI because they believed that it was a field that held the potential for creating intelligent programs. They were fascinated by the idea of teaching a program like SHRDLU to understand natural language and saw it as a way to push the boundaries of what was possible in computer science.\n"
          ]
        }
      ],
      "source": [
        "query_engine = index.as_query_engine(vector_store_query_mode=\"mmr\", mmr_prefetch_k = 3)\n",
        "response = query_engine.query(\"Why did the author choose to work on AI?\")\n",
        "print(response.response)"
      ]
    },
    {
      "cell_type": "markdown",
      "metadata": {
        "id": "-mfMdLxAXNa0"
      },
      "source": [
        "# **HyDE Query Transform**\n",
        "\n",
        "HyDE stands for Hypothetical Document Embeddings, is a technique used in semantic search to find documents based on similarities in semantic embedding. It’s a zero-shot learning technique, meaning it can make predictions about data it has not been trained on.\n",
        "\n",
        "In the context of search, HyDE works by generating a hypothetical answer to a query using a language model. This hypothetical answer is then embedded into a vector space, similar to how real documents are embedded. When a search query comes in, similar real documents are retrieved based on vector similarity to the hypothetical document. This allows for a more precise and relevant retrieval of documents, even when the exact terms used in the search query may not be present in the documents.\n",
        "\n",
        "The aim of HyDE is to improve the quality of search results by focusing on the underlying intent of the search query, rather than just the exact words used. This makes it particularly useful for tasks like question-answering, where the goal is to find the most relevant information to answer a user’s question, rather than just finding documents that contain the exact words used in the question"
      ]
    },
    {
      "cell_type": "markdown",
      "metadata": {
        "id": "SIfS2iVqX8bg"
      },
      "source": [
        "### First, we query without transformation: The same query string is used for embedding lookup and also summarization."
      ]
    },
    {
      "cell_type": "code",
      "execution_count": 15,
      "metadata": {
        "id": "gT6Xfz_KXoHs"
      },
      "outputs": [],
      "source": [
        "query_str = \"what did paul graham do after going to RISD\""
      ]
    },
    {
      "cell_type": "code",
      "execution_count": 16,
      "metadata": {
        "colab": {
          "base_uri": "https://localhost:8080/",
          "height": 64
        },
        "id": "lesL9cU4YAz5",
        "outputId": "70af4b4e-8a6a-47c6-8d43-44f0a4458f79"
      },
      "outputs": [
        {
          "data": {
            "text/markdown": [
              "<b>After going to RISD, Paul Graham's actions are not mentioned in the given context.</b>"
            ],
            "text/plain": [
              "<IPython.core.display.Markdown object>"
            ]
          },
          "metadata": {},
          "output_type": "display_data"
        }
      ],
      "source": [
        "query_engine = index.as_query_engine()\n",
        "response = query_engine.query(query_str)\n",
        "display(Markdown(f\"<b>{response}</b>\"))"
      ]
    },
    {
      "cell_type": "markdown",
      "metadata": {
        "id": "2toOSuhJYcnM"
      },
      "source": [
        "### Now, we use HyDEQueryTransform to generate a hypothetical document and use it for embedding lookup."
      ]
    },
    {
      "cell_type": "code",
      "execution_count": 17,
      "metadata": {
        "colab": {
          "base_uri": "https://localhost:8080/",
          "height": 46
        },
        "id": "x0UGyeJaYe97",
        "outputId": "7194b25f-c2e5-422a-9b75-78cf10f180be"
      },
      "outputs": [
        {
          "data": {
            "text/markdown": [
              "<b>After going to RISD, Paul Graham's actions are not mentioned in the given context information.</b>"
            ],
            "text/plain": [
              "<IPython.core.display.Markdown object>"
            ]
          },
          "metadata": {},
          "output_type": "display_data"
        }
      ],
      "source": [
        "hyde = HyDEQueryTransform(include_original=True)\n",
        "hyde_query_engine = TransformQueryEngine(query_engine, hyde)\n",
        "response = hyde_query_engine.query(query_str)\n",
        "display(Markdown(f\"<b>{response}</b>\"))"
      ]
    },
    {
      "cell_type": "markdown",
      "metadata": {
        "id": "ByZSVFPiZNId"
      },
      "source": [
        "In this example, HyDE improves output quality significantly, by hallucinating accurately what Paul Graham did after RISD (see below), and thus improving the embedding quality, and final output."
      ]
    },
    {
      "cell_type": "code",
      "execution_count": null,
      "metadata": {
        "colab": {
          "base_uri": "https://localhost:8080/",
          "height": 371
        },
        "id": "T-GN9knbZPer",
        "outputId": "c1b28085-47bd-4afe-c26e-1a7374d41293"
      },
      "outputs": [],
      "source": [
        "query_bundle = hyde(query_str)\n",
        "hyde_doc = query_bundle.embedding_strs[0]\n",
        "display(Markdown(f\"<b>{hyde_doc}</b>\"))"
      ]
    },
    {
      "cell_type": "markdown",
      "metadata": {
        "id": "6GDgQNpXKxtZ"
      },
      "source": [
        "# **Connecting to an existing store**\n",
        "\n",
        "Since this store is backed by Cassandra, it is persistent by definition. So, if you want to connect to a store that was created and populated previously, here is how:"
      ]
    },
    {
      "cell_type": "code",
      "execution_count": 16,
      "metadata": {
        "colab": {
          "base_uri": "https://localhost:8080/"
        },
        "id": "Whk_Gc-_K2ii",
        "outputId": "5ac0fdae-bd41-4353-d30f-d445e483a125"
      },
      "outputs": [
        {
          "name": "stdout",
          "output_type": "stream",
          "text": [
            "Prior to working on AI, the author studied computer science in grad school.\n"
          ]
        }
      ],
      "source": [
        "new_store_instance = CassandraVectorStore(\n",
        "    session=session,\n",
        "    keyspace=keyspace,\n",
        "    table=\"cassandra_vector_table_1\",\n",
        "    embedding_dimension=1536,\n",
        ")\n",
        "\n",
        "# Create index (from preexisting stored vectors)\n",
        "new_index_instance = VectorStoreIndex.from_vector_store(vector_store=new_store_instance)\n",
        "\n",
        "# now you can do querying, etc:\n",
        "query_engine = new_index_instance.as_query_engine(similarity_top_k=5)\n",
        "response = query_engine.query(\"What did the author study prior to working on AI?\")\n",
        "\n",
        "print(response.response)\n"
      ]
    },
    {
      "cell_type": "markdown",
      "metadata": {
        "id": "ehWLoPUpLhFk"
      },
      "source": [
        "# **Removing documents from the index**\n",
        "\n",
        "First get an explicit list of pieces of a document, or “nodes”, from a Retriever spawned from the index:"
      ]
    },
    {
      "cell_type": "code",
      "execution_count": 23,
      "metadata": {
        "colab": {
          "base_uri": "https://localhost:8080/"
        },
        "id": "8V2BmcscLlal",
        "outputId": "86068711-8453-4e83-c6e0-00b0e0d6d57d"
      },
      "outputs": [
        {
          "name": "stdout",
          "output_type": "stream",
          "text": [
            "Found 0 nodes.\n"
          ]
        }
      ],
      "source": [
        "retriever = new_index_instance.as_retriever(\n",
        "    vector_store_query_mode=\"mmr\",\n",
        "    similarity_top_k=3,\n",
        "    vector_store_kwargs={\"mmr_prefetch_factor\": 4},\n",
        ")\n",
        "nodes_with_scores = retriever.retrieve(\n",
        "    \"What did the author study prior to working on AI?\"\n",
        ")\n",
        "\n",
        "print(f\"Found {len(nodes_with_scores)} nodes.\")\n",
        "for idx, node_with_score in enumerate(nodes_with_scores):\n",
        "    print(f\"    [{idx}] score = {node_with_score.score}\")\n",
        "    print(f\"        id    = {node_with_score.node.node_id}\")\n",
        "    print(f\"        text  = {node_with_score.node.text[:90]} ...\")"
      ]
    },
    {
      "cell_type": "markdown",
      "metadata": {
        "id": "48G5-2J3MQAa"
      },
      "source": [
        "Print nodes ref_doc_id they all should have same as we inserted only one record."
      ]
    },
    {
      "cell_type": "code",
      "execution_count": 24,
      "metadata": {
        "colab": {
          "base_uri": "https://localhost:8080/"
        },
        "id": "_9Ng9jR4Mi65",
        "outputId": "bb80334e-9eea-4028-f84c-ba33d8989b1c"
      },
      "outputs": [
        {
          "name": "stdout",
          "output_type": "stream",
          "text": [
            "Nodes' ref_doc_id:\n",
            "\n"
          ]
        }
      ],
      "source": [
        "print(\"Nodes' ref_doc_id:\")\n",
        "print(\"\\n\".join([nws.node.ref_doc_id for nws in nodes_with_scores]))"
      ]
    },
    {
      "cell_type": "markdown",
      "metadata": {
        "id": "_VuRf718MrMi"
      },
      "source": [
        "If you need to remove the text file you uploaded:"
      ]
    },
    {
      "cell_type": "code",
      "execution_count": null,
      "metadata": {
        "id": "X0w5PGh0MsuM"
      },
      "outputs": [],
      "source": [
        "new_store_instance.delete(nodes_with_scores[0].node.ref_doc_id)"
      ]
    },
    {
      "cell_type": "markdown",
      "metadata": {
        "id": "l-aUDDXQMzbh"
      },
      "source": [
        "Repeat the very same query and check the results now. You should see no results being found:"
      ]
    },
    {
      "cell_type": "code",
      "execution_count": 26,
      "metadata": {
        "colab": {
          "base_uri": "https://localhost:8080/"
        },
        "id": "NWCbRlHyM0pQ",
        "outputId": "c9e3c20b-76d7-4686-e78d-b1491f79994f"
      },
      "outputs": [
        {
          "name": "stdout",
          "output_type": "stream",
          "text": [
            "Found 0 nodes.\n"
          ]
        }
      ],
      "source": [
        "nodes_with_scores = retriever.retrieve(\n",
        "    \"What did the author study prior to working on AI?\"\n",
        ")\n",
        "\n",
        "print(f\"Found {len(nodes_with_scores)} nodes.\")"
      ]
    },
    {
      "cell_type": "markdown",
      "metadata": {
        "id": "xmnyl1n6NkXA"
      },
      "source": [
        "# **Metadata filtering**\n",
        "\n",
        "The Cassandra vector store support metadata filtering in the form of exact-match key=value pairs at query time.\n",
        "\n",
        "In this demo, a single source document is loaded (the paul_graham_essay.txt text file). we will attach some custom metadata to the document to illustrate how we can can restrict queries with conditions on the metadata attached to the documents."
      ]
    },
    {
      "cell_type": "code",
      "execution_count": null,
      "metadata": {
        "id": "bbAjpLx1N4d3"
      },
      "outputs": [
        {
          "name": "stderr",
          "output_type": "stream",
          "text": [
            "DEBUG:cassandra.connection:Sending options message heartbeat on idle connection (5742125008) b2d68f45-7d3e-4936-a50c-b0742b34b3f5-us-east-2.db.astra.datastax.com:29042:432a9432-577d-4222-b785-4faf40272fd6\n",
            "DEBUG:cassandra.connection:Sending options message heartbeat on idle connection (5742122832) b2d68f45-7d3e-4936-a50c-b0742b34b3f5-us-east-2.db.astra.datastax.com:29042:f03b8bff-1861-4185-8d91-4e5dc70ee886\n",
            "DEBUG:cassandra.connection:Sending options message heartbeat on idle connection (5729154640) b2d68f45-7d3e-4936-a50c-b0742b34b3f5-us-east-2.db.astra.datastax.com:29042:2c823767-4e6e-4c32-ba6f-fed79fd419f1\n",
            "DEBUG:cassandra.connection:Sending options message heartbeat on idle connection (5730379984) b2d68f45-7d3e-4936-a50c-b0742b34b3f5-us-east-2.db.astra.datastax.com:29042:432a9432-577d-4222-b785-4faf40272fd6\n",
            "DEBUG:cassandra.connection:Received options response on connection (5742122832) from b2d68f45-7d3e-4936-a50c-b0742b34b3f5-us-east-2.db.astra.datastax.com:29042:f03b8bff-1861-4185-8d91-4e5dc70ee886\n",
            "DEBUG:cassandra.connection:Received options response on connection (5729154640) from b2d68f45-7d3e-4936-a50c-b0742b34b3f5-us-east-2.db.astra.datastax.com:29042:2c823767-4e6e-4c32-ba6f-fed79fd419f1\n",
            "DEBUG:cassandra.connection:Received options response on connection (5742125008) from b2d68f45-7d3e-4936-a50c-b0742b34b3f5-us-east-2.db.astra.datastax.com:29042:432a9432-577d-4222-b785-4faf40272fd6\n",
            "DEBUG:cassandra.connection:Received options response on connection (5730379984) from b2d68f45-7d3e-4936-a50c-b0742b34b3f5-us-east-2.db.astra.datastax.com:29042:432a9432-577d-4222-b785-4faf40272fd6\n"
          ]
        }
      ],
      "source": [
        "md_storage_context = StorageContext.from_defaults(\n",
        "    vector_store=CassandraVectorStore(\n",
        "        session=session,\n",
        "        keyspace=keyspace,\n",
        "        table=\"cassandra_vector_table_2_md\",\n",
        "        embedding_dimension=1536,\n",
        "    )\n",
        ")\n",
        "\n",
        "def my_file_metadata(file_name: str):\n",
        "    \"\"\"Depending on the input file name, associate a different metadata.\"\"\"\n",
        "    if \"essay\" in file_name:\n",
        "        source_type = \"essay\"\n",
        "    elif \"dinosaur\" in file_name:\n",
        "        # this (unfortunately) will not happen in this demo\n",
        "        source_type = \"dinos\"\n",
        "    else:\n",
        "        source_type = \"other\"\n",
        "    return {\"source_type\": source_type}\n",
        "\n",
        "\n",
        "# Load documents and build index\n",
        "md_documents = SimpleDirectoryReader(\n",
        "    \"/Users/mangat.rai/datastax/codesample/vector/paul_graham\", file_metadata=my_file_metadata\n",
        ").load_data()\n",
        "md_index = VectorStoreIndex.from_documents(\n",
        "    md_documents, storage_context=md_storage_context\n",
        ")"
      ]
    },
    {
      "cell_type": "markdown",
      "metadata": {
        "id": "HWFXjbFkPAqr"
      },
      "source": [
        "you can now add filtering to your query engine:"
      ]
    },
    {
      "cell_type": "code",
      "execution_count": null,
      "metadata": {
        "colab": {
          "base_uri": "https://localhost:8080/"
        },
        "id": "SvBx3mqcPCJJ",
        "outputId": "36231540-8ab7-4a8d-a4ba-206932c28334"
      },
      "outputs": [],
      "source": [
        "from llama_index.vector_stores.types import ExactMatchFilter, MetadataFilters\n",
        "\n",
        "md_query_engine = md_index.as_query_engine(\n",
        "    filters=MetadataFilters(\n",
        "        filters=[ExactMatchFilter(key=\"source_type\", value=\"essay\")]\n",
        "    )\n",
        ")\n",
        "md_response = md_query_engine.query(\"How long it took the author to write his thesis?\")\n",
        "print(md_response.response)\n"
      ]
    },
    {
      "cell_type": "markdown",
      "metadata": {
        "id": "yJRjgB0UPiUT"
      },
      "source": [
        "To test that the filtering is at play, try to change it to use only \"dinos\" documents… there will be no answer"
      ]
    }
  ],
  "metadata": {
    "colab": {
      "provenance": []
    },
    "kernelspec": {
      "display_name": "Python 3",
      "name": "python3"
    },
    "language_info": {
      "codemirror_mode": {
        "name": "ipython",
        "version": 3
      },
      "file_extension": ".py",
      "mimetype": "text/x-python",
      "name": "python",
      "nbconvert_exporter": "python",
      "pygments_lexer": "ipython3",
      "version": "3.11.4"
    }
  },
  "nbformat": 4,
  "nbformat_minor": 0
}
