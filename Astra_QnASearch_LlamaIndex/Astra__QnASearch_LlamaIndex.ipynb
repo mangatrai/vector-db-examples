{
  "nbformat": 4,
  "nbformat_minor": 0,
  "metadata": {
    "colab": {
      "provenance": []
    },
    "kernelspec": {
      "name": "python3",
      "display_name": "Python 3"
    },
    "language_info": {
      "name": "python"
    }
  },
  "cells": [
    {
      "cell_type": "markdown",
      "source": [
        "# **Setup**"
      ],
      "metadata": {
        "id": "QkclVdIHP4_O"
      }
    },
    {
      "cell_type": "code",
      "execution_count": null,
      "metadata": {
        "id": "pav-rTkz9XiS"
      },
      "outputs": [],
      "source": [
        "!pip install \"cassio>=0.1.0\" llama-index"
      ]
    },
    {
      "cell_type": "code",
      "source": [
        "import os\n",
        "\n",
        "from llama_index import (\n",
        "    VectorStoreIndex,\n",
        "    SimpleDirectoryReader,\n",
        "    Document,\n",
        "    StorageContext,\n",
        ")\n",
        "from llama_index.vector_stores import CassandraVectorStore"
      ],
      "metadata": {
        "id": "1HSMxgkn9fFF"
      },
      "execution_count": 11,
      "outputs": []
    },
    {
      "cell_type": "markdown",
      "source": [
        "database connection parameters and secrets"
      ],
      "metadata": {
        "id": "qGQFxcxi93J9"
      }
    },
    {
      "cell_type": "code",
      "source": [
        "import os\n",
        "from getpass import getpass\n",
        "\n",
        "try:\n",
        "    from google.colab import files\n",
        "    IS_COLAB = True\n",
        "except ModuleNotFoundError:\n",
        "    IS_COLAB = False\n",
        "\n",
        "# Your database's Secure Connect Bundle zip file is needed:\n",
        "if IS_COLAB:\n",
        "    print('Please upload your Secure Connect Bundle zipfile: ')\n",
        "    uploaded = files.upload()\n",
        "    if uploaded:\n",
        "        astraBundleFileTitle = list(uploaded.keys())[0]\n",
        "        ASTRA_DB_SECURE_BUNDLE_PATH = os.path.join(os.getcwd(), astraBundleFileTitle)\n",
        "    else:\n",
        "        raise ValueError(\n",
        "            'Cannot proceed without Secure Connect Bundle. Please re-run the cell.'\n",
        "        )\n",
        "else:\n",
        "    # you are running a local-jupyter notebook:\n",
        "    ASTRA_DB_SECURE_BUNDLE_PATH = input(\"Please provide the full path to your Secure Connect Bundle zipfile: \")"
      ],
      "metadata": {
        "id": "cWMNycp0936F",
        "colab": {
          "base_uri": "https://localhost:8080/",
          "height": 92
        },
        "outputId": "9d1b798f-67bf-49df-91f3-a78c0daa3beb"
      },
      "execution_count": 14,
      "outputs": [
        {
          "output_type": "stream",
          "name": "stdout",
          "text": [
            "Please upload your Secure Connect Bundle zipfile: \n"
          ]
        },
        {
          "output_type": "display_data",
          "data": {
            "text/plain": [
              "<IPython.core.display.HTML object>"
            ],
            "text/html": [
              "\n",
              "     <input type=\"file\" id=\"files-a1a1c33c-2ac9-4162-8e22-9bb10685afab\" name=\"files[]\" multiple disabled\n",
              "        style=\"border:none\" />\n",
              "     <output id=\"result-a1a1c33c-2ac9-4162-8e22-9bb10685afab\">\n",
              "      Upload widget is only available when the cell has been executed in the\n",
              "      current browser session. Please rerun this cell to enable.\n",
              "      </output>\n",
              "      <script>// Copyright 2017 Google LLC\n",
              "//\n",
              "// Licensed under the Apache License, Version 2.0 (the \"License\");\n",
              "// you may not use this file except in compliance with the License.\n",
              "// You may obtain a copy of the License at\n",
              "//\n",
              "//      http://www.apache.org/licenses/LICENSE-2.0\n",
              "//\n",
              "// Unless required by applicable law or agreed to in writing, software\n",
              "// distributed under the License is distributed on an \"AS IS\" BASIS,\n",
              "// WITHOUT WARRANTIES OR CONDITIONS OF ANY KIND, either express or implied.\n",
              "// See the License for the specific language governing permissions and\n",
              "// limitations under the License.\n",
              "\n",
              "/**\n",
              " * @fileoverview Helpers for google.colab Python module.\n",
              " */\n",
              "(function(scope) {\n",
              "function span(text, styleAttributes = {}) {\n",
              "  const element = document.createElement('span');\n",
              "  element.textContent = text;\n",
              "  for (const key of Object.keys(styleAttributes)) {\n",
              "    element.style[key] = styleAttributes[key];\n",
              "  }\n",
              "  return element;\n",
              "}\n",
              "\n",
              "// Max number of bytes which will be uploaded at a time.\n",
              "const MAX_PAYLOAD_SIZE = 100 * 1024;\n",
              "\n",
              "function _uploadFiles(inputId, outputId) {\n",
              "  const steps = uploadFilesStep(inputId, outputId);\n",
              "  const outputElement = document.getElementById(outputId);\n",
              "  // Cache steps on the outputElement to make it available for the next call\n",
              "  // to uploadFilesContinue from Python.\n",
              "  outputElement.steps = steps;\n",
              "\n",
              "  return _uploadFilesContinue(outputId);\n",
              "}\n",
              "\n",
              "// This is roughly an async generator (not supported in the browser yet),\n",
              "// where there are multiple asynchronous steps and the Python side is going\n",
              "// to poll for completion of each step.\n",
              "// This uses a Promise to block the python side on completion of each step,\n",
              "// then passes the result of the previous step as the input to the next step.\n",
              "function _uploadFilesContinue(outputId) {\n",
              "  const outputElement = document.getElementById(outputId);\n",
              "  const steps = outputElement.steps;\n",
              "\n",
              "  const next = steps.next(outputElement.lastPromiseValue);\n",
              "  return Promise.resolve(next.value.promise).then((value) => {\n",
              "    // Cache the last promise value to make it available to the next\n",
              "    // step of the generator.\n",
              "    outputElement.lastPromiseValue = value;\n",
              "    return next.value.response;\n",
              "  });\n",
              "}\n",
              "\n",
              "/**\n",
              " * Generator function which is called between each async step of the upload\n",
              " * process.\n",
              " * @param {string} inputId Element ID of the input file picker element.\n",
              " * @param {string} outputId Element ID of the output display.\n",
              " * @return {!Iterable<!Object>} Iterable of next steps.\n",
              " */\n",
              "function* uploadFilesStep(inputId, outputId) {\n",
              "  const inputElement = document.getElementById(inputId);\n",
              "  inputElement.disabled = false;\n",
              "\n",
              "  const outputElement = document.getElementById(outputId);\n",
              "  outputElement.innerHTML = '';\n",
              "\n",
              "  const pickedPromise = new Promise((resolve) => {\n",
              "    inputElement.addEventListener('change', (e) => {\n",
              "      resolve(e.target.files);\n",
              "    });\n",
              "  });\n",
              "\n",
              "  const cancel = document.createElement('button');\n",
              "  inputElement.parentElement.appendChild(cancel);\n",
              "  cancel.textContent = 'Cancel upload';\n",
              "  const cancelPromise = new Promise((resolve) => {\n",
              "    cancel.onclick = () => {\n",
              "      resolve(null);\n",
              "    };\n",
              "  });\n",
              "\n",
              "  // Wait for the user to pick the files.\n",
              "  const files = yield {\n",
              "    promise: Promise.race([pickedPromise, cancelPromise]),\n",
              "    response: {\n",
              "      action: 'starting',\n",
              "    }\n",
              "  };\n",
              "\n",
              "  cancel.remove();\n",
              "\n",
              "  // Disable the input element since further picks are not allowed.\n",
              "  inputElement.disabled = true;\n",
              "\n",
              "  if (!files) {\n",
              "    return {\n",
              "      response: {\n",
              "        action: 'complete',\n",
              "      }\n",
              "    };\n",
              "  }\n",
              "\n",
              "  for (const file of files) {\n",
              "    const li = document.createElement('li');\n",
              "    li.append(span(file.name, {fontWeight: 'bold'}));\n",
              "    li.append(span(\n",
              "        `(${file.type || 'n/a'}) - ${file.size} bytes, ` +\n",
              "        `last modified: ${\n",
              "            file.lastModifiedDate ? file.lastModifiedDate.toLocaleDateString() :\n",
              "                                    'n/a'} - `));\n",
              "    const percent = span('0% done');\n",
              "    li.appendChild(percent);\n",
              "\n",
              "    outputElement.appendChild(li);\n",
              "\n",
              "    const fileDataPromise = new Promise((resolve) => {\n",
              "      const reader = new FileReader();\n",
              "      reader.onload = (e) => {\n",
              "        resolve(e.target.result);\n",
              "      };\n",
              "      reader.readAsArrayBuffer(file);\n",
              "    });\n",
              "    // Wait for the data to be ready.\n",
              "    let fileData = yield {\n",
              "      promise: fileDataPromise,\n",
              "      response: {\n",
              "        action: 'continue',\n",
              "      }\n",
              "    };\n",
              "\n",
              "    // Use a chunked sending to avoid message size limits. See b/62115660.\n",
              "    let position = 0;\n",
              "    do {\n",
              "      const length = Math.min(fileData.byteLength - position, MAX_PAYLOAD_SIZE);\n",
              "      const chunk = new Uint8Array(fileData, position, length);\n",
              "      position += length;\n",
              "\n",
              "      const base64 = btoa(String.fromCharCode.apply(null, chunk));\n",
              "      yield {\n",
              "        response: {\n",
              "          action: 'append',\n",
              "          file: file.name,\n",
              "          data: base64,\n",
              "        },\n",
              "      };\n",
              "\n",
              "      let percentDone = fileData.byteLength === 0 ?\n",
              "          100 :\n",
              "          Math.round((position / fileData.byteLength) * 100);\n",
              "      percent.textContent = `${percentDone}% done`;\n",
              "\n",
              "    } while (position < fileData.byteLength);\n",
              "  }\n",
              "\n",
              "  // All done.\n",
              "  yield {\n",
              "    response: {\n",
              "      action: 'complete',\n",
              "    }\n",
              "  };\n",
              "}\n",
              "\n",
              "scope.google = scope.google || {};\n",
              "scope.google.colab = scope.google.colab || {};\n",
              "scope.google.colab._files = {\n",
              "  _uploadFiles,\n",
              "  _uploadFilesContinue,\n",
              "};\n",
              "})(self);\n",
              "</script> "
            ]
          },
          "metadata": {}
        },
        {
          "output_type": "stream",
          "name": "stdout",
          "text": [
            "Saving secure-connect-voldemort-vector.zip to secure-connect-voldemort-vector.zip\n"
          ]
        }
      ]
    },
    {
      "cell_type": "code",
      "source": [
        "ASTRA_DB_APPLICATION_TOKEN = getpass(\"Please provide your Database Token ('AstraCS:...' string): \")"
      ],
      "metadata": {
        "colab": {
          "base_uri": "https://localhost:8080/"
        },
        "id": "qwT2OC5iEiRB",
        "outputId": "bb034114-703d-490b-cdfc-16144f37d1d3"
      },
      "execution_count": 15,
      "outputs": [
        {
          "name": "stdout",
          "output_type": "stream",
          "text": [
            "Please provide your Database Token ('AstraCS:...' string): ··········\n"
          ]
        }
      ]
    },
    {
      "cell_type": "code",
      "source": [
        "ASTRA_DB_KEYSPACE = input(\"Please provide the Keyspace name for your Database: \")"
      ],
      "metadata": {
        "colab": {
          "base_uri": "https://localhost:8080/"
        },
        "id": "mT8-veyiEh7z",
        "outputId": "2afdac4e-b711-4231-b412-b5ce363b7925"
      },
      "execution_count": 16,
      "outputs": [
        {
          "name": "stdout",
          "output_type": "stream",
          "text": [
            "Please provide the Keyspace name for your Database: LlamaIndex\n"
          ]
        }
      ]
    },
    {
      "cell_type": "code",
      "source": [
        "from cassandra.cluster import Cluster\n",
        "from cassandra.auth import PlainTextAuthProvider\n",
        "\n",
        "#Establish Connectivity\n",
        "cluster = Cluster(\n",
        "    cloud={\n",
        "        \"secure_connect_bundle\": ASTRA_DB_SECURE_BUNDLE_PATH,\n",
        "    },\n",
        "    auth_provider=PlainTextAuthProvider(\n",
        "        \"token\",\n",
        "        ASTRA_DB_APPLICATION_TOKEN,\n",
        "    ),\n",
        ")\n",
        "\n",
        "session = cluster.connect()\n",
        "keyspace = ASTRA_DB_KEYSPACE"
      ],
      "metadata": {
        "colab": {
          "base_uri": "https://localhost:8080/"
        },
        "id": "H2nOTJng-hou",
        "outputId": "abc94633-988c-48fe-c8b8-48a4e7c10a96"
      },
      "execution_count": 17,
      "outputs": [
        {
          "output_type": "stream",
          "name": "stderr",
          "text": [
            "WARNING:cassandra.cluster:Downgrading core protocol version from 66 to 65 for b2d68f45-7d3e-4936-a50c-b0742b34b3f5-us-east-2.db.astra.datastax.com:29042:432a9432-577d-4222-b785-4faf40272fd6. To avoid this, it is best practice to explicitly set Cluster(protocol_version) to the version supported by your cluster. http://datastax.github.io/python-driver/api/cassandra/cluster.html#cassandra.cluster.Cluster.protocol_version\n",
            "WARNING:cassandra.cluster:Downgrading core protocol version from 65 to 5 for b2d68f45-7d3e-4936-a50c-b0742b34b3f5-us-east-2.db.astra.datastax.com:29042:432a9432-577d-4222-b785-4faf40272fd6. To avoid this, it is best practice to explicitly set Cluster(protocol_version) to the version supported by your cluster. http://datastax.github.io/python-driver/api/cassandra/cluster.html#cassandra.cluster.Cluster.protocol_version\n",
            "ERROR:cassandra.connection:Closing connection <AsyncoreConnection(137842539953120) b2d68f45-7d3e-4936-a50c-b0742b34b3f5-us-east-2.db.astra.datastax.com:29042:432a9432-577d-4222-b785-4faf40272fd6> due to protocol error: Error from server: code=000a [Protocol error] message=\"Beta version of the protocol used (5/v5-beta), but USE_BETA flag is unset\"\n",
            "WARNING:cassandra.cluster:Downgrading core protocol version from 5 to 4 for b2d68f45-7d3e-4936-a50c-b0742b34b3f5-us-east-2.db.astra.datastax.com:29042:432a9432-577d-4222-b785-4faf40272fd6. To avoid this, it is best practice to explicitly set Cluster(protocol_version) to the version supported by your cluster. http://datastax.github.io/python-driver/api/cassandra/cluster.html#cassandra.cluster.Cluster.protocol_version\n"
          ]
        }
      ]
    },
    {
      "cell_type": "code",
      "source": [
        "OPENAI_API_KEY = getpass(\"Please enter your OpenAI API Key: \")"
      ],
      "metadata": {
        "colab": {
          "base_uri": "https://localhost:8080/"
        },
        "id": "6FdGc3fAFvME",
        "outputId": "b7f22a40-8a72-4f07-f60a-f1ca8c2e02f6"
      },
      "execution_count": 18,
      "outputs": [
        {
          "name": "stdout",
          "output_type": "stream",
          "text": [
            "Please enter your OpenAI API Key: ··········\n"
          ]
        }
      ]
    },
    {
      "cell_type": "code",
      "source": [
        "import openai\n",
        "\n",
        "openai.api_key = OPENAI_API_KEY"
      ],
      "metadata": {
        "id": "my0xLEpFF75A"
      },
      "execution_count": 19,
      "outputs": []
    },
    {
      "cell_type": "markdown",
      "source": [
        "Creating and populating the Vector Store"
      ],
      "metadata": {
        "id": "GnoWrPaMHrzT"
      }
    },
    {
      "cell_type": "code",
      "source": [
        "# load documents\n",
        "documents = SimpleDirectoryReader(\"/content/paul_graham\").load_data()\n",
        "print(f\"Total documents: {len(documents)}\")\n",
        "print(f\"First document, id: {documents[0].doc_id}\")\n",
        "print(f\"First document, hash: {documents[0].hash}\")\n",
        "print(\n",
        "    f\"First document, text ({len(documents[0].text)} characters):\\n{'='*20}\\n{documents[0].text[:360]} ...\"\n",
        ")"
      ],
      "metadata": {
        "colab": {
          "base_uri": "https://localhost:8080/"
        },
        "id": "EcaOK568GA0C",
        "outputId": "5d67086a-17b8-4027-a50e-0348eef0048a"
      },
      "execution_count": 22,
      "outputs": [
        {
          "output_type": "stream",
          "name": "stdout",
          "text": [
            "Total documents: 1\n",
            "First document, id: 5364256d-d5cc-4a62-acd2-73fe7aa52784\n",
            "First document, hash: 2e2d9629223c077019a6dde689049344ff2293d6c52372871420119ec049f25c\n",
            "First document, text (75014 characters):\n",
            "====================\n",
            "\n",
            "\n",
            "What I Worked On\n",
            "\n",
            "February 2021\n",
            "\n",
            "Before college the two main things I worked on, outside of school, were writing and programming. I didn't write essays. I wrote what beginning writers were supposed to write then, and probably still are: short stories. My stories were awful. They had hardly any plot, just characters with strong feelings, which I imagined ma ...\n"
          ]
        }
      ]
    },
    {
      "cell_type": "markdown",
      "source": [
        "Initialize the Cassandra Vector Store\n",
        "\n",
        "Creation of the vector store entails creation of the underlying database table if it does not exist yet:"
      ],
      "metadata": {
        "id": "sEYdZ5Y2IcLn"
      }
    },
    {
      "cell_type": "code",
      "source": [
        "cassandra_store = CassandraVectorStore(\n",
        "    session=session,\n",
        "    keyspace=keyspace,\n",
        "    table=\"cassandra_vector_table_1\",\n",
        "    embedding_dimension=1536,\n",
        ")"
      ],
      "metadata": {
        "id": "u_bmPWtiIhIl"
      },
      "execution_count": 24,
      "outputs": []
    },
    {
      "cell_type": "markdown",
      "source": [
        "Now wrap this store into an index LlamaIndex abstraction for later querying:\n"
      ],
      "metadata": {
        "id": "j7iH2eZIJV5r"
      }
    },
    {
      "cell_type": "code",
      "source": [
        "storage_context = StorageContext.from_defaults(vector_store=cassandra_store)\n",
        "\n",
        "index = VectorStoreIndex.from_documents(documents, storage_context=storage_context)"
      ],
      "metadata": {
        "colab": {
          "base_uri": "https://localhost:8080/"
        },
        "id": "KqDuhdCoJXEo",
        "outputId": "0587e36a-5c1f-40f0-cec2-8b7a15387c1e"
      },
      "execution_count": 25,
      "outputs": [
        {
          "output_type": "stream",
          "name": "stderr",
          "text": [
            "[nltk_data] Downloading package punkt to /tmp/llama_index...\n",
            "[nltk_data]   Unzipping tokenizers/punkt.zip.\n"
          ]
        }
      ]
    },
    {
      "cell_type": "markdown",
      "source": [
        "Note that the above from_documents call does several things at once: it splits the input documents into chunks of manageable size (“nodes”), computes embedding vectors for each node, and stores them all in the Cassandra Vector Store.\n",
        "\n",
        "# **Querying the store**\n",
        "\n",
        "Basic querying"
      ],
      "metadata": {
        "id": "whmdFkD7JzDO"
      }
    },
    {
      "cell_type": "code",
      "source": [
        "query_engine = index.as_query_engine()\n",
        "response = query_engine.query(\"Why did the author choose to work on AI?\")\n",
        "print(response.response)"
      ],
      "metadata": {
        "colab": {
          "base_uri": "https://localhost:8080/"
        },
        "id": "NTLMXBMqKEJs",
        "outputId": "b964469a-7620-46d0-f590-3e63cc1bbe7f"
      },
      "execution_count": 26,
      "outputs": [
        {
          "output_type": "stream",
          "name": "stdout",
          "text": [
            "The author chose to work on AI because they were inspired by a novel called \"The Moon is a Harsh Mistress\" by Heinlein, which featured an intelligent computer called Mike. Additionally, they were influenced by a PBS documentary that showed Terry Winograd using SHRDLU, a program that the author believed could be improved by teaching it more words.\n"
          ]
        }
      ]
    },
    {
      "cell_type": "markdown",
      "source": [
        "### **MMR-based queries**\n",
        "\n",
        "The MMR (maximal marginal relevance) method is designed to fetch text chunks from the store that are at the same time relevant to the query but as different as possible from each other, with the goal of providing a broader context to the building of the final answer:"
      ],
      "metadata": {
        "id": "7YMCWIWZKdr8"
      }
    },
    {
      "cell_type": "code",
      "source": [
        "query_engine = index.as_query_engine(vector_store_query_mode=\"mmr\")\n",
        "response = query_engine.query(\"Why did the author choose to work on AI?\")\n",
        "print(response.response)"
      ],
      "metadata": {
        "colab": {
          "base_uri": "https://localhost:8080/"
        },
        "id": "VWh5aNH5Ki00",
        "outputId": "f7bc1627-2413-4c97-e904-31f9f6565150"
      },
      "execution_count": 27,
      "outputs": [
        {
          "output_type": "stream",
          "name": "stdout",
          "text": [
            "The author chose to work on AI because they believed that it was a field that held promise and potential for advancing the understanding of natural language and intelligence. They were initially drawn to AI because of their fascination with the program SHRDLU, which they considered to be a step towards achieving intelligence. However, as they delved deeper into the field, they realized that the existing approaches to AI, which involved explicit data structures and formal representations, were not effective in truly understanding natural language. Despite this realization, the author still found value in working on AI and decided to focus on Lisp, a programming language associated with AI, as they believed it was interesting in its own right.\n"
          ]
        }
      ]
    },
    {
      "cell_type": "markdown",
      "source": [
        "# **Connecting to an existing store**\n",
        "\n",
        "Since this store is backed by Cassandra, it is persistent by definition. So, if you want to connect to a store that was created and populated previously, here is how:"
      ],
      "metadata": {
        "id": "6GDgQNpXKxtZ"
      }
    },
    {
      "cell_type": "code",
      "source": [
        "new_store_instance = CassandraVectorStore(\n",
        "    session=session,\n",
        "    keyspace=keyspace,\n",
        "    table=\"cassandra_vector_table_1\",\n",
        "    embedding_dimension=1536,\n",
        ")\n",
        "\n",
        "# Create index (from preexisting stored vectors)\n",
        "new_index_instance = VectorStoreIndex.from_vector_store(vector_store=new_store_instance)\n",
        "\n",
        "# now you can do querying, etc:\n",
        "query_engine = index.as_query_engine(similarity_top_k=5)\n",
        "response = query_engine.query(\"What did the author study prior to working on AI?\")\n",
        "\n",
        "print(response.response)\n"
      ],
      "metadata": {
        "colab": {
          "base_uri": "https://localhost:8080/"
        },
        "id": "Whk_Gc-_K2ii",
        "outputId": "f01059d7-8a64-444b-991e-7d1f8a23321e"
      },
      "execution_count": 33,
      "outputs": [
        {
          "output_type": "stream",
          "name": "stdout",
          "text": [
            "The author studied art prior to working on AI.\n"
          ]
        }
      ]
    },
    {
      "cell_type": "markdown",
      "source": [
        "# **Removing documents from the index**\n",
        "\n",
        "First get an explicit list of pieces of a document, or “nodes”, from a Retriever spawned from the index:"
      ],
      "metadata": {
        "id": "ehWLoPUpLhFk"
      }
    },
    {
      "cell_type": "code",
      "source": [
        "retriever = new_index_instance.as_retriever(\n",
        "    vector_store_query_mode=\"mmr\",\n",
        "    similarity_top_k=3,\n",
        "    vector_store_kwargs={\"mmr_prefetch_factor\": 4},\n",
        ")\n",
        "nodes_with_scores = retriever.retrieve(\n",
        "    \"What did the author study prior to working on AI?\"\n",
        ")\n",
        "\n",
        "print(f\"Found {len(nodes_with_scores)} nodes.\")\n",
        "for idx, node_with_score in enumerate(nodes_with_scores):\n",
        "    print(f\"    [{idx}] score = {node_with_score.score}\")\n",
        "    print(f\"        id    = {node_with_score.node.node_id}\")\n",
        "    print(f\"        text  = {node_with_score.node.text[:90]} ...\")"
      ],
      "metadata": {
        "colab": {
          "base_uri": "https://localhost:8080/"
        },
        "id": "8V2BmcscLlal",
        "outputId": "86068711-8453-4e83-c6e0-00b0e0d6d57d"
      },
      "execution_count": 34,
      "outputs": [
        {
          "output_type": "stream",
          "name": "stdout",
          "text": [
            "Found 3 nodes.\n",
            "    [0] score = 0.4293121408693589\n",
            "        id    = 57c1b2d3-0ef0-4c93-8707-24be53f3045a\n",
            "        text  = What I Worked On\n",
            "\n",
            "February 2021\n",
            "\n",
            "Before college the two main things I worked on, outside o ...\n",
            "    [1] score = 0.002232291606439618\n",
            "        id    = d0509622-bf5d-482b-a70c-f357effc31a7\n",
            "        text  = Now all I had to do was learn Italian.\n",
            "\n",
            "Only stranieri (foreigners) had to take this entra ...\n",
            "    [2] score = 0.02296870053065997\n",
            "        id    = f6abf4c1-a1f2-428e-862a-407409edd3d8\n",
            "        text  = All you had to do was teach SHRDLU more words.\n",
            "\n",
            "There weren't any classes in AI at Cornell ...\n"
          ]
        }
      ]
    },
    {
      "cell_type": "markdown",
      "source": [
        "Print nodes ref_doc_id they all should have same as we inserted only one record."
      ],
      "metadata": {
        "id": "48G5-2J3MQAa"
      }
    },
    {
      "cell_type": "code",
      "source": [
        "print(\"Nodes' ref_doc_id:\")\n",
        "print(\"\\n\".join([nws.node.ref_doc_id for nws in nodes_with_scores]))"
      ],
      "metadata": {
        "colab": {
          "base_uri": "https://localhost:8080/"
        },
        "id": "_9Ng9jR4Mi65",
        "outputId": "bb80334e-9eea-4028-f84c-ba33d8989b1c"
      },
      "execution_count": 35,
      "outputs": [
        {
          "output_type": "stream",
          "name": "stdout",
          "text": [
            "Nodes' ref_doc_id:\n",
            "5364256d-d5cc-4a62-acd2-73fe7aa52784\n",
            "5364256d-d5cc-4a62-acd2-73fe7aa52784\n",
            "5364256d-d5cc-4a62-acd2-73fe7aa52784\n"
          ]
        }
      ]
    },
    {
      "cell_type": "markdown",
      "source": [
        "If you need to remove the text file you uploaded:"
      ],
      "metadata": {
        "id": "_VuRf718MrMi"
      }
    },
    {
      "cell_type": "code",
      "source": [
        "new_store_instance.delete(nodes_with_scores[0].node.ref_doc_id)"
      ],
      "metadata": {
        "id": "X0w5PGh0MsuM"
      },
      "execution_count": 36,
      "outputs": []
    },
    {
      "cell_type": "markdown",
      "source": [
        "Repeat the very same query and check the results now. You should see no results being found:"
      ],
      "metadata": {
        "id": "l-aUDDXQMzbh"
      }
    },
    {
      "cell_type": "code",
      "source": [
        "nodes_with_scores = retriever.retrieve(\n",
        "    \"What did the author study prior to working on AI?\"\n",
        ")\n",
        "\n",
        "print(f\"Found {len(nodes_with_scores)} nodes.\")"
      ],
      "metadata": {
        "colab": {
          "base_uri": "https://localhost:8080/"
        },
        "id": "NWCbRlHyM0pQ",
        "outputId": "c9e3c20b-76d7-4686-e78d-b1491f79994f"
      },
      "execution_count": 37,
      "outputs": [
        {
          "output_type": "stream",
          "name": "stdout",
          "text": [
            "Found 0 nodes.\n"
          ]
        }
      ]
    },
    {
      "cell_type": "markdown",
      "source": [
        "# **Metadata filtering**\n",
        "\n",
        "The Cassandra vector store support metadata filtering in the form of exact-match key=value pairs at query time.\n",
        "\n",
        "In this demo, a single source document is loaded (the paul_graham_essay.txt text file). we will attach some custom metadata to the document to illustrate how we can can restrict queries with conditions on the metadata attached to the documents."
      ],
      "metadata": {
        "id": "xmnyl1n6NkXA"
      }
    },
    {
      "cell_type": "code",
      "source": [
        "md_storage_context = StorageContext.from_defaults(\n",
        "    vector_store=CassandraVectorStore(\n",
        "        session=session,\n",
        "        keyspace=keyspace,\n",
        "        table=\"cassandra_vector_table_2_md\",\n",
        "        embedding_dimension=1536,\n",
        "    )\n",
        ")\n",
        "\n",
        "\n",
        "def my_file_metadata(file_name: str):\n",
        "    \"\"\"Depending on the input file name, associate a different metadata.\"\"\"\n",
        "    if \"essay\" in file_name:\n",
        "        source_type = \"essay\"\n",
        "    elif \"dinosaur\" in file_name:\n",
        "        # this (unfortunately) will not happen in this demo\n",
        "        source_type = \"dinos\"\n",
        "    else:\n",
        "        source_type = \"other\"\n",
        "    return {\"source_type\": source_type}\n",
        "\n",
        "\n",
        "# Load documents and build index\n",
        "md_documents = SimpleDirectoryReader(\n",
        "    \"/content/paul_graham\", file_metadata=my_file_metadata\n",
        ").load_data()\n",
        "md_index = VectorStoreIndex.from_documents(\n",
        "    md_documents, storage_context=md_storage_context\n",
        ")"
      ],
      "metadata": {
        "id": "bbAjpLx1N4d3"
      },
      "execution_count": 38,
      "outputs": []
    },
    {
      "cell_type": "markdown",
      "source": [
        "you can now add filtering to your query engine:"
      ],
      "metadata": {
        "id": "HWFXjbFkPAqr"
      }
    },
    {
      "cell_type": "code",
      "source": [
        "from llama_index.vector_stores.types import ExactMatchFilter, MetadataFilters\n",
        "\n",
        "md_query_engine = md_index.as_query_engine(\n",
        "    filters=MetadataFilters(\n",
        "        filters=[ExactMatchFilter(key=\"source_type\", value=\"essay\")]\n",
        "    )\n",
        ")\n",
        "md_response = md_query_engine.query(\"How long it took the author to write his thesis?\")\n",
        "print(md_response.response)\n"
      ],
      "metadata": {
        "colab": {
          "base_uri": "https://localhost:8080/"
        },
        "id": "SvBx3mqcPCJJ",
        "outputId": "2890bc20-7887-4452-cdd5-f44ec6d53126"
      },
      "execution_count": 40,
      "outputs": [
        {
          "output_type": "stream",
          "name": "stdout",
          "text": [
            "Empty Response\n"
          ]
        }
      ]
    },
    {
      "cell_type": "markdown",
      "source": [
        "To test that the filtering is at play, try to change it to use only \"dinos\" documents… there will be no answer"
      ],
      "metadata": {
        "id": "yJRjgB0UPiUT"
      }
    }
  ]
}